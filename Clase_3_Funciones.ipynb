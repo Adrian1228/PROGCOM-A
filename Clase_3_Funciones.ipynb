{
  "nbformat": 4,
  "nbformat_minor": 0,
  "metadata": {
    "colab": {
      "provenance": [],
      "authorship_tag": "ABX9TyNJ7a0ARURI3FET/soXAKVd",
      "include_colab_link": true
    },
    "kernelspec": {
      "name": "python3",
      "display_name": "Python 3"
    },
    "language_info": {
      "name": "python"
    }
  },
  "cells": [
    {
      "cell_type": "markdown",
      "metadata": {
        "id": "view-in-github",
        "colab_type": "text"
      },
      "source": [
        "<a href=\"https://colab.research.google.com/github/Adrian1228/PROGCOM-A/blob/main/Clase_3_Funciones.ipynb\" target=\"_parent\"><img src=\"https://colab.research.google.com/assets/colab-badge.svg\" alt=\"Open In Colab\"/></a>"
      ]
    },
    {
      "cell_type": "markdown",
      "source": [
        "#FUNCIONES\n",
        "Copiado dinámico.\n",
        "Dio nacimiento a un nuevo paradigma de programación llamado programación modular.\n",
        "\n",
        "##Forma general de programar funciones.\n",
        "\n",
        "\n",
        "```\n",
        "def (nombre_de_funcion)(p,p2,p3...n):\n",
        "  donde p, p2, p3...pn: son parámetros\n",
        "```\n",
        "\n"
      ],
      "metadata": {
        "id": "cKuNutmF4x5a"
      }
    },
    {
      "cell_type": "markdown",
      "source": [
        "1. list()\n",
        "2. len()\n",
        "3. print()\n",
        "4. append()#POO Método\n",
        "5. int()\n",
        "6. input()"
      ],
      "metadata": {
        "id": "mOtBTlMO6Yn4"
      }
    },
    {
      "cell_type": "markdown",
      "source": [
        "##Tipos de funciones\n",
        "1. Sin parámetros, sin retorno\n",
        "2. Sin parámetros, con retorno\n",
        "3. Con parámetros, sin retorno\n",
        "4. Con parámetros, con retorno"
      ],
      "metadata": {
        "id": "qE8TtOUh7hln"
      }
    },
    {
      "cell_type": "markdown",
      "source": [
        "###1. Sin parámetros, sin retorno\n",
        "Se emplea como copiado dinámico"
      ],
      "metadata": {
        "id": "1Mz5jlbJ-QgN"
      }
    },
    {
      "cell_type": "code",
      "execution_count": null,
      "metadata": {
        "id": "WGK6q8ua4om2"
      },
      "outputs": [],
      "source": [
        "\n"
      ]
    },
    {
      "cell_type": "code",
      "source": [
        "#Ejemplo: Entrada de cajero electrónico\n",
        "def cajero (): #Esto significa que es sin parámetros.\n",
        "  print(\"Bienvenido a DaviUNAB\")\n",
        "  print(\"Estas son las operaciones que puede realizar:\")\n",
        "  print(\"1. Retirar\\n2. Transferencia\\n3. Denunciar\\n4. Operación sin tarjeta\")"
      ],
      "metadata": {
        "id": "EZBpW3FS82GZ"
      },
      "execution_count": null,
      "outputs": []
    },
    {
      "cell_type": "code",
      "source": [
        "cajero()"
      ],
      "metadata": {
        "colab": {
          "base_uri": "https://localhost:8080/"
        },
        "id": "oxLQfFxa8LJ_",
        "outputId": "3be1970d-a01b-46b7-ed49-a39463ce386b"
      },
      "execution_count": null,
      "outputs": [
        {
          "name": "stdout",
          "output_type": "stream",
          "text": [
            "Bienvenido a DaviUNAB\n",
            "Estas son las operaciones que puede realizar:\n",
            "1. Retirar\n",
            "2.Transferencia\n",
            "3. Denunciar\n",
            "4. Operación sin tarjeta\n",
            "Ingrese una opción 3\n"
          ]
        }
      ]
    },
    {
      "cell_type": "markdown",
      "source": [
        "###2. sin parametros, con retorno"
      ],
      "metadata": {
        "id": "OEk55zdx_SJm"
      }
    },
    {
      "cell_type": "code",
      "source": [
        "def cajero2 ():\n",
        "  print(\"Bienvenido a DaviUNAB\")\n",
        "  print(\"Estas son las operaciones que puede realizar:\")\n",
        "  print(\"1. Retirar\\n2.Transferencia\\n3. Denunciar\\n4. Operación sin tarjeta\")\n",
        "  rta=input(\"Ingrese una opción \") #Variable local\n",
        "  return rta #Vuelve una variable local a global"
      ],
      "metadata": {
        "id": "TpPQc4QX_QjM"
      },
      "execution_count": null,
      "outputs": []
    },
    {
      "cell_type": "code",
      "source": [
        "rta=\n",
        "cajero2()"
      ],
      "metadata": {
        "colab": {
          "base_uri": "https://localhost:8080/"
        },
        "id": "xDHiAhqyAAxM",
        "outputId": "473ece6d-c45d-4775-bfd3-a9a3c2c640f2"
      },
      "execution_count": null,
      "outputs": [
        {
          "name": "stdout",
          "output_type": "stream",
          "text": [
            "Bienvenido a DaviUNAB\n",
            "Estas son las operaciones que puede realizar:\n",
            "1. Retirar\n",
            "2.Transferencia\n",
            "3. Denunciar\n",
            "4. Operación sin tarjeta\n",
            "Ingrese una opción 3\n"
          ]
        }
      ]
    },
    {
      "cell_type": "code",
      "source": [
        "type(rta)"
      ],
      "metadata": {
        "colab": {
          "base_uri": "https://localhost:8080/"
        },
        "id": "zhrKly_BAJVG",
        "outputId": "c789f1d0-aded-4c0f-fff4-2ef0b7d2adf5"
      },
      "execution_count": null,
      "outputs": [
        {
          "output_type": "execute_result",
          "data": {
            "text/plain": [
              "str"
            ]
          },
          "metadata": {},
          "execution_count": 26
        }
      ]
    },
    {
      "cell_type": "markdown",
      "source": [
        "3. Con parámetros, sin retorno"
      ],
      "metadata": {
        "id": "APWzECRoBXkC"
      }
    },
    {
      "cell_type": "code",
      "source": [
        "#Ejemplo: el aréa de un rectángulo\n",
        "def area_rectangulo(u, du):\n",
        "  return(f\"El aréa de un rectángulo de base {u} y altura {du} es {u*du}\")"
      ],
      "metadata": {
        "id": "blrd1W9DBaGa"
      },
      "execution_count": null,
      "outputs": []
    },
    {
      "cell_type": "code",
      "source": [
        "area_rectangulo(10,15)"
      ],
      "metadata": {
        "colab": {
          "base_uri": "https://localhost:8080/",
          "height": 35
        },
        "id": "xLRDKym1CBmT",
        "outputId": "f1ce9c64-00ea-4b04-b344-db4b93f05711"
      },
      "execution_count": null,
      "outputs": [
        {
          "output_type": "execute_result",
          "data": {
            "text/plain": [
              "'El aréa de un rectángulo de base 10 y altura 15 es 150'"
            ],
            "application/vnd.google.colaboratory.intrinsic+json": {
              "type": "string"
            }
          },
          "metadata": {},
          "execution_count": 37
        }
      ]
    },
    {
      "cell_type": "code",
      "source": [
        "print(a)"
      ],
      "metadata": {
        "colab": {
          "base_uri": "https://localhost:8080/"
        },
        "id": "B6E4_L3ADRGI",
        "outputId": "0e8ab82f-2564-4d0b-975a-20689617aa1b"
      },
      "execution_count": null,
      "outputs": [
        {
          "output_type": "stream",
          "name": "stdout",
          "text": [
            "El aréa de un rectángulo de base 10 y altura 15 es 150\n"
          ]
        }
      ]
    },
    {
      "cell_type": "code",
      "source": [
        "type(a)"
      ],
      "metadata": {
        "colab": {
          "base_uri": "https://localhost:8080/"
        },
        "id": "ThIpdp93EG7I",
        "outputId": "c1b2cac5-8e6b-4edd-e90c-6a5445bfed28"
      },
      "execution_count": null,
      "outputs": [
        {
          "output_type": "execute_result",
          "data": {
            "text/plain": [
              "str"
            ]
          },
          "metadata": {},
          "execution_count": 38
        }
      ]
    },
    {
      "cell_type": "markdown",
      "source": [
        "##FUNCIONES ANÓNIMAS O LAMBDA\n",
        "1.  Siempre usan parámetros\n",
        "2.  Siempre genera retorno\n",
        "3. No tiene nombre --> anónimas\n",
        "4. **Se puede emplear n parámetros, pero sólo ejecuta una línea de código**\n",
        "###Definicón de funciones LAMBDA\n",
        "\n",
        "\n",
        "```\n",
        "variable=lambda (p,p1,p2,..., pn):\n",
        "operación\n",
        "```\n",
        "\n"
      ],
      "metadata": {
        "id": "p1vtDWAEEvPY"
      }
    },
    {
      "cell_type": "code",
      "source": [
        "#Ejemplo: Calcular el área de un triángulo\n",
        "area_triangulo=lambda a,b:a*b/2"
      ],
      "metadata": {
        "id": "0s8M9slhEuoB"
      },
      "execution_count": null,
      "outputs": []
    },
    {
      "cell_type": "code",
      "source": [
        "area_triangulo(3,8)"
      ],
      "metadata": {
        "colab": {
          "base_uri": "https://localhost:8080/"
        },
        "id": "zGVPBtTnGVWG",
        "outputId": "bef64f94-3743-4cd2-9aea-1f63de3e79bb"
      },
      "execution_count": null,
      "outputs": [
        {
          "output_type": "execute_result",
          "data": {
            "text/plain": [
              "12.0"
            ]
          },
          "metadata": {},
          "execution_count": 40
        }
      ]
    },
    {
      "cell_type": "code",
      "source": [
        "x=int(input(\"Ingrese la altura de un triángulo\"))\n",
        "y=int/input(\"Ingrese la base de un triángulo\")"
      ],
      "metadata": {
        "id": "0-dHFnANG99Q"
      },
      "execution_count": null,
      "outputs": []
    },
    {
      "cell_type": "markdown",
      "source": [
        "##1"
      ],
      "metadata": {
        "id": "TxA-owdrHgGW"
      }
    },
    {
      "cell_type": "code",
      "source": [
        "#Ejemplo: Calculor el área de un circulo\n",
        "area_circulo=lambda r: 3.14*(r**2)"
      ],
      "metadata": {
        "id": "TVNu-5yHHKhh"
      },
      "execution_count": null,
      "outputs": []
    },
    {
      "cell_type": "code",
      "source": [
        "area_circulo(3)"
      ],
      "metadata": {
        "colab": {
          "base_uri": "https://localhost:8080/"
        },
        "id": "M6smyqWCHXeG",
        "outputId": "da3a13f5-7193-439c-b6d7-471fce54ee67"
      },
      "execution_count": null,
      "outputs": [
        {
          "output_type": "execute_result",
          "data": {
            "text/plain": [
              "28.26"
            ]
          },
          "metadata": {},
          "execution_count": 73
        }
      ]
    },
    {
      "cell_type": "code",
      "source": [
        "#Ejemplo: Cual de 3 números es el mayor\n",
        "n1=int(input(\"Ingrese un número: \"))\n",
        "n2=int(input(\"Ingrese otro número: \"))\n",
        "n3=int(input(\"Ingrese otro número: \"))\n",
        "if n1 > n2 and n1 > n3:\n",
        "  print(f\"El mayor de los 3 números es {n1}\")\n",
        "elif n2 > n1 and n2 > n3:\n",
        "  print(f\"El mayor de los 3 números es {n2}\")\n",
        "else:\n",
        "  print(f\"El mayor de los 3 números es {n3}\")"
      ],
      "metadata": {
        "colab": {
          "base_uri": "https://localhost:8080/"
        },
        "id": "pvkI_Bv1JoRo",
        "outputId": "3d774c57-46c1-449e-db5e-dd33fff91707"
      },
      "execution_count": null,
      "outputs": [
        {
          "output_type": "stream",
          "name": "stdout",
          "text": [
            "Ingrese un número: 3\n",
            "Ingrese otro número: 4\n",
            "Ingrese otro número: 5\n",
            "El mayor de los 3 números es 5\n"
          ]
        }
      ]
    },
    {
      "cell_type": "code",
      "source": [
        "mayor=lambda x, y, z: (max(x,y,z))"
      ],
      "metadata": {
        "id": "mjGScICkLpuj"
      },
      "execution_count": null,
      "outputs": []
    },
    {
      "cell_type": "code",
      "source": [
        "mayor(1,2,3)"
      ],
      "metadata": {
        "colab": {
          "base_uri": "https://localhost:8080/"
        },
        "id": "FX302z_JL_9B",
        "outputId": "5f29a207-b286-4285-c5c2-d204cd7f908a"
      },
      "execution_count": null,
      "outputs": [
        {
          "output_type": "execute_result",
          "data": {
            "text/plain": [
              "3"
            ]
          },
          "metadata": {},
          "execution_count": 2
        }
      ]
    },
    {
      "cell_type": "markdown",
      "source": [
        "#EJERCICIOS"
      ],
      "metadata": {
        "id": "4IIWsGrftfuw"
      }
    },
    {
      "cell_type": "markdown",
      "source": [
        "##1"
      ],
      "metadata": {
        "id": "CY3aKKQfth_j"
      }
    },
    {
      "cell_type": "code",
      "source": [
        "#Reciba un número y retorne su cuadrado\n",
        "cuadra=lambda n: n**2"
      ],
      "metadata": {
        "id": "opod-AP8tjx2"
      },
      "execution_count": null,
      "outputs": []
    },
    {
      "cell_type": "code",
      "source": [
        "cuadra(3)"
      ],
      "metadata": {
        "colab": {
          "base_uri": "https://localhost:8080/"
        },
        "id": "0J4q9F1Uu5VU",
        "outputId": "2a632844-c428-4814-c839-08221f98cf68"
      },
      "execution_count": null,
      "outputs": [
        {
          "output_type": "execute_result",
          "data": {
            "text/plain": [
              "9"
            ]
          },
          "metadata": {},
          "execution_count": 176
        }
      ]
    },
    {
      "cell_type": "code",
      "source": [
        "def cuadrado(n):\n",
        "    return n ** 2"
      ],
      "metadata": {
        "id": "H525c7gq6RDF"
      },
      "execution_count": null,
      "outputs": []
    },
    {
      "cell_type": "code",
      "source": [
        "cuadrado(5)"
      ],
      "metadata": {
        "colab": {
          "base_uri": "https://localhost:8080/"
        },
        "id": "x6OEm0aO6SEF",
        "outputId": "2571f8a2-3e40-4b00-ad6e-18dcf6276f6c"
      },
      "execution_count": null,
      "outputs": [
        {
          "output_type": "execute_result",
          "data": {
            "text/plain": [
              "25"
            ]
          },
          "metadata": {},
          "execution_count": 171
        }
      ]
    },
    {
      "cell_type": "markdown",
      "source": [
        "##2"
      ],
      "metadata": {
        "id": "DTs8a8R_vAUS"
      }
    },
    {
      "cell_type": "code",
      "source": [
        "#Reciba un nombre y retorne un saludo personalizado (20 Saludos)\n",
        "#Lista de Saludos\n",
        "import random\n",
        "saludos = [\n",
        "    \"Hola {} cómo estás?\",\n",
        "    \"Hola {} cómo te encuentras hoy'\",\n",
        "    \"Hola {} cómo va tú día?\",\n",
        "    \"Hola {} cómo amaneciste?\",\n",
        "    \"Que onda {} todo bien?\",\n",
        "    \"Qué tal {} cómo te va hoy?\",\n",
        "    \"Hola {} qué gusto hablarte\",\n",
        "    \"Hola {} un placer saber de ti\",\n",
        "    \"Hey {} cómo te va?\",\n",
        "    \"Saludos {} cómo estás?\",\n",
        "    \"Buenas {} espero que estés genial\",\n",
        "    \"Hey {} cómo va tu día?\",\n",
        "    \"Hola {} qué tal esa semana?\",\n",
        "    \"Hola {} que alegría hablar contigo\",\n",
        "    \"Hola {} espero que todo esté bien\",\n",
        "    \"Hola {} espero que hoy te vaya genial\",\n",
        "    \"Hola {} ánimo con todo\",\n",
        "    \"Hola {} éxitos en tu día\",\n",
        "    \"Hola {} espero que disfrutes este día\",\n",
        "]\n",
        "\n",
        "saludo=lambda nombre: random.choice(saludos).format(nombre)"
      ],
      "metadata": {
        "id": "VdcQ50ALvAHY"
      },
      "execution_count": null,
      "outputs": []
    },
    {
      "cell_type": "code",
      "source": [
        "saludo(\"Adrian\")"
      ],
      "metadata": {
        "colab": {
          "base_uri": "https://localhost:8080/",
          "height": 35
        },
        "id": "B7SoqP7wvMsy",
        "outputId": "502a7d60-7f62-4c10-de5c-36df78d5a436"
      },
      "execution_count": null,
      "outputs": [
        {
          "output_type": "execute_result",
          "data": {
            "text/plain": [
              "'Hola Adrian espero que hoy te vaya genial'"
            ],
            "application/vnd.google.colaboratory.intrinsic+json": {
              "type": "string"
            }
          },
          "metadata": {},
          "execution_count": 173
        }
      ]
    },
    {
      "cell_type": "code",
      "source": [
        "import random\n",
        "\n",
        "def salud(nomb):\n",
        "    salud = [\n",
        "        \"Hola {} cómo estás?\",\n",
        "        \"Hola {} cómo te encuentras hoy'\",\n",
        "        \"Hola {} cómo va tú día?\",\n",
        "        \"Hola {} cómo amaneciste?\",\n",
        "        \"Que onda {} todo bien?\",\n",
        "        \"Qué tal {} cómo te va hoy?\",\n",
        "        \"Hola {} qué gusto hablarte\",\n",
        "        \"Hola {} un placer saber de ti\",\n",
        "        \"Hey {} cómo te va?\",\n",
        "        \"Saludos {} cómo estás?\",\n",
        "        \"Hola {} espero que estés genial\",\n",
        "        \"Hey {} cómo va tu día?\",\n",
        "        \"Hola {} qué tal esa semana?\",\n",
        "        \"Hola {} que alegría hablar contigo\",\n",
        "        \"Hola {} espero que todo esté bien\",\n",
        "        \"Hola {} espero que hoy te vaya genial\",\n",
        "        \"Hola {} ánimos con todo\",\n",
        "        \"Hola {} éxitos en tu día\",\n",
        "       \"Hola {} espero que disfrutes este día\",\n",
        "    ]\n",
        "    return random.choice(salud).format(nomb)"
      ],
      "metadata": {
        "id": "iVYCLLjRzf4E"
      },
      "execution_count": null,
      "outputs": []
    },
    {
      "cell_type": "code",
      "source": [
        "salud(\"Profe\")"
      ],
      "metadata": {
        "colab": {
          "base_uri": "https://localhost:8080/",
          "height": 35
        },
        "id": "ZqVZgw7L1UFA",
        "outputId": "c007fb8e-0199-4066-9568-d6eb34516872"
      },
      "execution_count": null,
      "outputs": [
        {
          "output_type": "execute_result",
          "data": {
            "text/plain": [
              "'Que onda Profe todo bien?'"
            ],
            "application/vnd.google.colaboratory.intrinsic+json": {
              "type": "string"
            }
          },
          "metadata": {},
          "execution_count": 174
        }
      ]
    },
    {
      "cell_type": "markdown",
      "source": [
        "##3"
      ],
      "metadata": {
        "id": "1rVjAXm3y10Z"
      }
    },
    {
      "cell_type": "code",
      "source": [
        "#Reciba dos números y retorne su suma, resta, multiplicación y división.\n",
        "suma = lambda a, b: a + b\n",
        "rest = lambda a, b: a - b\n",
        "mult = lambda a, b: a * b\n",
        "div = lambda a, b: a / b\n",
        "def operaciones(a, b):\n",
        "    return {\n",
        "        \"suma\": suma(a, b),\n",
        "        \"resta\": rest(a, b),\n",
        "        \"multiplicación\": mult(a, b),\n",
        "        \"división\": div(a, b)\n",
        "    }\n"
      ],
      "metadata": {
        "id": "OrGcvNVZ18_n"
      },
      "execution_count": null,
      "outputs": []
    },
    {
      "cell_type": "code",
      "source": [
        " operaciones(10, 2)"
      ],
      "metadata": {
        "colab": {
          "base_uri": "https://localhost:8080/"
        },
        "id": "hpmFJqBu2tnW",
        "outputId": "357bed21-f1b5-4d38-ddd1-2d049111d25b"
      },
      "execution_count": null,
      "outputs": [
        {
          "output_type": "execute_result",
          "data": {
            "text/plain": [
              "{'suma': 12, 'resta': 8, 'multiplicación': 20, 'división': 5.0}"
            ]
          },
          "metadata": {},
          "execution_count": 24
        }
      ]
    },
    {
      "cell_type": "code",
      "source": [
        "def oper(a, b):\n",
        "    return {\n",
        "        \"suma\": a + b,\n",
        "        \"resta\": a - b,\n",
        "        \"multiplicación\": a * b,\n",
        "        \"división\": a / b\n",
        "    }"
      ],
      "metadata": {
        "id": "z3c4IkyY4ALB"
      },
      "execution_count": null,
      "outputs": []
    },
    {
      "cell_type": "code",
      "source": [
        "oper(8, 2)"
      ],
      "metadata": {
        "colab": {
          "base_uri": "https://localhost:8080/"
        },
        "id": "iwRPYtQR48o3",
        "outputId": "018c9965-3347-4f5d-b943-b0481f19b705"
      },
      "execution_count": null,
      "outputs": [
        {
          "output_type": "execute_result",
          "data": {
            "text/plain": [
              "{'suma': 10, 'resta': 6, 'multiplicación': 16, 'división': 4.0}"
            ]
          },
          "metadata": {},
          "execution_count": 180
        }
      ]
    },
    {
      "cell_type": "markdown",
      "source": [
        "##4"
      ],
      "metadata": {
        "id": "gySMxOB_6EtH"
      }
    },
    {
      "cell_type": "code",
      "source": [
        "#Reciba una edad y retorne si es mayor de edad\n",
        "edad = lambda n: \"Eres mayor de edad\" if n >= 18 else \"No eres mayor de edad\""
      ],
      "metadata": {
        "id": "qDSEIuyP482w"
      },
      "execution_count": null,
      "outputs": []
    },
    {
      "cell_type": "code",
      "source": [
        "edad(18)"
      ],
      "metadata": {
        "colab": {
          "base_uri": "https://localhost:8080/",
          "height": 35
        },
        "id": "LORran_Q75BS",
        "outputId": "c2c20960-2a96-4a7b-cb03-e0c4e22e8cd0"
      },
      "execution_count": null,
      "outputs": [
        {
          "output_type": "execute_result",
          "data": {
            "text/plain": [
              "'Eres mayor de edad'"
            ],
            "application/vnd.google.colaboratory.intrinsic+json": {
              "type": "string"
            }
          },
          "metadata": {},
          "execution_count": 190
        }
      ]
    },
    {
      "cell_type": "code",
      "source": [
        "def eda (n):\n",
        "  if n >= 18:\n",
        "      return \"Eres mayor de edad\"\n",
        "  else:\n",
        "      return \"No eres mayor de edad\""
      ],
      "metadata": {
        "id": "xeAFatyi8HJG"
      },
      "execution_count": null,
      "outputs": []
    },
    {
      "cell_type": "code",
      "source": [
        "eda(10)"
      ],
      "metadata": {
        "colab": {
          "base_uri": "https://localhost:8080/",
          "height": 35
        },
        "id": "sNSYJWRd8kCy",
        "outputId": "18875958-9692-4701-cf10-00b5d6975615"
      },
      "execution_count": null,
      "outputs": [
        {
          "output_type": "execute_result",
          "data": {
            "text/plain": [
              "'No eres mayor de edad'"
            ],
            "application/vnd.google.colaboratory.intrinsic+json": {
              "type": "string"
            }
          },
          "metadata": {},
          "execution_count": 192
        }
      ]
    },
    {
      "cell_type": "markdown",
      "source": [
        "##5"
      ],
      "metadata": {
        "id": "gj2QmyWN9lrm"
      }
    },
    {
      "cell_type": "code",
      "source": [
        "#Reciba una palabra y determine si es un palíndromo.\n",
        "palindromo = lambda palabra: f\"la palabra {palabra} es un palíndromo\" if palabra == palabra[::-1] else f\"La palabra {palabra} no es un palíndromo\""
      ],
      "metadata": {
        "id": "DY7fXII_9m3D"
      },
      "execution_count": null,
      "outputs": []
    },
    {
      "cell_type": "code",
      "source": [
        "palindromo(\"oso\")"
      ],
      "metadata": {
        "colab": {
          "base_uri": "https://localhost:8080/",
          "height": 35
        },
        "id": "FOc9iSIyDVCH",
        "outputId": "9bb546de-5503-4615-9f1d-4a5d4cacd87d"
      },
      "execution_count": null,
      "outputs": [
        {
          "output_type": "execute_result",
          "data": {
            "text/plain": [
              "'la palabra oso es un palíndromo'"
            ],
            "application/vnd.google.colaboratory.intrinsic+json": {
              "type": "string"
            }
          },
          "metadata": {},
          "execution_count": 215
        }
      ]
    },
    {
      "cell_type": "code",
      "source": [
        "def palindromo(palabra):\n",
        "    if palabra == palabra[::-1]:\n",
        "        return f\"la palabra {palabra} es un palíndromo\"\n",
        "    else:\n",
        "        return f\"La palabra {palabra} no es un palindromo\""
      ],
      "metadata": {
        "id": "4gMHWFuwHoor"
      },
      "execution_count": null,
      "outputs": []
    },
    {
      "cell_type": "code",
      "source": [
        "palindromo(\"nancy\")"
      ],
      "metadata": {
        "colab": {
          "base_uri": "https://localhost:8080/",
          "height": 35
        },
        "id": "ZVpKp2iMIYH8",
        "outputId": "5aabb6b2-8bc6-4a12-a68a-b8f00cd544b0"
      },
      "execution_count": null,
      "outputs": [
        {
          "output_type": "execute_result",
          "data": {
            "text/plain": [
              "'La palabra nancy no es un palindromo'"
            ],
            "application/vnd.google.colaboratory.intrinsic+json": {
              "type": "string"
            }
          },
          "metadata": {},
          "execution_count": 216
        }
      ]
    },
    {
      "cell_type": "markdown",
      "source": [
        "##6"
      ],
      "metadata": {
        "id": "76hUKnuCJoPJ"
      }
    },
    {
      "cell_type": "code",
      "source": [
        "#Reciba un texto y retorne cuántas vocales contiene\n",
        "vocales = lambda texto: sum(1 for letra in texto if letra.lower() in \"aeiou\")"
      ],
      "metadata": {
        "id": "dR62Ayf9Jpq8"
      },
      "execution_count": null,
      "outputs": []
    },
    {
      "cell_type": "code",
      "source": [
        "vocales(\"Hola\")"
      ],
      "metadata": {
        "colab": {
          "base_uri": "https://localhost:8080/"
        },
        "id": "VIyQlnRlP0Bf",
        "outputId": "733537eb-d625-4b3c-ddae-1a54f84c31a4"
      },
      "execution_count": null,
      "outputs": [
        {
          "output_type": "execute_result",
          "data": {
            "text/plain": [
              "2"
            ]
          },
          "metadata": {},
          "execution_count": 2
        }
      ]
    },
    {
      "cell_type": "code",
      "source": [
        "def vocales(texto):\n",
        "    vocales = \"aeiou\"\n",
        "    contador = sum(1 for letra in texto if letra in vocales)\n",
        "    return contador"
      ],
      "metadata": {
        "id": "tKHWTNh9S_e9"
      },
      "execution_count": null,
      "outputs": []
    },
    {
      "cell_type": "code",
      "source": [
        "vocales(\"Leopardo\")"
      ],
      "metadata": {
        "colab": {
          "base_uri": "https://localhost:8080/"
        },
        "id": "97rnvvMoTJjb",
        "outputId": "837abe12-d45c-422b-9ee2-c20c860cb877"
      },
      "execution_count": null,
      "outputs": [
        {
          "output_type": "execute_result",
          "data": {
            "text/plain": [
              "4"
            ]
          },
          "metadata": {},
          "execution_count": 4
        }
      ]
    },
    {
      "cell_type": "markdown",
      "source": [
        "##7"
      ],
      "metadata": {
        "id": "mP2jXJyiTrq9"
      }
    },
    {
      "cell_type": "code",
      "source": [
        "#Reciba una lista de números y retorne la suma total.\n",
        "total=lambda lista: sum(lista)"
      ],
      "metadata": {
        "id": "ihyQlq_7TPfT"
      },
      "execution_count": null,
      "outputs": []
    },
    {
      "cell_type": "code",
      "source": [
        "total([1,2,3,4,5])"
      ],
      "metadata": {
        "colab": {
          "base_uri": "https://localhost:8080/"
        },
        "id": "TNoD2mP4T6TS",
        "outputId": "b9cf7091-912c-4302-d1a6-1e9a97445040"
      },
      "execution_count": null,
      "outputs": [
        {
          "output_type": "execute_result",
          "data": {
            "text/plain": [
              "15"
            ]
          },
          "metadata": {},
          "execution_count": 11
        }
      ]
    },
    {
      "cell_type": "code",
      "source": [
        "def total(lista):\n",
        "    return sum(lista)"
      ],
      "metadata": {
        "id": "u_n_iXwsUoqJ"
      },
      "execution_count": null,
      "outputs": []
    },
    {
      "cell_type": "code",
      "source": [
        "total([1,2,3,4,5])"
      ],
      "metadata": {
        "colab": {
          "base_uri": "https://localhost:8080/"
        },
        "id": "bwRaWAwnUrlF",
        "outputId": "e7c02a0f-8425-42de-cee0-002dfa8863d2"
      },
      "execution_count": null,
      "outputs": [
        {
          "output_type": "execute_result",
          "data": {
            "text/plain": [
              "15"
            ]
          },
          "metadata": {},
          "execution_count": 13
        }
      ]
    },
    {
      "cell_type": "markdown",
      "source": [
        "##8"
      ],
      "metadata": {
        "id": "-ajKtCH9UurC"
      }
    },
    {
      "cell_type": "code",
      "source": [
        "#Reciba una lista y retorne el mayor y el menor elemento.\n",
        "maymen = lambda lista: (min(lista), max(lista))"
      ],
      "metadata": {
        "id": "fOSZw_IcUub1"
      },
      "execution_count": null,
      "outputs": []
    },
    {
      "cell_type": "code",
      "source": [
        "maymen([1,2,3,4,5])"
      ],
      "metadata": {
        "colab": {
          "base_uri": "https://localhost:8080/"
        },
        "id": "Q-L8rWklXFeK",
        "outputId": "a07e0aee-5fd3-44b7-c78c-a319e4061804"
      },
      "execution_count": null,
      "outputs": [
        {
          "output_type": "execute_result",
          "data": {
            "text/plain": [
              "(1, 5)"
            ]
          },
          "metadata": {},
          "execution_count": 18
        }
      ]
    },
    {
      "cell_type": "code",
      "source": [
        "def maymenor(lista):\n",
        "    return min(lista), max(lista)"
      ],
      "metadata": {
        "id": "NpDSOO-RX0KF"
      },
      "execution_count": null,
      "outputs": []
    },
    {
      "cell_type": "code",
      "source": [
        "maymen([1,2,3,4,5])"
      ],
      "metadata": {
        "colab": {
          "base_uri": "https://localhost:8080/"
        },
        "id": "-46Zfc8WX116",
        "outputId": "339cb106-0cbf-4182-d6cc-240943c8a9ba"
      },
      "execution_count": null,
      "outputs": [
        {
          "output_type": "execute_result",
          "data": {
            "text/plain": [
              "(1, 5)"
            ]
          },
          "metadata": {},
          "execution_count": 19
        }
      ]
    },
    {
      "cell_type": "markdown",
      "source": [
        "##9"
      ],
      "metadata": {
        "id": "s_55-iTmX5jO"
      }
    },
    {
      "cell_type": "code",
      "source": [
        "#Reciba una lista y retorne una nueva lista con los elementos en orden inverso.\n",
        "inversa = lambda lista: lista[::-1]"
      ],
      "metadata": {
        "id": "YvGC7wFwX6ts"
      },
      "execution_count": null,
      "outputs": []
    },
    {
      "cell_type": "code",
      "source": [
        "inversa([1,2,3,4,5])"
      ],
      "metadata": {
        "colab": {
          "base_uri": "https://localhost:8080/"
        },
        "id": "xMepB8jJYEzx",
        "outputId": "96233244-2bf5-4afc-aa6c-074ea5293ef1"
      },
      "execution_count": null,
      "outputs": [
        {
          "output_type": "execute_result",
          "data": {
            "text/plain": [
              "[5, 4, 3, 2, 1]"
            ]
          },
          "metadata": {},
          "execution_count": 21
        }
      ]
    },
    {
      "cell_type": "code",
      "source": [
        "def inversa(lista):\n",
        "  return lista[::-1]"
      ],
      "metadata": {
        "id": "K_kTT-JaYsQp"
      },
      "execution_count": null,
      "outputs": []
    },
    {
      "cell_type": "code",
      "source": [
        "inversa([1,2,3,4,5])"
      ],
      "metadata": {
        "colab": {
          "base_uri": "https://localhost:8080/"
        },
        "id": "22zJ_7s6Yyoj",
        "outputId": "85f9a671-9271-452a-f1ed-3b1f018686d9"
      },
      "execution_count": null,
      "outputs": [
        {
          "output_type": "execute_result",
          "data": {
            "text/plain": [
              "[5, 4, 3, 2, 1]"
            ]
          },
          "metadata": {},
          "execution_count": 27
        }
      ]
    },
    {
      "cell_type": "markdown",
      "source": [
        "##10"
      ],
      "metadata": {
        "id": "sJ2BQftsZQBD"
      }
    },
    {
      "cell_type": "code",
      "source": [
        "voc = lambda nombres: sum(1 for n in nombres if n[0].lower() in \"aeiou\")"
      ],
      "metadata": {
        "id": "WAnPk1oLZSTv"
      },
      "execution_count": null,
      "outputs": []
    },
    {
      "cell_type": "code",
      "source": [
        "voc([\"Adrian\", \"Santiago\", \"David\", \"Nicolle\", \"Sofía\"])"
      ],
      "metadata": {
        "colab": {
          "base_uri": "https://localhost:8080/"
        },
        "id": "TB3kWt8jaFyD",
        "outputId": "d66b1ecd-3206-4fc4-8cbe-0836583dc568"
      },
      "execution_count": null,
      "outputs": [
        {
          "output_type": "execute_result",
          "data": {
            "text/plain": [
              "1"
            ]
          },
          "metadata": {},
          "execution_count": 34
        }
      ]
    },
    {
      "cell_type": "code",
      "source": [
        "def contar_vocales(nombres):\n",
        "    contador = 0\n",
        "    for n in nombres:\n",
        "        if n[0].lower() in \"aeiou\":\n",
        "            contador += 1\n",
        "    return contador"
      ],
      "metadata": {
        "id": "uGj3IG0haekX"
      },
      "execution_count": null,
      "outputs": []
    },
    {
      "cell_type": "code",
      "source": [
        "voc([\"Adrian\", \"Santiago\", \"Andrés\", \"Nicolle\", \"Sofía\"])"
      ],
      "metadata": {
        "colab": {
          "base_uri": "https://localhost:8080/"
        },
        "id": "3n91N-oaajxA",
        "outputId": "38c8d158-0e87-4f64-cc47-0fbebbc79503"
      },
      "execution_count": null,
      "outputs": [
        {
          "output_type": "execute_result",
          "data": {
            "text/plain": [
              "2"
            ]
          },
          "metadata": {},
          "execution_count": 37
        }
      ]
    },
    {
      "cell_type": "markdown",
      "source": [
        "##11"
      ],
      "metadata": {
        "id": "f3W2DRI8anB3"
      }
    },
    {
      "cell_type": "code",
      "source": [
        "#Reciba una lista y retorne otra lista sin elementos repetidos.\n",
        "repetidos = lambda lista: list(set(lista))"
      ],
      "metadata": {
        "id": "NEBP7Hx5ams7"
      },
      "execution_count": null,
      "outputs": []
    },
    {
      "cell_type": "code",
      "source": [
        "repetidos([1, 7, 7, 6, 4, 4, 5])"
      ],
      "metadata": {
        "colab": {
          "base_uri": "https://localhost:8080/"
        },
        "id": "kAGV56O8bfBf",
        "outputId": "628d9fcd-9ff6-472f-ba75-9d4e8c6f7147"
      },
      "execution_count": null,
      "outputs": [
        {
          "output_type": "execute_result",
          "data": {
            "text/plain": [
              "[1, 4, 5, 6, 7]"
            ]
          },
          "metadata": {},
          "execution_count": 40
        }
      ]
    },
    {
      "cell_type": "code",
      "source": [
        "def sin_repetidos(lista):\n",
        "    nueva_lista = []\n",
        "    for elemento in lista:\n",
        "        if elemento not in nueva_lista:\n",
        "            nueva_lista.append(elemento)\n",
        "    return nueva_lista"
      ],
      "metadata": {
        "id": "4PDtqDIQbtlD"
      },
      "execution_count": null,
      "outputs": []
    },
    {
      "cell_type": "code",
      "source": [
        "repetidos([1, 7, 7, 6, 4, 4, 5])"
      ],
      "metadata": {
        "colab": {
          "base_uri": "https://localhost:8080/"
        },
        "id": "f-NHHaDebvvl",
        "outputId": "e8c19c6b-78ed-4046-8c8c-24c6d68e4424"
      },
      "execution_count": null,
      "outputs": [
        {
          "output_type": "execute_result",
          "data": {
            "text/plain": [
              "[1, 4, 5, 6, 7]"
            ]
          },
          "metadata": {},
          "execution_count": 42
        }
      ]
    },
    {
      "cell_type": "markdown",
      "source": [
        "##12"
      ],
      "metadata": {
        "id": "HNmOOt8dbx1n"
      }
    },
    {
      "cell_type": "code",
      "source": [
        "#Reciba una lista de números y retorne solo los que son primos\n",
        "primo = lambda num: num > 1 and all(num % n != 0 for n in range(2, num))\n",
        "\n",
        "prim = lambda lista: [num for num in lista if primo(num)]"
      ],
      "metadata": {
        "id": "SWdD5t-LbxrJ"
      },
      "execution_count": 5,
      "outputs": []
    },
    {
      "cell_type": "code",
      "source": [
        "prim([1, 3, 5, 7, 12, 21, 58])"
      ],
      "metadata": {
        "colab": {
          "base_uri": "https://localhost:8080/"
        },
        "id": "HDtB06DZdSar",
        "outputId": "2963629a-317d-4b48-8d6a-7db2b9d35186"
      },
      "execution_count": 6,
      "outputs": [
        {
          "output_type": "execute_result",
          "data": {
            "text/plain": [
              "[3, 5, 7]"
            ]
          },
          "metadata": {},
          "execution_count": 6
        }
      ]
    },
    {
      "cell_type": "code",
      "source": [
        "def primo(num):\n",
        "    if num <= 1:\n",
        "        return False\n",
        "    for n in range(2, num):  # Revisa divisores desde 2 hasta num-1\n",
        "        if num % n == 0:\n",
        "            return False\n",
        "    return True\n",
        "\n",
        "def primos(lista):\n",
        "    return [num for num in lista if primo(num)]"
      ],
      "metadata": {
        "id": "xZNirOkYds9V"
      },
      "execution_count": 7,
      "outputs": []
    },
    {
      "cell_type": "code",
      "source": [
        "prim([1, 3, 5, 7, 12, 21, 58])"
      ],
      "metadata": {
        "colab": {
          "base_uri": "https://localhost:8080/"
        },
        "id": "HhXmmu91d1wZ",
        "outputId": "359e5a4a-0b22-4770-d25b-55b5e6705e92"
      },
      "execution_count": 8,
      "outputs": [
        {
          "output_type": "execute_result",
          "data": {
            "text/plain": [
              "[3, 5, 7]"
            ]
          },
          "metadata": {},
          "execution_count": 8
        }
      ]
    },
    {
      "cell_type": "markdown",
      "source": [
        "##13"
      ],
      "metadata": {
        "id": "alKkJJTRd4tj"
      }
    },
    {
      "cell_type": "code",
      "source": [
        "#Reciba un diccionario con claves 'nombre' y 'edad', y retorne un mensaje con esos datos.\n",
        "mensaje = lambda persona: f\"El nombre es {persona['nombre']} y tiene {persona['edad']} años\""
      ],
      "metadata": {
        "id": "Gns3syCld4cO"
      },
      "execution_count": 10,
      "outputs": []
    },
    {
      "cell_type": "code",
      "source": [
        "mensaje({\"nombre\": \"Adrian\", \"edad\": 17})"
      ],
      "metadata": {
        "colab": {
          "base_uri": "https://localhost:8080/",
          "height": 35
        },
        "id": "93WuqrrTeoQP",
        "outputId": "03259355-0755-43d0-d76d-5f700e2cc5c7"
      },
      "execution_count": 12,
      "outputs": [
        {
          "output_type": "execute_result",
          "data": {
            "text/plain": [
              "'El nombre es Adrian y tiene 17 años'"
            ],
            "application/vnd.google.colaboratory.intrinsic+json": {
              "type": "string"
            }
          },
          "metadata": {},
          "execution_count": 12
        }
      ]
    },
    {
      "cell_type": "code",
      "source": [
        "def mensaje(persona):\n",
        "    return f\"El nombre es {persona['nombre']} y tiene {persona['edad']} años\""
      ],
      "metadata": {
        "id": "i7fraoBYewR0"
      },
      "execution_count": 13,
      "outputs": []
    },
    {
      "cell_type": "code",
      "source": [
        "mensaje({\"nombre\": \"David\", \"edad\": 19})"
      ],
      "metadata": {
        "colab": {
          "base_uri": "https://localhost:8080/",
          "height": 35
        },
        "id": "zSWv4zRvezkZ",
        "outputId": "bfb85128-f106-4015-bb1c-7913cb3c7fc0"
      },
      "execution_count": 14,
      "outputs": [
        {
          "output_type": "execute_result",
          "data": {
            "text/plain": [
              "'El nombre es David y tiene 19 años'"
            ],
            "application/vnd.google.colaboratory.intrinsic+json": {
              "type": "string"
            }
          },
          "metadata": {},
          "execution_count": 14
        }
      ]
    },
    {
      "cell_type": "markdown",
      "source": [
        "##14"
      ],
      "metadata": {
        "id": "Zj3_7HAgfJTh"
      }
    },
    {
      "cell_type": "code",
      "source": [
        "#Reciba un diccionario de productos (clave: nombre, valor: precio) y retorne el total\n",
        "total = lambda productos: sum(productos.values())"
      ],
      "metadata": {
        "id": "Kh1JaZs7fKhO"
      },
      "execution_count": 17,
      "outputs": []
    },
    {
      "cell_type": "code",
      "source": [
        "total({\"Pan\": 2000, \"Leche\": 3500, \"Huevos\": 28000})"
      ],
      "metadata": {
        "colab": {
          "base_uri": "https://localhost:8080/"
        },
        "id": "FnCHLXKcfdGO",
        "outputId": "2bcf2a8a-5ebe-4b46-896d-e1cb02f0e558"
      },
      "execution_count": 18,
      "outputs": [
        {
          "output_type": "execute_result",
          "data": {
            "text/plain": [
              "33500"
            ]
          },
          "metadata": {},
          "execution_count": 18
        }
      ]
    },
    {
      "cell_type": "code",
      "source": [
        "def total(productos):\n",
        "    return sum(productos.values())"
      ],
      "metadata": {
        "id": "_KkZhZvsfoBT"
      },
      "execution_count": 19,
      "outputs": []
    },
    {
      "cell_type": "code",
      "source": [
        "total({\"Jabón\": 5700, \"Pastel\": 3000, \"Limonada de coco\": 10000})"
      ],
      "metadata": {
        "colab": {
          "base_uri": "https://localhost:8080/"
        },
        "id": "RRTt8TSifqfP",
        "outputId": "de01a11c-7ac5-49c6-e2a2-7cb034e55198"
      },
      "execution_count": 20,
      "outputs": [
        {
          "output_type": "execute_result",
          "data": {
            "text/plain": [
              "18700"
            ]
          },
          "metadata": {},
          "execution_count": 20
        }
      ]
    },
    {
      "cell_type": "markdown",
      "source": [
        "##15"
      ],
      "metadata": {
        "id": "WnxPCZDEf1z6"
      }
    },
    {
      "cell_type": "code",
      "source": [
        "#Reciba un diccionario de estudiantes (clave: nombre, valor: nota) y retorne el promedio.\n",
        "prom = lambda estudiantes: sum(estudiantes.values()) / len(estudiantes)"
      ],
      "metadata": {
        "id": "iIcRnSbtf1Q3"
      },
      "execution_count": 23,
      "outputs": []
    },
    {
      "cell_type": "code",
      "source": [
        "prom({\"Adrian\": 5.0, \"Santiago\": 3.8, \"Sofía\": 4.3})"
      ],
      "metadata": {
        "colab": {
          "base_uri": "https://localhost:8080/"
        },
        "id": "EmOV-qMGgUaY",
        "outputId": "ad29839c-1368-4da8-9703-a5d9b2f207f5"
      },
      "execution_count": 24,
      "outputs": [
        {
          "output_type": "execute_result",
          "data": {
            "text/plain": [
              "4.366666666666666"
            ]
          },
          "metadata": {},
          "execution_count": 24
        }
      ]
    },
    {
      "cell_type": "code",
      "source": [
        "def promedio(estudiantes):\n",
        "    return sum(estudiantes.values()) / len(estudiantes)"
      ],
      "metadata": {
        "id": "DOTqKj4fgi5O"
      },
      "execution_count": 25,
      "outputs": []
    },
    {
      "cell_type": "code",
      "source": [
        "prom({\"Adrian\": 3.8, \"Santiago\": 4.2, \"Sofía\": 3.9})"
      ],
      "metadata": {
        "colab": {
          "base_uri": "https://localhost:8080/"
        },
        "id": "rEhLidvogyCO",
        "outputId": "c9e91c9b-f551-45ab-f1cf-7d85a5779ca8"
      },
      "execution_count": 26,
      "outputs": [
        {
          "output_type": "execute_result",
          "data": {
            "text/plain": [
              "3.966666666666667"
            ]
          },
          "metadata": {},
          "execution_count": 26
        }
      ]
    },
    {
      "cell_type": "markdown",
      "source": [
        "##16"
      ],
      "metadata": {
        "id": "u3BYd6Lcg51Y"
      }
    },
    {
      "cell_type": "code",
      "source": [
        "#Reciba un diccionario y un nombre, y retorne la nota si existe o 'no encontrado'.\n",
        "nota = lambda estudiantes, nombre: estudiantes.get(nombre, \"no encontrado\")"
      ],
      "metadata": {
        "id": "FkYnkHRzg6yo"
      },
      "execution_count": 30,
      "outputs": []
    },
    {
      "cell_type": "code",
      "source": [
        "nota({\"Profe\": 4.5, \"Maria\": 3.8, \"Alexandra\": 5.0}, \"Maria\")"
      ],
      "metadata": {
        "colab": {
          "base_uri": "https://localhost:8080/"
        },
        "id": "wGk1izZghE0s",
        "outputId": "79fed842-f48f-409c-aa2a-b3abff1013ee"
      },
      "execution_count": 32,
      "outputs": [
        {
          "output_type": "execute_result",
          "data": {
            "text/plain": [
              "3.8"
            ]
          },
          "metadata": {},
          "execution_count": 32
        }
      ]
    },
    {
      "cell_type": "code",
      "source": [
        "def buscar_nota(estudiantes, nombre):\n",
        "    return estudiantes.get(nombre, \"no encontrado\")"
      ],
      "metadata": {
        "id": "02lf-SFNhZIg"
      },
      "execution_count": 33,
      "outputs": []
    },
    {
      "cell_type": "code",
      "source": [
        "nota({\"Profe\": 4.5, \"Maria\": 3.8, \"Alexandra\": 5.0}, \"Pepito\")"
      ],
      "metadata": {
        "colab": {
          "base_uri": "https://localhost:8080/",
          "height": 35
        },
        "id": "qThpHmgThm9g",
        "outputId": "91b91b06-46f5-40e3-8f79-68a8421ecb73"
      },
      "execution_count": 34,
      "outputs": [
        {
          "output_type": "execute_result",
          "data": {
            "text/plain": [
              "'no encontrado'"
            ],
            "application/vnd.google.colaboratory.intrinsic+json": {
              "type": "string"
            }
          },
          "metadata": {},
          "execution_count": 34
        }
      ]
    },
    {
      "cell_type": "markdown",
      "source": [
        "##17"
      ],
      "metadata": {
        "id": "QIyUZLKmhp4a"
      }
    },
    {
      "cell_type": "code",
      "source": [
        "#Reciba un diccionario y retorne el nombre del estudiante con mayor nota\n",
        "mayor = lambda estudiantes: max(estudiantes, key=estudiantes.get)"
      ],
      "metadata": {
        "id": "WTKYy-dThrFk"
      },
      "execution_count": 35,
      "outputs": []
    },
    {
      "cell_type": "code",
      "source": [
        "mayor({\"Ana\": 2.5, \"Luis\": 3.8, \"Cristian\": 5.0})"
      ],
      "metadata": {
        "colab": {
          "base_uri": "https://localhost:8080/",
          "height": 35
        },
        "id": "UvbpqsWdhxfE",
        "outputId": "248176ee-bfb9-474d-a3c7-cbf90e24ef8b"
      },
      "execution_count": 36,
      "outputs": [
        {
          "output_type": "execute_result",
          "data": {
            "text/plain": [
              "'Cristian'"
            ],
            "application/vnd.google.colaboratory.intrinsic+json": {
              "type": "string"
            }
          },
          "metadata": {},
          "execution_count": 36
        }
      ]
    },
    {
      "cell_type": "code",
      "source": [
        "def mayor_nota(estudiantes):\n",
        "    return max(estudiantes, key=estudiantes.get)"
      ],
      "metadata": {
        "id": "qiJ2Mxo5h7_O"
      },
      "execution_count": 37,
      "outputs": []
    },
    {
      "cell_type": "code",
      "source": [
        "mayor({\"Ana\": 2.5, \"Luis\": 4.5, \"Cristian\": 4.0})"
      ],
      "metadata": {
        "colab": {
          "base_uri": "https://localhost:8080/",
          "height": 35
        },
        "id": "VGOXZ2a5h-sS",
        "outputId": "c737ca6f-ba51-42b9-d76e-0b97b8b39eac"
      },
      "execution_count": 40,
      "outputs": [
        {
          "output_type": "execute_result",
          "data": {
            "text/plain": [
              "'Luis'"
            ],
            "application/vnd.google.colaboratory.intrinsic+json": {
              "type": "string"
            }
          },
          "metadata": {},
          "execution_count": 40
        }
      ]
    },
    {
      "cell_type": "markdown",
      "source": [
        "##18"
      ],
      "metadata": {
        "id": "fPIZA_W3iLw2"
      }
    },
    {
      "cell_type": "code",
      "source": [
        "#Reciba un diccionario de productos y retorne los productos con precios mayores a un valor dado.\n",
        "mayores = lambda productos, valor: {k: n for k, n in productos.items() if n > valor}"
      ],
      "metadata": {
        "id": "t2BaH2fQiDG9"
      },
      "execution_count": 55,
      "outputs": []
    },
    {
      "cell_type": "code",
      "source": [
        "mayores({\"Arroz\": 10000, \"Carne\": 21000, \"Pan\": 3000}, 7000)"
      ],
      "metadata": {
        "colab": {
          "base_uri": "https://localhost:8080/"
        },
        "id": "87037xp6i1ng",
        "outputId": "86bcdd8b-1230-4518-c3f0-a4035eb18648"
      },
      "execution_count": 56,
      "outputs": [
        {
          "output_type": "execute_result",
          "data": {
            "text/plain": [
              "{'Arroz': 10000, 'Carne': 21000}"
            ]
          },
          "metadata": {},
          "execution_count": 56
        }
      ]
    },
    {
      "cell_type": "code",
      "source": [
        "def productos_mayores(productos, valor):\n",
        "    resultado = {}\n",
        "    for k, n in productos.items():\n",
        "        if n > valor:\n",
        "            resultado[k] = n\n",
        "    return resultado"
      ],
      "metadata": {
        "id": "1kjof8OsjGhI"
      },
      "execution_count": 59,
      "outputs": []
    },
    {
      "cell_type": "code",
      "source": [
        "mayores({\"Arroz\": 10000, \"Carne\": 21000, \"Pan\": 3000}, 7000)"
      ],
      "metadata": {
        "colab": {
          "base_uri": "https://localhost:8080/"
        },
        "id": "BOTWgk3XjIWv",
        "outputId": "55e730ed-b24d-4196-8fe9-cf51354e76ce"
      },
      "execution_count": 60,
      "outputs": [
        {
          "output_type": "execute_result",
          "data": {
            "text/plain": [
              "{'Arroz': 10000, 'Carne': 21000}"
            ]
          },
          "metadata": {},
          "execution_count": 60
        }
      ]
    },
    {
      "cell_type": "markdown",
      "source": [
        "##19"
      ],
      "metadata": {
        "id": "yOebkgUvjO5b"
      }
    },
    {
      "cell_type": "code",
      "source": [
        "#Reciba un diccionario de empleados (clave: nombre, valor: lista de horas trabajadas) y retorne el total de horas por empleado.\n",
        "horas = lambda empleados: {k: sum(x) for k, x in empleados.items()}"
      ],
      "metadata": {
        "id": "l2LVg_sPjN5w"
      },
      "execution_count": 70,
      "outputs": []
    },
    {
      "cell_type": "code",
      "source": [
        "horas({\"Juan\": [8, 7, 9], \"Ana\": [6, 8, 7],\"Luis\": [10, 9, 8]})"
      ],
      "metadata": {
        "colab": {
          "base_uri": "https://localhost:8080/"
        },
        "id": "rEcu9d6sjjYe",
        "outputId": "c56a714f-4696-47c5-f540-2a0380b97d72"
      },
      "execution_count": 71,
      "outputs": [
        {
          "output_type": "execute_result",
          "data": {
            "text/plain": [
              "{'Juan': 24, 'Ana': 21, 'Luis': 27}"
            ]
          },
          "metadata": {},
          "execution_count": 71
        }
      ]
    },
    {
      "cell_type": "code",
      "source": [
        "def horas(empleados):\n",
        "    resultado = {}\n",
        "    for k, v in empleados.items():\n",
        "        resultado[k] = sum(v)\n",
        "    return resultado"
      ],
      "metadata": {
        "id": "sa0HIjxmkC8Q"
      },
      "execution_count": 73,
      "outputs": []
    },
    {
      "cell_type": "code",
      "source": [
        "horas({\"Adrian\": [8, 3, 9], \"Santiago\": [6, 8, 7],\"David\": [1, 2, 5]})"
      ],
      "metadata": {
        "colab": {
          "base_uri": "https://localhost:8080/"
        },
        "id": "nFDnFvcfkIc7",
        "outputId": "6a342bd8-9918-4f7c-8a4f-e0c875c8910e"
      },
      "execution_count": 74,
      "outputs": [
        {
          "output_type": "execute_result",
          "data": {
            "text/plain": [
              "{'Adrian': 20, 'Santiago': 21, 'David': 8}"
            ]
          },
          "metadata": {},
          "execution_count": 74
        }
      ]
    },
    {
      "cell_type": "markdown",
      "source": [
        "##20"
      ],
      "metadata": {
        "id": "5AuNrtpmko_3"
      }
    },
    {
      "cell_type": "code",
      "source": [
        "#Reciba un diccionario anidado con datos de estudiantes (nombre  {'nota': x, 'edad': y}) y retorne el promedio de notas de los mayores de edad.\n",
        "def promedio_mayores(diccionario):\n",
        "    mayores = [datos['nota'] for datos in diccionario.values() if datos['edad'] >= 18]\n",
        "    if len(mayores) == 0:\n",
        "        return \"No hay estudiantes mayores de edad\"\n",
        "    return sum(mayores) / len(mayores)\n",
        "\n",
        "estudiantes = {\n",
        "    \"Juan\": {\"nota\": 4.5, \"edad\": 19},\n",
        "    \"Ana\": {\"nota\": 3.8, \"edad\": 17},\n",
        "    \"Luis\": {\"nota\": 4.2, \"edad\": 20}\n",
        "}"
      ],
      "metadata": {
        "id": "jFC4zKdHlCC5"
      },
      "execution_count": 81,
      "outputs": []
    },
    {
      "cell_type": "code",
      "source": [
        "mayores(estudiantes)"
      ],
      "metadata": {
        "colab": {
          "base_uri": "https://localhost:8080/"
        },
        "id": "QOr7HdcJkv3d",
        "outputId": "cdff2cd3-22fb-4c95-81a4-5ad610609200"
      },
      "execution_count": 82,
      "outputs": [
        {
          "output_type": "execute_result",
          "data": {
            "text/plain": [
              "4.35"
            ]
          },
          "metadata": {},
          "execution_count": 82
        }
      ]
    },
    {
      "cell_type": "code",
      "source": [
        "promedio_mayores_lambda = lambda d: (\n",
        "    sum([v['nota'] for v in d.values() if v['edad'] >= 18]) /\n",
        "    len([v['nota'] for v in d.values() if v['edad'] >= 18])\n",
        "    if len([v['nota'] for v in d.values() if v['edad'] >= 18]) > 0\n",
        "    else \"No hay estudiantes mayores de edad\"\n",
        ")"
      ],
      "metadata": {
        "id": "UR4s6LKMkZEN"
      },
      "execution_count": 83,
      "outputs": []
    },
    {
      "cell_type": "code",
      "source": [
        "mayores(estudiantes)"
      ],
      "metadata": {
        "colab": {
          "base_uri": "https://localhost:8080/"
        },
        "id": "lKCZAU8mlH27",
        "outputId": "4f486079-d04f-4dad-f85d-dc6400b53bbd"
      },
      "execution_count": 84,
      "outputs": [
        {
          "output_type": "execute_result",
          "data": {
            "text/plain": [
              "4.35"
            ]
          },
          "metadata": {},
          "execution_count": 84
        }
      ]
    }
  ]
}