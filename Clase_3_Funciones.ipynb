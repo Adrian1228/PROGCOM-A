{
  "nbformat": 4,
  "nbformat_minor": 0,
  "metadata": {
    "colab": {
      "provenance": [],
      "authorship_tag": "ABX9TyP6TERSoI0ei+njZ+9dZcCT",
      "include_colab_link": true
    },
    "kernelspec": {
      "name": "python3",
      "display_name": "Python 3"
    },
    "language_info": {
      "name": "python"
    }
  },
  "cells": [
    {
      "cell_type": "markdown",
      "metadata": {
        "id": "view-in-github",
        "colab_type": "text"
      },
      "source": [
        "<a href=\"https://colab.research.google.com/github/Adrian1228/PROGCOM-A/blob/main/Clase_3_Funciones.ipynb\" target=\"_parent\"><img src=\"https://colab.research.google.com/assets/colab-badge.svg\" alt=\"Open In Colab\"/></a>"
      ]
    },
    {
      "cell_type": "markdown",
      "source": [
        "#FUNCIONES\n",
        "Copiado dinámico.\n",
        "Dio nacimiento a un nuevo paradigma de programación llamado programación modular.\n",
        "\n",
        "##Forma general de programar funciones.\n",
        "\n",
        "\n",
        "```\n",
        "def (nombre_de_funcion)(p,p2,p3...n):\n",
        "  donde p, p2, p3...pn: son parámetros\n",
        "```\n",
        "\n"
      ],
      "metadata": {
        "id": "cKuNutmF4x5a"
      }
    },
    {
      "cell_type": "markdown",
      "source": [
        "1. list()\n",
        "2. len()\n",
        "3. print()\n",
        "4. append()#POO Método\n",
        "5. int()\n",
        "6. input()"
      ],
      "metadata": {
        "id": "mOtBTlMO6Yn4"
      }
    },
    {
      "cell_type": "markdown",
      "source": [
        "##Tipos de funciones\n",
        "1. Sin parámetros, sin retorno\n",
        "2. Sin parámetros, con retorno\n",
        "3. Con parámetros, sin retorno\n",
        "4. Con parámetros, con retorno"
      ],
      "metadata": {
        "id": "qE8TtOUh7hln"
      }
    },
    {
      "cell_type": "markdown",
      "source": [
        "###1. Sin parámetros, sin retorno\n",
        "Se emplea como copiado dinámico"
      ],
      "metadata": {
        "id": "1Mz5jlbJ-QgN"
      }
    },
    {
      "cell_type": "code",
      "execution_count": null,
      "metadata": {
        "id": "WGK6q8ua4om2"
      },
      "outputs": [],
      "source": [
        "\n"
      ]
    },
    {
      "cell_type": "code",
      "source": [
        "#Ejemplo: Entrada de cajero electrónico\n",
        "def cajero (): #Esto significa que es sin parámetros.\n",
        "  print(\"Bienvenido a DaviUNAB\")\n",
        "  print(\"Estas son las operaciones que puede realizar:\")\n",
        "  print(\"1. Retirar\\n2. Transferencia\\n3. Denunciar\\n4. Operación sin tarjeta\")"
      ],
      "metadata": {
        "id": "EZBpW3FS82GZ"
      },
      "execution_count": null,
      "outputs": []
    },
    {
      "cell_type": "code",
      "source": [
        "cajero()"
      ],
      "metadata": {
        "colab": {
          "base_uri": "https://localhost:8080/"
        },
        "id": "oxLQfFxa8LJ_",
        "outputId": "3be1970d-a01b-46b7-ed49-a39463ce386b"
      },
      "execution_count": null,
      "outputs": [
        {
          "name": "stdout",
          "output_type": "stream",
          "text": [
            "Bienvenido a DaviUNAB\n",
            "Estas son las operaciones que puede realizar:\n",
            "1. Retirar\n",
            "2.Transferencia\n",
            "3. Denunciar\n",
            "4. Operación sin tarjeta\n",
            "Ingrese una opción 3\n"
          ]
        }
      ]
    },
    {
      "cell_type": "markdown",
      "source": [
        "###2. sin parametros, con retorno"
      ],
      "metadata": {
        "id": "OEk55zdx_SJm"
      }
    },
    {
      "cell_type": "code",
      "source": [
        "def cajero2 ():\n",
        "  print(\"Bienvenido a DaviUNAB\")\n",
        "  print(\"Estas son las operaciones que puede realizar:\")\n",
        "  print(\"1. Retirar\\n2.Transferencia\\n3. Denunciar\\n4. Operación sin tarjeta\")\n",
        "  rta=input(\"Ingrese una opción \") #Variable local\n",
        "  return rta #Vuelve una variable local a global"
      ],
      "metadata": {
        "id": "TpPQc4QX_QjM"
      },
      "execution_count": null,
      "outputs": []
    },
    {
      "cell_type": "code",
      "source": [
        "rta=\n",
        "cajero2()"
      ],
      "metadata": {
        "colab": {
          "base_uri": "https://localhost:8080/"
        },
        "id": "xDHiAhqyAAxM",
        "outputId": "473ece6d-c45d-4775-bfd3-a9a3c2c640f2"
      },
      "execution_count": null,
      "outputs": [
        {
          "name": "stdout",
          "output_type": "stream",
          "text": [
            "Bienvenido a DaviUNAB\n",
            "Estas son las operaciones que puede realizar:\n",
            "1. Retirar\n",
            "2.Transferencia\n",
            "3. Denunciar\n",
            "4. Operación sin tarjeta\n",
            "Ingrese una opción 3\n"
          ]
        }
      ]
    },
    {
      "cell_type": "code",
      "source": [
        "type(rta)"
      ],
      "metadata": {
        "colab": {
          "base_uri": "https://localhost:8080/"
        },
        "id": "zhrKly_BAJVG",
        "outputId": "c789f1d0-aded-4c0f-fff4-2ef0b7d2adf5"
      },
      "execution_count": null,
      "outputs": [
        {
          "output_type": "execute_result",
          "data": {
            "text/plain": [
              "str"
            ]
          },
          "metadata": {},
          "execution_count": 26
        }
      ]
    },
    {
      "cell_type": "markdown",
      "source": [
        "3. Con parámetros, sin retorno"
      ],
      "metadata": {
        "id": "APWzECRoBXkC"
      }
    },
    {
      "cell_type": "code",
      "source": [
        "#Ejemplo: el aréa de un rectángulo\n",
        "def area_rectangulo(u, du):\n",
        "  return(f\"El aréa de un rectángulo de base {u} y altura {du} es {u*du}\")"
      ],
      "metadata": {
        "id": "blrd1W9DBaGa"
      },
      "execution_count": null,
      "outputs": []
    },
    {
      "cell_type": "code",
      "source": [
        "area_rectangulo(10,15)"
      ],
      "metadata": {
        "colab": {
          "base_uri": "https://localhost:8080/",
          "height": 35
        },
        "id": "xLRDKym1CBmT",
        "outputId": "f1ce9c64-00ea-4b04-b344-db4b93f05711"
      },
      "execution_count": null,
      "outputs": [
        {
          "output_type": "execute_result",
          "data": {
            "text/plain": [
              "'El aréa de un rectángulo de base 10 y altura 15 es 150'"
            ],
            "application/vnd.google.colaboratory.intrinsic+json": {
              "type": "string"
            }
          },
          "metadata": {},
          "execution_count": 37
        }
      ]
    },
    {
      "cell_type": "code",
      "source": [
        "print(a)"
      ],
      "metadata": {
        "colab": {
          "base_uri": "https://localhost:8080/"
        },
        "id": "B6E4_L3ADRGI",
        "outputId": "0e8ab82f-2564-4d0b-975a-20689617aa1b"
      },
      "execution_count": null,
      "outputs": [
        {
          "output_type": "stream",
          "name": "stdout",
          "text": [
            "El aréa de un rectángulo de base 10 y altura 15 es 150\n"
          ]
        }
      ]
    },
    {
      "cell_type": "code",
      "source": [
        "type(a)"
      ],
      "metadata": {
        "colab": {
          "base_uri": "https://localhost:8080/"
        },
        "id": "ThIpdp93EG7I",
        "outputId": "c1b2cac5-8e6b-4edd-e90c-6a5445bfed28"
      },
      "execution_count": null,
      "outputs": [
        {
          "output_type": "execute_result",
          "data": {
            "text/plain": [
              "str"
            ]
          },
          "metadata": {},
          "execution_count": 38
        }
      ]
    },
    {
      "cell_type": "markdown",
      "source": [
        "##FUNCIONES ANÓNIMAS O LAMBDA\n",
        "1.  Siempre usan parámetros\n",
        "2.  Siempre genera retorno\n",
        "3. No tiene nombre --> anónimas\n",
        "4. **Se puede emplear n parámetros, pero sólo ejecuta una línea de código**\n",
        "###Definicón de funciones LAMBDA\n",
        "\n",
        "\n",
        "```\n",
        "variable=lambda (p,p1,p2,..., pn):\n",
        "operación\n",
        "```\n",
        "\n"
      ],
      "metadata": {
        "id": "p1vtDWAEEvPY"
      }
    },
    {
      "cell_type": "code",
      "source": [
        "#Ejemplo: Calcular el área de un triángulo\n",
        "area_triangulo=lambda a,b:a*b/2"
      ],
      "metadata": {
        "id": "0s8M9slhEuoB"
      },
      "execution_count": null,
      "outputs": []
    },
    {
      "cell_type": "code",
      "source": [
        "area_triangulo(3,8)"
      ],
      "metadata": {
        "colab": {
          "base_uri": "https://localhost:8080/"
        },
        "id": "zGVPBtTnGVWG",
        "outputId": "bef64f94-3743-4cd2-9aea-1f63de3e79bb"
      },
      "execution_count": null,
      "outputs": [
        {
          "output_type": "execute_result",
          "data": {
            "text/plain": [
              "12.0"
            ]
          },
          "metadata": {},
          "execution_count": 40
        }
      ]
    },
    {
      "cell_type": "code",
      "source": [
        "x=int(input(\"Ingrese la altura de un triángulo\"))\n",
        "y=int/input(\"Ingrese la base de un triángulo\")"
      ],
      "metadata": {
        "id": "0-dHFnANG99Q"
      },
      "execution_count": null,
      "outputs": []
    },
    {
      "cell_type": "markdown",
      "source": [
        "##1"
      ],
      "metadata": {
        "id": "TxA-owdrHgGW"
      }
    },
    {
      "cell_type": "code",
      "source": [
        "#Ejemplo: Calculor el área de un circulo\n",
        "area_circulo=lambda r: 3.14*(r**2)"
      ],
      "metadata": {
        "id": "TVNu-5yHHKhh"
      },
      "execution_count": null,
      "outputs": []
    },
    {
      "cell_type": "code",
      "source": [
        "area_circulo(3)"
      ],
      "metadata": {
        "colab": {
          "base_uri": "https://localhost:8080/"
        },
        "id": "M6smyqWCHXeG",
        "outputId": "da3a13f5-7193-439c-b6d7-471fce54ee67"
      },
      "execution_count": null,
      "outputs": [
        {
          "output_type": "execute_result",
          "data": {
            "text/plain": [
              "28.26"
            ]
          },
          "metadata": {},
          "execution_count": 73
        }
      ]
    },
    {
      "cell_type": "code",
      "source": [
        "#Ejemplo: Cual de 3 números es el mayor\n",
        "n1=int(input(\"Ingrese un número: \"))\n",
        "n2=int(input(\"Ingrese otro número: \"))\n",
        "n3=int(input(\"Ingrese otro número: \"))\n",
        "if n1 > n2 and n1 > n3:\n",
        "  print(f\"El mayor de los 3 números es {n1}\")\n",
        "elif n2 > n1 and n2 > n3:\n",
        "  print(f\"El mayor de los 3 números es {n2}\")\n",
        "else:\n",
        "  print(f\"El mayor de los 3 números es {n3}\")"
      ],
      "metadata": {
        "colab": {
          "base_uri": "https://localhost:8080/"
        },
        "id": "pvkI_Bv1JoRo",
        "outputId": "3d774c57-46c1-449e-db5e-dd33fff91707"
      },
      "execution_count": 77,
      "outputs": [
        {
          "output_type": "stream",
          "name": "stdout",
          "text": [
            "Ingrese un número: 3\n",
            "Ingrese otro número: 4\n",
            "Ingrese otro número: 5\n",
            "El mayor de los 3 números es 5\n"
          ]
        }
      ]
    },
    {
      "cell_type": "code",
      "source": [
        "mayor=lambda x, y, z: (max(x,y,z))"
      ],
      "metadata": {
        "id": "mjGScICkLpuj"
      },
      "execution_count": 81,
      "outputs": []
    },
    {
      "cell_type": "code",
      "source": [
        "mayor(1,2,3)"
      ],
      "metadata": {
        "colab": {
          "base_uri": "https://localhost:8080/"
        },
        "id": "FX302z_JL_9B",
        "outputId": "68e06bd3-bdaa-4f1f-f4db-41eded91a126"
      },
      "execution_count": 82,
      "outputs": [
        {
          "output_type": "execute_result",
          "data": {
            "text/plain": [
              "3"
            ]
          },
          "metadata": {},
          "execution_count": 82
        }
      ]
    }
  ]
}