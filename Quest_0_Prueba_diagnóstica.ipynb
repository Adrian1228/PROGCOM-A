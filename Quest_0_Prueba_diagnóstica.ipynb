{
  "nbformat": 4,
  "nbformat_minor": 0,
  "metadata": {
    "colab": {
      "provenance": []
    },
    "kernelspec": {
      "name": "python3",
      "display_name": "Python 3"
    },
    "language_info": {
      "name": "python"
    }
  },
  "cells": [
    {
      "cell_type": "code",
      "source": [],
      "metadata": {
        "id": "T4sv2MtXMZIU"
      },
      "execution_count": null,
      "outputs": []
    },
    {
      "cell_type": "markdown",
      "source": [
        "##Prueba diagnóstica"
      ],
      "metadata": {
        "id": "rioFix-AMZfM"
      }
    },
    {
      "cell_type": "markdown",
      "source": [
        "##Estructuras de selección\n",
        "Aquí se desarrollarán ejercicios sobre estructuras de selección\n",
        "\n",
        "Por pseint\n",
        "\n",
        "\n",
        "\n",
        "```\n",
        "Si (condición) Entonces:\n",
        "  pasan cosas divertidas 🕒\n",
        "sino:\n",
        "  llórelo 😭\n",
        "```\n",
        "Por algoritmo\n",
        "1. Solicito la variable y la almaceno en a\n",
        "2. Comparo esa variable con otra llamada b\n"
      ],
      "metadata": {
        "id": "VtYDfHuiMiij"
      }
    },
    {
      "cell_type": "code",
      "source": [],
      "metadata": {
        "id": "lU2MYHAdMdO0"
      },
      "execution_count": null,
      "outputs": []
    }
  ]
}