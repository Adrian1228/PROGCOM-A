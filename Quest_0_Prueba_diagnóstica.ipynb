{
  "nbformat": 4,
  "nbformat_minor": 0,
  "metadata": {
    "colab": {
      "provenance": [],
      "authorship_tag": "ABX9TyOBTfAd75uj3+5aAA4d4i7K",
      "include_colab_link": true
    },
    "kernelspec": {
      "name": "python3",
      "display_name": "Python 3"
    },
    "language_info": {
      "name": "python"
    }
  },
  "cells": [
    {
      "cell_type": "markdown",
      "metadata": {
        "id": "view-in-github",
        "colab_type": "text"
      },
      "source": [
        "<a href=\"https://colab.research.google.com/github/Adrian1228/PROGCOM-A/blob/main/Quest_0_Prueba_diagn%C3%B3stica.ipynb\" target=\"_parent\"><img src=\"https://colab.research.google.com/assets/colab-badge.svg\" alt=\"Open In Colab\"/></a>"
      ]
    },
    {
      "cell_type": "code",
      "source": [],
      "metadata": {
        "id": "T4sv2MtXMZIU"
      },
      "execution_count": null,
      "outputs": []
    },
    {
      "cell_type": "markdown",
      "source": [
        "##Prueba diagnóstica"
      ],
      "metadata": {
        "id": "rioFix-AMZfM"
      }
    },
    {
      "cell_type": "markdown",
      "source": [
        "##Estructuras de selección\n",
        "Aquí se desarrollarán ejercicios sobre estructuras de selección\n",
        "\n",
        "Por pseint\n",
        "\n",
        "\n",
        "\n",
        "```\n",
        "Si (condición) Entonces:\n",
        "  pasan cosas divertidas 🕒\n",
        "sino:\n",
        "  llórelo 😭\n",
        "```\n",
        "Por algoritmo\n",
        "1. Solicito la variable y la almaceno en a\n",
        "2. Comparo esa variable con otra llamada b\n"
      ],
      "metadata": {
        "id": "VtYDfHuiMiij"
      }
    },
    {
      "cell_type": "markdown",
      "source": [
        "\n",
        "Ejercicio 1\n",
        "```\n",
        "Algoritmo Número\n",
        "\tDefinir n Como Entero\n",
        "\tEscribir \"Dime un número\"\n",
        "\tLeer n\n",
        "\tSi n >= 0 Entonces\n",
        "\t\tEscribir \"El número es positivo\"\n",
        "\tSiNo\n",
        "\t\tEscribir \"El número es negativo\"\n",
        "\tFinSi\n",
        "FinAlgoritmo\n",
        "```\n",
        "\n"
      ],
      "metadata": {
        "id": "3evSKKUoXSGy"
      }
    },
    {
      "cell_type": "markdown",
      "source": [
        "\n",
        "\n",
        "```\n",
        "Algoritmo Edad\n",
        "\tDefinir E Como Entero\n",
        "\tEscribir \"Dime tu edad\"\n",
        "\tLeer E\n",
        "\tSi E >= 18 Entonces\n",
        "\t\tEscribir \"Eres mayor de edad\"\n",
        "\tSiNo\n",
        "\t\tEscribir \"Eres menor de edad\"\n",
        "\tFinSi\n",
        "FinAlgoritmo\n",
        "```\n",
        "\n"
      ],
      "metadata": {
        "id": "dSzzRo5BXxaK"
      }
    },
    {
      "cell_type": "markdown",
      "source": [
        "\n",
        "\n",
        "```\n",
        "Algoritmo Número Mayor\n",
        "\tDefinir n1, n2 Como Entero\n",
        "\tEscribir \"Dime un número\"\n",
        "\tLeer n1\n",
        "\tEscribir \"Dime otro número\"\n",
        "\tLeer n2\n",
        "\tSi n1 > n2 Entonces\n",
        "\t\tEscribir n1 \"Es mayor que \" n2\n",
        "\tSiNo\n",
        "\t\tEscribir n2 \" Es mayor que \" n1\n",
        "\tFinSi\n",
        "FinAlgoritmo\n",
        "```\n",
        "\n"
      ],
      "metadata": {
        "id": "rj4VmAL9X-Zr"
      }
    },
    {
      "cell_type": "markdown",
      "source": [
        "\n",
        "\n",
        "```\n",
        "Algoritmo Nota\n",
        "\tDefinir n Como Entero\n",
        "\tEscribir \"Dime tu nota\"\n",
        "\tLeer n\n",
        "\tSi n >= 60 Entonces\n",
        "\t\tEscribir \"Felicidades!! Aprobaste el examen \"\n",
        "\tSiNo\n",
        "\t\tEscribir \" NO!! Reprobaste el examen\"\n",
        "\tFinSi\n",
        "\tSi n > 100 Entonces\n",
        "\t\tEscribir \"Lo siento, esa nota no existe\"\n",
        "\tFinSi\n",
        "\tSi n < 0 Entonces\n",
        "\t\tEscribir \"Lo siento, esa nota no existe\"\n",
        "\tFinSi\n",
        "FinAlgoritmo\n",
        "```\n",
        "\n"
      ],
      "metadata": {
        "id": "8Ys10pOMZu_B"
      }
    },
    {
      "cell_type": "markdown",
      "source": [
        "\n",
        "\n",
        "```\n",
        "Algoritmo Par_Impar\n",
        "\tDefinir n Como Entero\n",
        "\tDefinir p Como Real\n",
        "\tEscribir \"Dime  un número\"\n",
        "\tLeer n\n",
        "\tp = n/2\n",
        "\tSi p = Entero Entonces\n",
        "\t\tEscribir \"Este número es par \"\n",
        "\tSiNo\n",
        "\t\tEscribir \"Este número es impar\"\n",
        "\tFinSi\n",
        "FinAlgoritmo\n",
        "```\n",
        "\n"
      ],
      "metadata": {
        "id": "Q1Tv4Fzea_hY"
      }
    },
    {
      "cell_type": "markdown",
      "source": [
        "\n",
        "\n",
        "```\n",
        "Algoritmo Número mayor\n",
        "\tDefinir n1, n2, n3 Como Entero\n",
        "\tEscribir \"Dime  un número\"\n",
        "\tLeer n1\n",
        "\tEscribir \"Dime otro número\"\n",
        "\tLeer n2\n",
        "\tEscribir \"Dime otro número\"\n",
        "\tLeer n3\n",
        "\tSi n1 > n2, n3 Entonces\n",
        "\t\tEscribir \"El número mayor es \" n1\n",
        "\tFinSi\n",
        "\tSi n2 > n1, n3 Entonces\n",
        "\t\tEscribir \"El número mayor es \" n2\n",
        "\tFinSi\n",
        "\tSi n3 > n1, n2 Entonces\n",
        "\t\tEscribir \"El número mayor es \" n3\n",
        "\tFinSi\n",
        "FinAlgoritmo\n",
        "```\n",
        "\n"
      ],
      "metadata": {
        "id": "Ac7ow2b0bzvP"
      }
    },
    {
      "cell_type": "markdown",
      "source": [
        "\n",
        "\n",
        "```\n",
        "Algoritmo  Año_Bisiesto\n",
        "\tDefinir a Como Entero\n",
        "\tEscribir \"Dime un año\"\n",
        "\tLeer a\n",
        "\tb = a/4\n",
        "\tSi b = Entero Entonces\n",
        "\t\tEscribir \"El año \" a \"Es bisiesto\"\n",
        "\tFinSi\n",
        "FinAlgoritmo\n",
        "\n",
        "```\n",
        "\n"
      ],
      "metadata": {
        "id": "gatYrANbcwDO"
      }
    },
    {
      "cell_type": "code",
      "source": [],
      "metadata": {
        "id": "lU2MYHAdMdO0"
      },
      "execution_count": null,
      "outputs": []
    }
  ]
}