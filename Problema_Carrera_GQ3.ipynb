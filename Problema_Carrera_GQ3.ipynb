{
  "nbformat": 4,
  "nbformat_minor": 0,
  "metadata": {
    "colab": {
      "provenance": [],
      "authorship_tag": "ABX9TyMqaf8rFcHa0CEYmhn6yBI/",
      "include_colab_link": true
    },
    "kernelspec": {
      "name": "python3",
      "display_name": "Python 3"
    },
    "language_info": {
      "name": "python"
    }
  },
  "cells": [
    {
      "cell_type": "markdown",
      "metadata": {
        "id": "view-in-github",
        "colab_type": "text"
      },
      "source": [
        "<a href=\"https://colab.research.google.com/github/Adrian1228/PROGCOM-A/blob/main/Problema_Carrera_GQ3.ipynb\" target=\"_parent\"><img src=\"https://colab.research.google.com/assets/colab-badge.svg\" alt=\"Open In Colab\"/></a>"
      ]
    },
    {
      "cell_type": "code",
      "execution_count": 9,
      "metadata": {
        "colab": {
          "base_uri": "https://localhost:8080/"
        },
        "id": "nMk1ladZ2PCV",
        "outputId": "8363494c-7fda-45f0-f63e-e3cfd2d4c395"
      },
      "outputs": [
        {
          "output_type": "stream",
          "name": "stdout",
          "text": [
            "Análisis de Notas\n",
            "\n",
            "Ingresa las notas separadas por coma  (1.2,3.4,2.8,4.6)\n",
            "Notas: 5.0,4.5,4.0,3.7\n",
            "\n",
            "Notas ingresadas: [5.0, 4.5, 4.0, 3.7]\n",
            "\n",
            "Promedio: 4.30\n",
            "Mediana: 4.25\n",
            "Varianza: 0.33\n",
            "Desviación estándar: 0.57\n"
          ]
        }
      ],
      "source": [
        "##Problema: Se necesita calcular el promedio, mediana, varianza y desviación estándar de las notas de un grupo de estudiantes, hacerlo a mano tomo tiempo y pueden haber errores. Por este mmotivo, he creado la solución para esto.\n",
        "\n",
        "import statistics as stats\n",
        "def notas():\n",
        "    print(\"Análisis de Notas\")\n",
        "    print()\n",
        "    print(\"Ingresa las notas separadas por coma  (1.2,3.4,2.8,4.6)\")\n",
        "\n",
        "    entrada = input(\"Notas: \")\n",
        "\n",
        "    nota = [float(x) for x in entrada.split(\",\")]\n",
        "\n",
        "    print(f\"\\nNotas ingresadas: {nota}\\n\")\n",
        "\n",
        "    promedio = stats.mean(nota)\n",
        "    mediana = stats.median(nota)\n",
        "    varianza = stats.variance(nota)\n",
        "    desviacion = stats.stdev(nota)\n",
        "\n",
        "    print(f\"Promedio: {promedio:.2f}\")\n",
        "    print(f\"Mediana: {mediana:.2f}\")\n",
        "    print(f\"Varianza: {varianza:.2f}\")\n",
        "    print(f\"Desviación estándar: {desviacion:.2f}\")\n",
        "\n",
        "notas()"
      ]
    }
  ]
}