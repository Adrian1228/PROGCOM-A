{
  "cells": [
    {
      "cell_type": "markdown",
      "metadata": {
        "id": "view-in-github",
        "colab_type": "text"
      },
      "source": [
        "<a href=\"https://colab.research.google.com/github/Adrian1228/PROGCOM-A/blob/main/REPOSITORIO_PALABRAS.ipynb\" target=\"_parent\"><img src=\"https://colab.research.google.com/assets/colab-badge.svg\" alt=\"Open In Colab\"/></a>"
      ]
    },
    {
      "cell_type": "markdown",
      "source": [
        "#REPOSITORIO PALABRAS"
      ],
      "metadata": {
        "id": "lzphxAvYh6YV"
      }
    },
    {
      "cell_type": "markdown",
      "source": [
        "##False"
      ],
      "metadata": {
        "id": "TgNqRkzl3c6O"
      }
    },
    {
      "cell_type": "code",
      "source": [
        "#FALSE - Es el valor booleano Falso. Este hace parte de los booleanos que solo pueden arrojar verdadero o falso. Se usa en comparaciones o condiciones.\n",
        "x = False\n",
        "if not x:\n",
        "    print(\"x es falso\")"
      ],
      "metadata": {
        "id": "lJwCtyoniAyT",
        "outputId": "67818cdb-207a-4453-b40c-a234e78da363",
        "colab": {
          "base_uri": "https://localhost:8080/"
        }
      },
      "execution_count": null,
      "outputs": [
        {
          "output_type": "stream",
          "name": "stdout",
          "text": [
            "x es falso\n"
          ]
        }
      ]
    },
    {
      "cell_type": "markdown",
      "source": [
        "##None"
      ],
      "metadata": {
        "id": "-WvU6MJq3fmW"
      }
    },
    {
      "cell_type": "code",
      "source": [
        "#NONE - Representa la ausencia de un valor o de algo que es nulo, es decir, que un valor no existe.\n",
        "def saludo():\n",
        "    print(\"Hola\")\n",
        "resultado = saludo()\n",
        "print(resultado)"
      ],
      "metadata": {
        "id": "2vTUPv6cjKHO",
        "outputId": "e844c6c6-5d14-499b-c894-98147e07bd13",
        "colab": {
          "base_uri": "https://localhost:8080/"
        }
      },
      "execution_count": null,
      "outputs": [
        {
          "output_type": "stream",
          "name": "stdout",
          "text": [
            "Hola\n",
            "None\n"
          ]
        }
      ]
    },
    {
      "cell_type": "markdown",
      "source": [
        "##True"
      ],
      "metadata": {
        "id": "nV0aRdYX3hol"
      }
    },
    {
      "cell_type": "code",
      "source": [
        "#TRUE - Es el valor booleano Verdadero. Es el opuesto de False y también se usa en comparaciones o condiciones.\n",
        "mayor_edad = True\n",
        "if mayor_edad:\n",
        "    print(\"Eres mayor de edad, puedes ingresar\")\n"
      ],
      "metadata": {
        "id": "capWH0xkmuaP",
        "outputId": "ef030cc5-4e73-491b-ce24-47cf25febb00",
        "colab": {
          "base_uri": "https://localhost:8080/"
        }
      },
      "execution_count": null,
      "outputs": [
        {
          "output_type": "stream",
          "name": "stdout",
          "text": [
            "Eres mayor de edad, puedes ingresar\n"
          ]
        }
      ]
    },
    {
      "cell_type": "markdown",
      "source": [
        "##And"
      ],
      "metadata": {
        "id": "hlvcR-vA3jFB"
      }
    },
    {
      "cell_type": "code",
      "source": [
        "#AND - Es un operador lógico que devuelve algo en específico si se cumplen ambas condiciones, es decir, 2 condiciones en específicas.\n",
        "edad = 27\n",
        "documento = True\n",
        "if edad >= 18 and documento:\n",
        "    print(\"Acceso permitido\")"
      ],
      "metadata": {
        "id": "HKZCA0_enh2s",
        "outputId": "9a521651-5c2a-4cbc-9985-25da633bd3e2",
        "colab": {
          "base_uri": "https://localhost:8080/"
        }
      },
      "execution_count": null,
      "outputs": [
        {
          "output_type": "stream",
          "name": "stdout",
          "text": [
            "Acceso permitido\n"
          ]
        }
      ]
    },
    {
      "cell_type": "markdown",
      "source": [
        "##As"
      ],
      "metadata": {
        "id": "7i-jzpUx3kza"
      }
    },
    {
      "cell_type": "code",
      "source": [
        "#AS - Se usa para asignarle un alias más corto a una variable. Se usa para importaciones de módulos.\n",
        "import math as m\n",
        "print(m.sqrt(25))  #Raíz Cuadrada"
      ],
      "metadata": {
        "id": "5ZxCf4QSpJd1",
        "outputId": "d68bd293-e66b-4f73-8c68-328f69c47c62",
        "colab": {
          "base_uri": "https://localhost:8080/"
        }
      },
      "execution_count": null,
      "outputs": [
        {
          "output_type": "stream",
          "name": "stdout",
          "text": [
            "5.0\n"
          ]
        }
      ]
    },
    {
      "cell_type": "markdown",
      "source": [
        "##Assert"
      ],
      "metadata": {
        "id": "9G2drPs_3mYG"
      }
    },
    {
      "cell_type": "code",
      "source": [
        "#ASSERT - Se usa para verificar que una condición sea verdadera durante la ejecución. Si la condición es falsa, lanza un error. Esto sirve para hacer pruebas y verificar\n",
        "x = 7\n",
        "assert x > 0, \"x debe ser positivo\"\n",
        "print(f\"La condición se cumple, {x} es positivo\")"
      ],
      "metadata": {
        "id": "pNJHuba8sBMr",
        "outputId": "cf2ac6b2-6bd4-4033-b40b-5e363be13141",
        "colab": {
          "base_uri": "https://localhost:8080/"
        }
      },
      "execution_count": null,
      "outputs": [
        {
          "output_type": "stream",
          "name": "stdout",
          "text": [
            "La condición se cumple, 7 es positivo\n"
          ]
        }
      ]
    },
    {
      "cell_type": "markdown",
      "source": [
        "##Break"
      ],
      "metadata": {
        "id": "glIur6Kx3n4v"
      }
    },
    {
      "cell_type": "code",
      "source": [
        "#BREAK- Sirve para salir de un bucle antes de que termine normalmente.\n",
        "#Por ejemplo, si tenemos varias condiciones y se cumple la primera, se terminaría ahí gracias al break.\n",
        "for i in range(10):\n",
        "    if i == 7:\n",
        "        break\n",
        "    print(i)"
      ],
      "metadata": {
        "id": "JtYKkWNauwe0",
        "outputId": "cbfba01f-9e10-481f-d644-421aca99c61b",
        "colab": {
          "base_uri": "https://localhost:8080/"
        }
      },
      "execution_count": null,
      "outputs": [
        {
          "output_type": "stream",
          "name": "stdout",
          "text": [
            "0\n",
            "1\n",
            "2\n",
            "3\n",
            "4\n",
            "5\n",
            "6\n"
          ]
        }
      ]
    },
    {
      "cell_type": "markdown",
      "source": [
        "##Class"
      ],
      "metadata": {
        "id": "D8m6BXFX3pRR"
      }
    },
    {
      "cell_type": "code",
      "source": [
        "#CLASS - Sirve para crear un molde (plantilla) de donde salen objetos con sus propias variables y funciones.\n",
        "class Persona:\n",
        "    def __init__(self, nombre):\n",
        "        self.nombre = nombre\n",
        "\n",
        "p = Persona(\"Adrian\")\n",
        "print(p.nombre)\n"
      ],
      "metadata": {
        "id": "mh4MPB_SvagO",
        "outputId": "d7a6f1ee-29e2-4a05-afbb-d6223e032338",
        "colab": {
          "base_uri": "https://localhost:8080/"
        }
      },
      "execution_count": null,
      "outputs": [
        {
          "output_type": "stream",
          "name": "stdout",
          "text": [
            "Adrian\n"
          ]
        }
      ]
    },
    {
      "cell_type": "markdown",
      "source": [
        "##Continue"
      ],
      "metadata": {
        "id": "UvaTgJC_3rLV"
      }
    },
    {
      "cell_type": "code",
      "source": [
        "#CONTINUE - Salta a la siguiente iteración de un ciclo, es decir, omite una parte y sigue con lo otro.\n",
        "for i in range(5):\n",
        "    if i == 2:\n",
        "        continue #Omite el 2 y sigue con el resto\n",
        "    print(i)"
      ],
      "metadata": {
        "colab": {
          "base_uri": "https://localhost:8080/"
        },
        "id": "kJcWM1s6yYNT",
        "outputId": "05e89e00-6778-4b0b-a15f-e247be13f360"
      },
      "execution_count": null,
      "outputs": [
        {
          "output_type": "stream",
          "name": "stdout",
          "text": [
            "0\n",
            "1\n",
            "3\n",
            "4\n"
          ]
        }
      ]
    },
    {
      "cell_type": "markdown",
      "source": [
        "##Def"
      ],
      "metadata": {
        "id": "EHYRcHd53srr"
      }
    },
    {
      "cell_type": "code",
      "source": [
        "#DEF - Se usa para definir una función es decir, darle un valor\n",
        "def mensaje():\n",
        "    print(\"Profe la CheckCoin\")\n",
        "mensaje()"
      ],
      "metadata": {
        "colab": {
          "base_uri": "https://localhost:8080/"
        },
        "id": "9u45K-Eyz_rn",
        "outputId": "cc5e88a2-742d-47d6-f0b8-0fbb769eb2bc"
      },
      "execution_count": null,
      "outputs": [
        {
          "output_type": "stream",
          "name": "stdout",
          "text": [
            "Profe la CheckCoin\n"
          ]
        }
      ]
    },
    {
      "cell_type": "markdown",
      "source": [
        "##Del"
      ],
      "metadata": {
        "id": "OWlJU0SP3trs"
      }
    },
    {
      "cell_type": "code",
      "source": [
        "#DEL - Elimina una variable o un elemento de una lista.\n",
        "num = [1, 2, 3, 4]\n",
        "del num[1]  #Elimina el 2 porque ese número está en esa posición, recordemos que el primero es 0.\n",
        "print(num)"
      ],
      "metadata": {
        "colab": {
          "base_uri": "https://localhost:8080/"
        },
        "id": "33yenqzh1WYd",
        "outputId": "74078695-5956-4733-94ac-a5c0e5cc0e25"
      },
      "execution_count": null,
      "outputs": [
        {
          "output_type": "stream",
          "name": "stdout",
          "text": [
            "[1, 3, 4]\n"
          ]
        }
      ]
    },
    {
      "cell_type": "markdown",
      "source": [
        "##Elif"
      ],
      "metadata": {
        "id": "TKJ5M5wX3wMc"
      }
    },
    {
      "cell_type": "code",
      "source": [
        "#ELIF - Es una condición extra dentro de un If. Se usa cuando ya hay un If y un Else.\n",
        "a=int(input(\"Dime un número \"))\n",
        "b=int(input(\"Dime otro número \"))\n",
        "c=int(input(\"Dime otro número \"))\n",
        "if a > b and a > c: print(f\"{a} es el mayor de los tres números\")\n",
        "elif b > a and b > c: print(f\"{b} es el mayor de los tres números\") #Aquí lo Usamos.\n",
        "else: print(f\"{c} es el mayor de los tres números\")"
      ],
      "metadata": {
        "colab": {
          "base_uri": "https://localhost:8080/"
        },
        "id": "-Z5Ony9Y10gu",
        "outputId": "8eb090e1-627b-4989-8fd6-0dd8af324f41"
      },
      "execution_count": null,
      "outputs": [
        {
          "output_type": "stream",
          "name": "stdout",
          "text": [
            "Dime un número 3\n",
            "Dime otro número 4\n",
            "Dime otro número 5\n",
            "5 es el mayor de los tres números\n"
          ]
        }
      ]
    },
    {
      "cell_type": "markdown",
      "source": [
        "##Else"
      ],
      "metadata": {
        "id": "S02Uau0t3xkQ"
      }
    },
    {
      "cell_type": "code",
      "source": [
        "#ELSE - Se usa cuando la condición If no se cumple.\n",
        "edad=int(input(\"Dime tu edad \"))\n",
        "if edad>=18:\n",
        "  print(\"Eres mayor de edad\")\n",
        "else:\n",
        "  print(\"No eres mayor de edad\")"
      ],
      "metadata": {
        "colab": {
          "base_uri": "https://localhost:8080/"
        },
        "id": "r8IWabJ92sEH",
        "outputId": "4890f82b-7ebc-4597-9fd4-7e3eca7ccbee"
      },
      "execution_count": null,
      "outputs": [
        {
          "output_type": "stream",
          "name": "stdout",
          "text": [
            "Dime tu edad 17\n",
            "No eres mayor de edad\n"
          ]
        }
      ]
    },
    {
      "cell_type": "markdown",
      "source": [
        "##Except"
      ],
      "metadata": {
        "id": "WTYEeX00322w"
      }
    },
    {
      "cell_type": "code",
      "source": [
        "#EXCEPT - Se usa junto con try y sirve para manejar errores.\n",
        "try:\n",
        "    x = 10 / 0\n",
        "except:\n",
        "    print(\"Error, No se puede dividir entre cero\")"
      ],
      "metadata": {
        "colab": {
          "base_uri": "https://localhost:8080/"
        },
        "id": "JXSaFgQL34a5",
        "outputId": "6b518796-2bcd-4546-84da-6cfe5c3814c2"
      },
      "execution_count": null,
      "outputs": [
        {
          "output_type": "stream",
          "name": "stdout",
          "text": [
            "Error, No se puede dividir entre cero\n"
          ]
        }
      ]
    },
    {
      "cell_type": "markdown",
      "source": [
        "##Finally"
      ],
      "metadata": {
        "id": "WADv7ZfP6JgD"
      }
    },
    {
      "cell_type": "code",
      "source": [
        "#Finally - Bloque que siempre se ejecuta en try-except, ocurra o no un error.\n",
        "try:\n",
        "    x = 1 / 0\n",
        "except:\n",
        "    print(\"Error en la división\")\n",
        "finally:\n",
        "    print(\"Todo número divido en 0 se considera indefinido\")\n"
      ],
      "metadata": {
        "colab": {
          "base_uri": "https://localhost:8080/"
        },
        "id": "v0IBkWm66D8d",
        "outputId": "c46d5343-2e29-4e98-ea3a-fd703a7d65d1"
      },
      "execution_count": null,
      "outputs": [
        {
          "output_type": "stream",
          "name": "stdout",
          "text": [
            "Error en la división\n",
            "Todo número divido en 0 se considera indefinido\n"
          ]
        }
      ]
    },
    {
      "cell_type": "markdown",
      "source": [
        "##For"
      ],
      "metadata": {
        "id": "2IiGdvXm60CI"
      }
    },
    {
      "cell_type": "code",
      "source": [
        "#FOR - Es un bucle que contiene muchas secuencias.\n",
        "for x in range(5):\n",
        "    print(x)"
      ],
      "metadata": {
        "colab": {
          "base_uri": "https://localhost:8080/"
        },
        "id": "Ma5_hYCc62Gs",
        "outputId": "db721d1f-d977-4d87-eaa8-1a5ca9c7e274"
      },
      "execution_count": null,
      "outputs": [
        {
          "output_type": "stream",
          "name": "stdout",
          "text": [
            "0\n",
            "1\n",
            "2\n",
            "3\n",
            "4\n"
          ]
        }
      ]
    },
    {
      "cell_type": "markdown",
      "source": [
        "##From"
      ],
      "metadata": {
        "id": "fn2AFZ9f7Hp6"
      }
    },
    {
      "cell_type": "code",
      "source": [
        "#FROM - Importa partes específicas de un módulo.\n",
        "from math import sqrt\n",
        "print(sqrt(16))"
      ],
      "metadata": {
        "colab": {
          "base_uri": "https://localhost:8080/"
        },
        "id": "iQ7IZAe07JpR",
        "outputId": "5a14c64f-5b7e-4a2a-c03a-5dedf508c2f7"
      },
      "execution_count": null,
      "outputs": [
        {
          "output_type": "stream",
          "name": "stdout",
          "text": [
            "4.0\n"
          ]
        }
      ]
    },
    {
      "cell_type": "markdown",
      "source": [
        "##Global"
      ],
      "metadata": {
        "id": "FHYf7kum7i7A"
      }
    },
    {
      "cell_type": "code",
      "source": [
        "#Global - Permite modificar variables globales dentro de funciones.\n",
        "x = 5\n",
        "def cambiar():\n",
        "    global x\n",
        "    x = 10\n",
        "cambiar() #Cambia de 5 a 10\n",
        "print(x)"
      ],
      "metadata": {
        "colab": {
          "base_uri": "https://localhost:8080/"
        },
        "id": "YdqfW6VM7yqz",
        "outputId": "d89f7636-56ac-4c88-bd12-e07eb73d6b82"
      },
      "execution_count": null,
      "outputs": [
        {
          "output_type": "stream",
          "name": "stdout",
          "text": [
            "10\n"
          ]
        }
      ]
    },
    {
      "cell_type": "markdown",
      "source": [
        "##If"
      ],
      "metadata": {
        "id": "Pfqw8Yuw7lyo"
      }
    },
    {
      "cell_type": "code",
      "source": [
        "#IF - Es una condición que se le da al programa\n",
        "x = 7\n",
        "if x > 5:\n",
        "    print(\"Mayor a 5\")"
      ],
      "metadata": {
        "id": "xqa2epTe7y7a",
        "colab": {
          "base_uri": "https://localhost:8080/"
        },
        "outputId": "5e58ad60-3ab1-4db1-f8b3-832d1cfe31f3"
      },
      "execution_count": null,
      "outputs": [
        {
          "output_type": "stream",
          "name": "stdout",
          "text": [
            "Mayor a 5\n"
          ]
        }
      ]
    },
    {
      "cell_type": "markdown",
      "source": [
        "##Import"
      ],
      "metadata": {
        "id": "KhQInQHv7sZm"
      }
    },
    {
      "cell_type": "code",
      "source": [
        "#IMPORT - Como su nombre lo indica permite importar o traer algo, puede ser un módulo o una librería\n",
        "import math\n",
        "print(math.pi)"
      ],
      "metadata": {
        "id": "xACZ-nzA7zj6",
        "colab": {
          "base_uri": "https://localhost:8080/"
        },
        "outputId": "4fffb075-0e3f-49db-ab2a-d2293cdcb5a1"
      },
      "execution_count": null,
      "outputs": [
        {
          "output_type": "stream",
          "name": "stdout",
          "text": [
            "3.141592653589793\n"
          ]
        }
      ]
    },
    {
      "cell_type": "markdown",
      "source": [
        "##In"
      ],
      "metadata": {
        "id": "RLkqwaX47tiA"
      }
    },
    {
      "cell_type": "code",
      "source": [
        "#IN - Revisa si un valor está dentro de una lista\n",
        "print(3 in [1,2,3]) #Es veradero porque el 3 si está en esa lista, si fuera por ejemplo, 5, nos daría False."
      ],
      "metadata": {
        "id": "7FiGQwA-70KI",
        "colab": {
          "base_uri": "https://localhost:8080/"
        },
        "outputId": "905999bf-d32c-4a9c-d5e0-6b68fcc07c52"
      },
      "execution_count": null,
      "outputs": [
        {
          "output_type": "stream",
          "name": "stdout",
          "text": [
            "True\n"
          ]
        }
      ]
    },
    {
      "cell_type": "markdown",
      "source": [
        "##Is"
      ],
      "metadata": {
        "id": "hMcVDy_8BPrD"
      }
    },
    {
      "cell_type": "code",
      "source": [
        "#IS - Comprueba si dos variables son lo mismo.\n",
        "a = [1,3]\n",
        "b = a\n",
        "print(a is b)"
      ],
      "metadata": {
        "colab": {
          "base_uri": "https://localhost:8080/"
        },
        "id": "z2YxCP2dBSdz",
        "outputId": "e00ea00a-ba10-49f9-84a1-3aa75ad9f9c8"
      },
      "execution_count": null,
      "outputs": [
        {
          "output_type": "stream",
          "name": "stdout",
          "text": [
            "True\n"
          ]
        }
      ]
    },
    {
      "cell_type": "markdown",
      "source": [
        "##Lambda"
      ],
      "metadata": {
        "id": "I7z4piCUB03T"
      }
    },
    {
      "cell_type": "code",
      "source": [
        "#LAMBDA - Crea funciones anónimas.\n",
        "area_triangulo=lambda a,b:a*b/2\n",
        "area_triangulo(3, 8)"
      ],
      "metadata": {
        "id": "8muitmZuBYtr",
        "colab": {
          "base_uri": "https://localhost:8080/"
        },
        "outputId": "1298160b-d926-4fa5-f6d1-3e367a7fb871"
      },
      "execution_count": null,
      "outputs": [
        {
          "output_type": "execute_result",
          "data": {
            "text/plain": [
              "12.0"
            ]
          },
          "metadata": {},
          "execution_count": 11
        }
      ]
    },
    {
      "cell_type": "markdown",
      "source": [
        "##Nonlocal"
      ],
      "metadata": {
        "id": "Ou7J9dLyCVxU"
      }
    },
    {
      "cell_type": "code",
      "source": [
        "#NONLOCAL - Permite modificar variables de funciones anidadas\n",
        "def sport():\n",
        "  x = \"fútbol\"\n",
        "  def cambio():\n",
        "      nonlocal x\n",
        "      x = \"Voleibol\"\n",
        "  cambio()\n",
        "  print(x)\n",
        "sport()"
      ],
      "metadata": {
        "colab": {
          "base_uri": "https://localhost:8080/"
        },
        "id": "W03ZAINyFgNE",
        "outputId": "09e64bad-1672-47e1-c644-233791a2be49"
      },
      "execution_count": null,
      "outputs": [
        {
          "output_type": "stream",
          "name": "stdout",
          "text": [
            "Voleibol\n"
          ]
        }
      ]
    },
    {
      "cell_type": "markdown",
      "source": [
        "##Not"
      ],
      "metadata": {
        "id": "icEN1GH1JeF8"
      }
    },
    {
      "cell_type": "code",
      "source": [
        "#NOT - Se usa para negar una acción o condición.\n",
        "print(not True) #Nos niega el True (Verdadero) y nos da el contrario o sea, False (Falso)"
      ],
      "metadata": {
        "colab": {
          "base_uri": "https://localhost:8080/"
        },
        "id": "zZJ_h_YjJg90",
        "outputId": "e671495b-722c-4588-c959-557d327432de"
      },
      "execution_count": null,
      "outputs": [
        {
          "output_type": "stream",
          "name": "stdout",
          "text": [
            "False\n"
          ]
        }
      ]
    },
    {
      "cell_type": "markdown",
      "source": [
        "##Or"
      ],
      "metadata": {
        "id": "8t7J3fNfJfX1"
      }
    },
    {
      "cell_type": "code",
      "source": [
        "#OR - Es un operador lógico el cual realiza el programa con base en una condición u otra.\n",
        "print(\"Adrian\" or \"Profe\")"
      ],
      "metadata": {
        "colab": {
          "base_uri": "https://localhost:8080/"
        },
        "id": "rtYuFt-uJvX0",
        "outputId": "62ad68cc-b843-47e9-d22e-0ae4ecd2dd04"
      },
      "execution_count": null,
      "outputs": [
        {
          "output_type": "stream",
          "name": "stdout",
          "text": [
            "Adrian\n"
          ]
        }
      ]
    },
    {
      "cell_type": "markdown",
      "source": [
        "##Pass"
      ],
      "metadata": {
        "id": "mHwgAqvEL-AU"
      }
    },
    {
      "cell_type": "code",
      "source": [
        "#PASS - Es una instrucción que no hace nada; es un marcador de posición nulo que sirve para indicar que un bloque de código debe existir, pero en ese momento todavía no hay ningún valor ahí.\n",
        "def pend():\n",
        "  pass"
      ],
      "metadata": {
        "id": "AJrbVKUXMAoO"
      },
      "execution_count": null,
      "outputs": []
    },
    {
      "cell_type": "markdown",
      "source": [
        "##Raise"
      ],
      "metadata": {
        "id": "0GNNYVhbznc2"
      }
    },
    {
      "cell_type": "code",
      "source": [
        "##RAISE - Se usa para mandar un error a propósito.\n",
        "raise ValueError(\"Error a propósito\")"
      ],
      "metadata": {
        "colab": {
          "base_uri": "https://localhost:8080/",
          "height": 159
        },
        "id": "NBp1-NNezl9f",
        "outputId": "c4229ad7-1cc2-4975-84e9-7b3672add524"
      },
      "execution_count": null,
      "outputs": [
        {
          "output_type": "error",
          "ename": "ValueError",
          "evalue": "Error a propósito",
          "traceback": [
            "\u001b[0;31m---------------------------------------------------------------------------\u001b[0m",
            "\u001b[0;31mValueError\u001b[0m                                Traceback (most recent call last)",
            "\u001b[0;32m/tmp/ipython-input-1309827345.py\u001b[0m in \u001b[0;36m<cell line: 0>\u001b[0;34m()\u001b[0m\n\u001b[1;32m      1\u001b[0m \u001b[0;31m##RAISE - Se usa para mandar un error a propósito.\u001b[0m\u001b[0;34m\u001b[0m\u001b[0;34m\u001b[0m\u001b[0m\n\u001b[0;32m----> 2\u001b[0;31m \u001b[0;32mraise\u001b[0m \u001b[0mValueError\u001b[0m\u001b[0;34m(\u001b[0m\u001b[0;34m\"Error a propósito\"\u001b[0m\u001b[0;34m)\u001b[0m\u001b[0;34m\u001b[0m\u001b[0;34m\u001b[0m\u001b[0m\n\u001b[0m",
            "\u001b[0;31mValueError\u001b[0m: Error a propósito"
          ]
        }
      ]
    },
    {
      "cell_type": "markdown",
      "source": [
        "##Return"
      ],
      "metadata": {
        "id": "sd_6sKJS0VhU"
      }
    },
    {
      "cell_type": "code",
      "source": [
        "#RETURN - Devuelve un valor desde una función\n",
        "def suma(a,b):\n",
        "  return a + b\n",
        "suma(4,8)"
      ],
      "metadata": {
        "colab": {
          "base_uri": "https://localhost:8080/"
        },
        "id": "ayYMP-AK0WV7",
        "outputId": "9eaefe72-8d43-4233-8877-73346deec18c"
      },
      "execution_count": null,
      "outputs": [
        {
          "output_type": "execute_result",
          "data": {
            "text/plain": [
              "12"
            ]
          },
          "metadata": {},
          "execution_count": 9
        }
      ]
    },
    {
      "cell_type": "markdown",
      "source": [
        "##Try"
      ],
      "metadata": {
        "id": "_ey5o8Vz00DC"
      }
    },
    {
      "cell_type": "code",
      "source": [
        "#TRY - Ejecuta un bloque de código para someterlo a unas pruebas por si algo llega a fallar.\n",
        "try:\n",
        "  print(10/0)\n",
        "except:\n",
        "  print(\"Error, un número dividio entre cero se considera indefinido\")"
      ],
      "metadata": {
        "colab": {
          "base_uri": "https://localhost:8080/"
        },
        "id": "uFPMbnl001wi",
        "outputId": "e881854a-282a-4f1d-e155-f6872f31305b"
      },
      "execution_count": null,
      "outputs": [
        {
          "output_type": "stream",
          "name": "stdout",
          "text": [
            "Error, un número dividio entre cero se considera indefinido\n"
          ]
        }
      ]
    },
    {
      "cell_type": "markdown",
      "source": [
        "##While"
      ],
      "metadata": {
        "id": "lTgSgcsN12kv"
      }
    },
    {
      "cell_type": "code",
      "source": [
        "#WHILE - Es un bucle que se repite mientras se cumpla una condición\n",
        "x = 0\n",
        "while x < 3:\n",
        "  print(x)\n",
        "  x+=1"
      ],
      "metadata": {
        "colab": {
          "base_uri": "https://localhost:8080/"
        },
        "id": "lBUPo9Fp1_OW",
        "outputId": "ec65ff5e-2bc7-4560-cd2d-9c4a24e5353a"
      },
      "execution_count": null,
      "outputs": [
        {
          "output_type": "stream",
          "name": "stdout",
          "text": [
            "0\n",
            "1\n",
            "2\n"
          ]
        }
      ]
    },
    {
      "cell_type": "markdown",
      "source": [
        "##With"
      ],
      "metadata": {
        "id": "tWVk3MiC17S-"
      }
    },
    {
      "cell_type": "code",
      "source": [
        "#WITH - sirve para ejecutar un bloque de código que hace referencia repetidamente a un solo objeto, haciendo el código más legible y evitando la necesidad de escribir el nombre del objeto varias veces.\n",
        "with open(\"clasehoy.txt\", \"w\") as f:\n",
        "  f.write(\"Hola Profe\")"
      ],
      "metadata": {
        "id": "HqgrhIoa1_t2"
      },
      "execution_count": null,
      "outputs": []
    },
    {
      "cell_type": "markdown",
      "source": [
        "##Yield"
      ],
      "metadata": {
        "id": "Ctfo_Yns19hm"
      }
    },
    {
      "cell_type": "code",
      "source": [
        "#Yield - Converte una función en generador, es decir, devuelve los valores uno a uno.\n",
        "def contar():\n",
        "  for i in range(5):\n",
        "    yield i\n",
        "for num in contar():\n",
        "  print(num)"
      ],
      "metadata": {
        "colab": {
          "base_uri": "https://localhost:8080/"
        },
        "id": "Es6-RuXP2ALH",
        "outputId": "2f684bd5-923c-4ce8-a775-3960574bfab6"
      },
      "execution_count": null,
      "outputs": [
        {
          "output_type": "stream",
          "name": "stdout",
          "text": [
            "0\n",
            "1\n",
            "2\n",
            "3\n",
            "4\n"
          ]
        }
      ]
    }
  ],
  "metadata": {
    "colab": {
      "toc_visible": true,
      "provenance": [],
      "include_colab_link": true
    },
    "kernelspec": {
      "display_name": "Python 3",
      "name": "python3"
    }
  },
  "nbformat": 4,
  "nbformat_minor": 0
}