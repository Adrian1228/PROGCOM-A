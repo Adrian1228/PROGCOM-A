{
  "nbformat": 4,
  "nbformat_minor": 0,
  "metadata": {
    "colab": {
      "provenance": [],
      "authorship_tag": "ABX9TyOpdDwG7qDwCuA1q139/plP",
      "include_colab_link": true
    },
    "kernelspec": {
      "name": "python3",
      "display_name": "Python 3"
    },
    "language_info": {
      "name": "python"
    }
  },
  "cells": [
    {
      "cell_type": "markdown",
      "metadata": {
        "id": "view-in-github",
        "colab_type": "text"
      },
      "source": [
        "<a href=\"https://colab.research.google.com/github/Adrian1228/PROGCOM-A/blob/main/DICCIONARIOS.ipynb\" target=\"_parent\"><img src=\"https://colab.research.google.com/assets/colab-badge.svg\" alt=\"Open In Colab\"/></a>"
      ]
    },
    {
      "cell_type": "markdown",
      "source": [
        "#DICCIONARIOS\n",
        "Un tipo de dato, que tiene como sintaxis:\n",
        "\n",
        "\n",
        "\n",
        "```\n",
        "Nombre_dict={}\n",
        "dict2={\"clave\":valor}\n",
        "```\n",
        "*La \"clave o llave\": siempre es alfanúmerica\n",
        "Valor: Puede ser cualquier tipo de dato\n",
        "\n",
        "Posee las siguientes características\n"
      ],
      "metadata": {
        "id": "QeX_udJafoJ0"
      }
    },
    {
      "cell_type": "code",
      "source": [
        "Lista=list(range(1,11))\n",
        "Lista[0]"
      ],
      "metadata": {
        "id": "yk2gaUObfn6E",
        "colab": {
          "base_uri": "https://localhost:8080/"
        },
        "outputId": "9ac0b77c-f186-457a-ceea-5a8bc113a3ac"
      },
      "execution_count": null,
      "outputs": [
        {
          "output_type": "execute_result",
          "data": {
            "text/plain": [
              "1"
            ]
          },
          "metadata": {},
          "execution_count": 12
        }
      ]
    },
    {
      "cell_type": "code",
      "source": [
        "liga_justicia={\"Superhéroes\": [\"Supermán\", \"Batman\", \"Wondar  Woman\"],\n",
        "               \"villanos\":[\"Lex Luthor\", \"Jocker\", \"Cheetah\"],\n",
        "                \"identidad secreta\": [\"Clark Kent\", \"Bruce Wayne\", \"Diana Prince\"]}"
      ],
      "metadata": {
        "id": "ujnyc8JbhKt8"
      },
      "execution_count": null,
      "outputs": []
    },
    {
      "cell_type": "code",
      "source": [
        "liga_justicia"
      ],
      "metadata": {
        "colab": {
          "base_uri": "https://localhost:8080/"
        },
        "id": "GyroWy9ch22q",
        "outputId": "5666c69b-5a14-4413-fa09-4bc297cd015a"
      },
      "execution_count": null,
      "outputs": [
        {
          "output_type": "execute_result",
          "data": {
            "text/plain": [
              "{'Superhéroes': ['Supermán', 'Batman', 'Wondar  Woman'],\n",
              " 'villanos': ['Lex Luthor', 'Jocker', 'Cheetah'],\n",
              " 'identidad secreta': ['Clark Kent', 'Bruce Wayne', 'Diana Prince']}"
            ]
          },
          "metadata": {},
          "execution_count": 14
        }
      ]
    },
    {
      "cell_type": "code",
      "source": [
        "liga_justicia[\"identidad secreta\"][2]\n"
      ],
      "metadata": {
        "colab": {
          "base_uri": "https://localhost:8080/",
          "height": 35
        },
        "id": "nF1rQhfkiFRR",
        "outputId": "ea5f794e-92c2-4b7f-8943-83e3bfbb8e97"
      },
      "execution_count": null,
      "outputs": [
        {
          "output_type": "execute_result",
          "data": {
            "text/plain": [
              "'Diana Prince'"
            ],
            "application/vnd.google.colaboratory.intrinsic+json": {
              "type": "string"
            }
          },
          "metadata": {},
          "execution_count": 15
        }
      ]
    },
    {
      "cell_type": "code",
      "source": [
        "print(\"La identidad secreta de\", liga_justicia [\"Superhéroes\"][1], \"es\", liga_justicia[\"identidad secreta\"][1])"
      ],
      "metadata": {
        "colab": {
          "base_uri": "https://localhost:8080/"
        },
        "id": "39UJz5P5k02_",
        "outputId": "f9360f5e-2e07-461b-a748-7c03798b704f"
      },
      "execution_count": null,
      "outputs": [
        {
          "output_type": "stream",
          "name": "stdout",
          "text": [
            "La identidad secreta de Batman es Bruce Wayne\n"
          ]
        }
      ]
    },
    {
      "cell_type": "markdown",
      "source": [
        "2.Puede almacenar cualquier tipo de valor\n",
        "Es mutable"
      ],
      "metadata": {
        "id": "CMJzAWFJkmj3"
      }
    },
    {
      "cell_type": "markdown",
      "source": [
        "##Keys"
      ],
      "metadata": {
        "id": "tHlGVVXNRXe4"
      }
    },
    {
      "cell_type": "code",
      "source": [
        "#keys(): Método de los diccionarios que permiten adquir todas las llaves del diccionario"
      ],
      "metadata": {
        "id": "8Lj65vtsR4JU"
      },
      "execution_count": null,
      "outputs": []
    },
    {
      "cell_type": "code",
      "source": [
        "print(liga_justicia.keys())"
      ],
      "metadata": {
        "colab": {
          "base_uri": "https://localhost:8080/"
        },
        "id": "vRX7t-VFRtLf",
        "outputId": "8729205c-06e4-433a-f8d6-ef3b1da7f48a"
      },
      "execution_count": null,
      "outputs": [
        {
          "output_type": "stream",
          "name": "stdout",
          "text": [
            "dict_keys(['Superhéroes', 'villanos', 'identidad secreta'])\n"
          ]
        }
      ]
    },
    {
      "cell_type": "markdown",
      "source": [
        "##Clear"
      ],
      "metadata": {
        "id": "LfiL1sg1R8c9"
      }
    },
    {
      "cell_type": "code",
      "source": [
        "#clear(): Método de los diccionarios que borra todos los elementos del código mencionado"
      ],
      "metadata": {
        "id": "4-MIgbLiR-FS"
      },
      "execution_count": null,
      "outputs": []
    },
    {
      "cell_type": "code",
      "source": [
        "liga_justicia.clear()\n",
        "print(liga_justicia)"
      ],
      "metadata": {
        "colab": {
          "base_uri": "https://localhost:8080/"
        },
        "id": "i4qX2B4wTuHA",
        "outputId": "2873f059-8655-4b02-a203-9221e17acaa7"
      },
      "execution_count": null,
      "outputs": [
        {
          "output_type": "stream",
          "name": "stdout",
          "text": [
            "{}\n"
          ]
        }
      ]
    },
    {
      "cell_type": "markdown",
      "source": [
        "##Copy"
      ],
      "metadata": {
        "id": "TuK6Z0BfT3Bu"
      }
    },
    {
      "cell_type": "code",
      "source": [
        "#copy(): Método que copia todo el diccionario"
      ],
      "metadata": {
        "id": "qybqkU3FUMGU"
      },
      "execution_count": null,
      "outputs": []
    },
    {
      "cell_type": "code",
      "source": [
        "copia = liga_justicia.copy()\n",
        "print(copia)"
      ],
      "metadata": {
        "colab": {
          "base_uri": "https://localhost:8080/"
        },
        "id": "sG5OXCCTUMZY",
        "outputId": "74b12833-3273-4252-c948-798a917130b8"
      },
      "execution_count": null,
      "outputs": [
        {
          "output_type": "stream",
          "name": "stdout",
          "text": [
            "{}\n"
          ]
        }
      ]
    },
    {
      "cell_type": "markdown",
      "source": [
        "##Fromkeys"
      ],
      "metadata": {
        "id": "y6QvZH8WT4sS"
      }
    },
    {
      "cell_type": "code",
      "source": [
        "#fromkeys():Crea un nuevo diccionario de llaves iterables y variables según lo que esté en el (), además, solo se pueden insertar datos tipo string"
      ],
      "metadata": {
        "id": "F8htPLuBUNFi"
      },
      "execution_count": null,
      "outputs": []
    },
    {
      "cell_type": "code",
      "source": [
        "liga_justicia.fromkeys (\"Superhéroes\")"
      ],
      "metadata": {
        "colab": {
          "base_uri": "https://localhost:8080/"
        },
        "id": "9_iixoIsUM6m",
        "outputId": "73de57e4-e426-4ef3-e6bc-cab63fc0f2e3"
      },
      "execution_count": null,
      "outputs": [
        {
          "output_type": "execute_result",
          "data": {
            "text/plain": [
              "{'S': None,\n",
              " 'u': None,\n",
              " 'p': None,\n",
              " 'e': None,\n",
              " 'r': None,\n",
              " 'h': None,\n",
              " 'é': None,\n",
              " 'o': None,\n",
              " 's': None}"
            ]
          },
          "metadata": {},
          "execution_count": 27
        }
      ]
    },
    {
      "cell_type": "markdown",
      "source": [
        "##Get"
      ],
      "metadata": {
        "id": "-JLD-dCtT6t-"
      }
    },
    {
      "cell_type": "code",
      "source": [
        "#get():Busca en el diccionario las claves que tiene e imprime el que se escribió, si no está la clave en el diccionario se imprime un none o nada"
      ],
      "metadata": {
        "id": "Sl66P4r4UNtU"
      },
      "execution_count": null,
      "outputs": []
    },
    {
      "cell_type": "code",
      "source": [
        "liga_justicia.get(\"Villanos\")"
      ],
      "metadata": {
        "id": "yR1BW6vQUNm6"
      },
      "execution_count": null,
      "outputs": []
    },
    {
      "cell_type": "markdown",
      "source": [
        "##Items"
      ],
      "metadata": {
        "id": "ECTwi5ROT87C"
      }
    },
    {
      "cell_type": "code",
      "source": [
        "#items(): Crea tuplas con las claves y los valores."
      ],
      "metadata": {
        "id": "Sa9afR2OUOPJ"
      },
      "execution_count": null,
      "outputs": []
    },
    {
      "cell_type": "code",
      "source": [
        "print(liga_justicia.items())"
      ],
      "metadata": {
        "colab": {
          "base_uri": "https://localhost:8080/"
        },
        "id": "hhmx4fv2UOJC",
        "outputId": "fd245e24-c2a6-48ae-d248-404e198427d7"
      },
      "execution_count": null,
      "outputs": [
        {
          "output_type": "stream",
          "name": "stdout",
          "text": [
            "dict_items([])\n"
          ]
        }
      ]
    },
    {
      "cell_type": "markdown",
      "source": [
        "##Pop"
      ],
      "metadata": {
        "id": "p2-MiZbET-iU"
      }
    },
    {
      "cell_type": "code",
      "source": [
        "#pop(): Elimina una clave del diccionario y devuelve su valor. Si la clave no existe y no se le da un valor por defecto arroja error."
      ],
      "metadata": {
        "id": "A9vRfSkGUOwE"
      },
      "execution_count": null,
      "outputs": []
    },
    {
      "cell_type": "code",
      "source": [
        "eliminado = liga_justicia.pop(\"identidad secreta\")\n",
        "print(eliminado) #ERROR"
      ],
      "metadata": {
        "colab": {
          "base_uri": "https://localhost:8080/",
          "height": 159
        },
        "id": "9kZB-TfeUOo8",
        "outputId": "65998b03-bad4-41db-debc-3a113b1da8b3"
      },
      "execution_count": null,
      "outputs": [
        {
          "output_type": "error",
          "ename": "KeyError",
          "evalue": "'identidad secreta'",
          "traceback": [
            "\u001b[0;31m---------------------------------------------------------------------------\u001b[0m",
            "\u001b[0;31mKeyError\u001b[0m                                  Traceback (most recent call last)",
            "\u001b[0;32m/tmp/ipython-input-1136897219.py\u001b[0m in \u001b[0;36m<cell line: 0>\u001b[0;34m()\u001b[0m\n\u001b[0;32m----> 1\u001b[0;31m \u001b[0meliminado\u001b[0m \u001b[0;34m=\u001b[0m \u001b[0mliga_justicia\u001b[0m\u001b[0;34m.\u001b[0m\u001b[0mpop\u001b[0m\u001b[0;34m(\u001b[0m\u001b[0;34m\"identidad secreta\"\u001b[0m\u001b[0;34m)\u001b[0m\u001b[0;34m\u001b[0m\u001b[0;34m\u001b[0m\u001b[0m\n\u001b[0m\u001b[1;32m      2\u001b[0m \u001b[0mprint\u001b[0m\u001b[0;34m(\u001b[0m\u001b[0meliminado\u001b[0m\u001b[0;34m)\u001b[0m \u001b[0;31m#ERROR\u001b[0m\u001b[0;34m\u001b[0m\u001b[0;34m\u001b[0m\u001b[0m\n",
            "\u001b[0;31mKeyError\u001b[0m: 'identidad secreta'"
          ]
        }
      ]
    },
    {
      "cell_type": "markdown",
      "source": [
        "##Popitem"
      ],
      "metadata": {
        "id": "Z72JIdSHT_rU"
      }
    },
    {
      "cell_type": "code",
      "source": [
        "#popitem() Se usa para eliminar y retornar un par clave-valor"
      ],
      "metadata": {
        "id": "3PdvBZvoUPyA"
      },
      "execution_count": null,
      "outputs": []
    },
    {
      "cell_type": "code",
      "source": [
        "ulti = liga_justicia.popitem()\n",
        "print(ulti)"
      ],
      "metadata": {
        "colab": {
          "base_uri": "https://localhost:8080/",
          "height": 159
        },
        "id": "Hx-SgCbHUPu8",
        "outputId": "ce34823f-609f-4b73-cc90-446b9a0e3f2c"
      },
      "execution_count": null,
      "outputs": [
        {
          "output_type": "error",
          "ename": "KeyError",
          "evalue": "'popitem(): dictionary is empty'",
          "traceback": [
            "\u001b[0;31m---------------------------------------------------------------------------\u001b[0m",
            "\u001b[0;31mKeyError\u001b[0m                                  Traceback (most recent call last)",
            "\u001b[0;32m/tmp/ipython-input-1020286048.py\u001b[0m in \u001b[0;36m<cell line: 0>\u001b[0;34m()\u001b[0m\n\u001b[0;32m----> 1\u001b[0;31m \u001b[0multi\u001b[0m \u001b[0;34m=\u001b[0m \u001b[0mliga_justicia\u001b[0m\u001b[0;34m.\u001b[0m\u001b[0mpopitem\u001b[0m\u001b[0;34m(\u001b[0m\u001b[0;34m)\u001b[0m\u001b[0;34m\u001b[0m\u001b[0;34m\u001b[0m\u001b[0m\n\u001b[0m\u001b[1;32m      2\u001b[0m \u001b[0mprint\u001b[0m\u001b[0;34m(\u001b[0m\u001b[0multi\u001b[0m\u001b[0;34m)\u001b[0m\u001b[0;34m\u001b[0m\u001b[0;34m\u001b[0m\u001b[0m\n",
            "\u001b[0;31mKeyError\u001b[0m: 'popitem(): dictionary is empty'"
          ]
        }
      ]
    },
    {
      "cell_type": "markdown",
      "source": [
        "##Setdefault"
      ],
      "metadata": {
        "id": "w7K5-BP7UC5S"
      }
    },
    {
      "cell_type": "code",
      "source": [
        "#setdefault():Se usa para insertar una clave con un valor predeterminado, También, si la clave no está en el diccionario, se puede usar el método texto en cursiva setdefault():"
      ],
      "metadata": {
        "id": "mMwoWbrfUPXI"
      },
      "execution_count": null,
      "outputs": []
    },
    {
      "cell_type": "code",
      "source": [
        "liga_justicia.setdefault(\"aliados\", [\"flash\", \"Cyborg\"])\n",
        "print(liga_justicia)"
      ],
      "metadata": {
        "colab": {
          "base_uri": "https://localhost:8080/"
        },
        "id": "tgY6qHLpUPS0",
        "outputId": "d39c74a2-da78-482d-fc49-70fafb8a0926"
      },
      "execution_count": null,
      "outputs": [
        {
          "output_type": "stream",
          "name": "stdout",
          "text": [
            "{'villanos': ['El pinguino', 'Zoom'], 'aliados': ['flash', 'Cyborg']}\n"
          ]
        }
      ]
    },
    {
      "cell_type": "markdown",
      "source": [
        "##Update"
      ],
      "metadata": {
        "id": "l6aCsmQdUFEq"
      }
    },
    {
      "cell_type": "code",
      "source": [
        "#update(): Se usa para modificar un valor de una clave existente o agregar un nuevo par clave:valor."
      ],
      "metadata": {
        "id": "NbHeAIR0UQck"
      },
      "execution_count": null,
      "outputs": []
    },
    {
      "cell_type": "code",
      "source": [
        "liga_justicia.update({\"villanos\": [\"El pinguino\", \"Zoom\"]})\n",
        "print(liga_justicia[\"villanos\"])"
      ],
      "metadata": {
        "colab": {
          "base_uri": "https://localhost:8080/"
        },
        "id": "d5nkw_y9UQaI",
        "outputId": "6f6f3524-481e-4dc2-ad99-a15f0db76e11"
      },
      "execution_count": null,
      "outputs": [
        {
          "output_type": "stream",
          "name": "stdout",
          "text": [
            "['El pinguino', 'Zoom']\n"
          ]
        }
      ]
    },
    {
      "cell_type": "markdown",
      "source": [
        "##Values"
      ],
      "metadata": {
        "id": "sOWpP8MYUHPE"
      }
    },
    {
      "cell_type": "code",
      "source": [
        "#values(): Son los valores asociados a cada llave. Pueden repetirse y ser de cualquier tipo. Por ejemplo, números, listas, cadenas, etc."
      ],
      "metadata": {
        "id": "waeIEkOeUn2Y"
      },
      "execution_count": null,
      "outputs": []
    },
    {
      "cell_type": "code",
      "source": [
        "print(liga_justicia.values())"
      ],
      "metadata": {
        "colab": {
          "base_uri": "https://localhost:8080/"
        },
        "id": "zFamyBbIUQ5w",
        "outputId": "cc93cfad-1768-4d9c-e7ff-555acd39af97"
      },
      "execution_count": null,
      "outputs": [
        {
          "output_type": "stream",
          "name": "stdout",
          "text": [
            "dict_values([])\n"
          ]
        }
      ]
    }
  ]
}