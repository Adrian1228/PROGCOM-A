{
  "nbformat": 4,
  "nbformat_minor": 0,
  "metadata": {
    "colab": {
      "provenance": [],
      "authorship_tag": "ABX9TyMHSqHLIXvk3Do1FnRQ5iOb",
      "include_colab_link": true
    },
    "kernelspec": {
      "name": "python3",
      "display_name": "Python 3"
    },
    "language_info": {
      "name": "python"
    }
  },
  "cells": [
    {
      "cell_type": "markdown",
      "metadata": {
        "id": "view-in-github",
        "colab_type": "text"
      },
      "source": [
        "<a href=\"https://colab.research.google.com/github/Adrian1228/PROGCOM-A/blob/main/Clase_1_Estructuras_de_selecci%C3%B3n.ipynb\" target=\"_parent\"><img src=\"https://colab.research.google.com/assets/colab-badge.svg\" alt=\"Open In Colab\"/></a>"
      ]
    },
    {
      "cell_type": "markdown",
      "source": [
        "#Estructuras de selección\n",
        "Se emplean cuando se debe evaluar una condición y este da un valor de verdadero (V) o falso (F)"
      ],
      "metadata": {
        "id": "QIgP8_Uou2B_"
      }
    },
    {
      "cell_type": "markdown",
      "source": [
        "##Estructuras if-else\n",
        "\n",
        "\n",
        "\n",
        "```\n",
        "if (condición):\n",
        "  entro aquí, si la condición es V\n",
        "else:\n",
        "  entro aquí, si la condición es F.\n",
        "```\n",
        "\n"
      ],
      "metadata": {
        "id": "-Hg07G-fvHUP"
      }
    },
    {
      "cell_type": "code",
      "source": [
        " #Escribe un programa que reciba un número e indique si es positivo\n",
        "n=int(input(\"Ingrese un número \"))\n",
        "if n>=0:\n",
        "  print(f\"{n} es un número positivo\")\n",
        "else:\n",
        "  print(f\"{n} No es un número positivo\")"
      ],
      "metadata": {
        "colab": {
          "base_uri": "https://localhost:8080/"
        },
        "id": "O5gvO7oBuwbn",
        "outputId": "ee5926cc-04ea-4227-c50c-e04437015ada"
      },
      "execution_count": 6,
      "outputs": [
        {
          "output_type": "stream",
          "name": "stdout",
          "text": [
            "Ingrese un número 5\n",
            "5 es un número positivo\n"
          ]
        }
      ]
    },
    {
      "cell_type": "markdown",
      "source": [
        "##Selección múltiple if- elif-else\n",
        "\n",
        "\n",
        "\n",
        "\n",
        "```\n",
        "if (condicición 1)\n",
        "  si se cumple condición 1, entro aquí\n",
        "elif (condición2):\n",
        "  si no se cumple condición 1,\n",
        "  pero se cumple condición 2,\n",
        "  entro aquí\n",
        "else:\n",
        "  Si no se cumple ninguna de las anteriores\n",
        "```\n",
        "\n"
      ],
      "metadata": {
        "id": "AuuQrfac1djl"
      }
    },
    {
      "cell_type": "code",
      "source": [
        "if n>0: print(f\"{n} es un número positivo\")\n",
        "elif n<0: print (f\"{n} No es un número positivo\")\n",
        "else: print(f\"{n} es 0 y es un número positivo\")"
      ],
      "metadata": {
        "id": "Lj6uFTCc2tIB"
      },
      "execution_count": null,
      "outputs": []
    },
    {
      "cell_type": "markdown",
      "source": [
        "##Operador terniario\n",
        "Se usa cuando hay una condición a evaluar simple y se desea resolver en una línea de código\n",
        "\n",
        "\n",
        "\n",
        "```\n",
        "(valor de verdad V) if\n",
        "(condición) else (valor de verdad F)\n",
        "```\n",
        "\n"
      ],
      "metadata": {
        "id": "taR1Egg-3JYX"
      }
    },
    {
      "cell_type": "code",
      "source": [
        "print(f\"{n} es un número positivo\") if n>=0 else print (f\"{n} No es número positivo\")"
      ],
      "metadata": {
        "colab": {
          "base_uri": "https://localhost:8080/"
        },
        "id": "a89BLdp_5dRO",
        "outputId": "69930839-27d4-473b-f3f3-d4e29d6c314b"
      },
      "execution_count": 9,
      "outputs": [
        {
          "output_type": "stream",
          "name": "stdout",
          "text": [
            "5 es un número positivo\n"
          ]
        }
      ]
    },
    {
      "cell_type": "code",
      "source": [
        " print(f\"{n} es un número positivo\") if n>=0 else print(f\"{n} No es un número positivo\")"
      ],
      "metadata": {
        "colab": {
          "base_uri": "https://localhost:8080/"
        },
        "id": "yHs_2lFe4D5H",
        "outputId": "f11ae602-7826-49d1-88bf-47bb955c5524"
      },
      "execution_count": 7,
      "outputs": [
        {
          "output_type": "stream",
          "name": "stdout",
          "text": [
            "5 es un número positivo\n"
          ]
        }
      ]
    },
    {
      "cell_type": "markdown",
      "source": [
        "#Punto 2"
      ],
      "metadata": {
        "id": "3Hc4_sB884Xi"
      }
    },
    {
      "cell_type": "code",
      "source": [
        " #Escribe un programa que reciba una edad y determine si la persona es mayor de edad\n",
        "edad=int(input(\"Dime tu edad \"))\n",
        "if edad>=18:\n",
        "  print(\"Eres mayor de edad\")\n",
        "else:\n",
        "  print(\"No eres mayor de edad\")"
      ],
      "metadata": {
        "colab": {
          "base_uri": "https://localhost:8080/"
        },
        "id": "Eg45r3Y58TbC",
        "outputId": "536066f2-c7d6-4928-e087-c014840cee4a"
      },
      "execution_count": 10,
      "outputs": [
        {
          "output_type": "stream",
          "name": "stdout",
          "text": [
            "Dime tu edad27\n",
            "Eres mayor de edad\n"
          ]
        }
      ]
    },
    {
      "cell_type": "code",
      "source": [
        "if edad>=18: print(\"Eres mayor de edad \")\n",
        "elif edad<18: print(\"No eres mayor de edad\")\n",
        "else: print(\"No eres mayor de edad en Estados unidos\")"
      ],
      "metadata": {
        "colab": {
          "base_uri": "https://localhost:8080/"
        },
        "id": "aGklVQEC9XK6",
        "outputId": "6f02eedf-a296-42c8-9c39-5dda9b200289"
      },
      "execution_count": 12,
      "outputs": [
        {
          "output_type": "stream",
          "name": "stdout",
          "text": [
            "Eres mayor de edad \n"
          ]
        }
      ]
    },
    {
      "cell_type": "code",
      "source": [
        "print(\"Eres mayor de edad\") if edad>=18 else print(\"No eres mayor de edad\")"
      ],
      "metadata": {
        "colab": {
          "base_uri": "https://localhost:8080/"
        },
        "id": "k23xxoPC9zwL",
        "outputId": "54a57dd9-8466-4191-fcca-92cd91e3f178"
      },
      "execution_count": 11,
      "outputs": [
        {
          "output_type": "stream",
          "name": "stdout",
          "text": [
            "Eres mayor de edad\n"
          ]
        }
      ]
    },
    {
      "cell_type": "markdown",
      "source": [
        "#Punto 3"
      ],
      "metadata": {
        "id": "GAZJNS4s-FMJ"
      }
    },
    {
      "cell_type": "code",
      "source": [
        "#Escribe un programa que reciba dos números e imprima el mayor\n",
        "n1=int(input(\"Dime un número \"))\n",
        "n2=int(input(\"Dime otro número \"))\n",
        "if n1>n2:\n",
        "  print(f\"{n1} es mayor que {n2}\")\n",
        "else:\n",
        "  print(f\"{n2} es mayor que {n1}\")"
      ],
      "metadata": {
        "colab": {
          "base_uri": "https://localhost:8080/"
        },
        "id": "dg1QIx6G-GiR",
        "outputId": "23d64a33-3e80-4f94-902f-b914ab7d944c"
      },
      "execution_count": 14,
      "outputs": [
        {
          "output_type": "stream",
          "name": "stdout",
          "text": [
            "Dime un número 27\n",
            "Dime otro número 28\n",
            "28 es mayor que 27\n"
          ]
        }
      ]
    },
    {
      "cell_type": "code",
      "source": [
        "if n1>n2: print(f\"{n1} es mayor que {n2}\")\n",
        "elif n1<n2: print(f\"{n2} es mayor que {n1}\")\n",
        "else: print(\"Ambos números son iguales\")"
      ],
      "metadata": {
        "colab": {
          "base_uri": "https://localhost:8080/"
        },
        "id": "pMI7ZrJ9_E6o",
        "outputId": "eac7c25e-489e-4c2c-f042-e1a41b626450"
      },
      "execution_count": 16,
      "outputs": [
        {
          "output_type": "stream",
          "name": "stdout",
          "text": [
            "28 es mayor que 27\n"
          ]
        }
      ]
    },
    {
      "cell_type": "code",
      "source": [
        "print(f\"{n1} es mayor que {n2}\") if n1>n2 else print(f\"{n2} es mayor que {n1}\")"
      ],
      "metadata": {
        "colab": {
          "base_uri": "https://localhost:8080/"
        },
        "id": "WEOBj-k0_smx",
        "outputId": "3b97f2bc-23a7-4902-fadc-7b3c10f62355"
      },
      "execution_count": 15,
      "outputs": [
        {
          "output_type": "stream",
          "name": "stdout",
          "text": [
            "28 es mayor que 27\n"
          ]
        }
      ]
    },
    {
      "cell_type": "markdown",
      "source": [
        "#Punto 4"
      ],
      "metadata": {
        "id": "671lcTN1AOpI"
      }
    },
    {
      "cell_type": "code",
      "source": [
        "#Escribe un programa que reciba una calificación\n",
        "n=int(input(\"Dime tu nota \"))\n",
        "if n>=60:\n",
        "  print(\"FELICIDADES!! Aprobaste\")\n",
        "else:\n",
        "  print(\"LO SIENTO!! Reprobaste\")"
      ],
      "metadata": {
        "colab": {
          "base_uri": "https://localhost:8080/"
        },
        "id": "51PEnW-pAQHv",
        "outputId": "5e0a75f4-cb45-4a54-ec41-969daf0fb908"
      },
      "execution_count": 19,
      "outputs": [
        {
          "output_type": "stream",
          "name": "stdout",
          "text": [
            "Dime tu nota 64\n",
            "FELICIDADES!! Aprobaste\n"
          ]
        }
      ]
    },
    {
      "cell_type": "code",
      "source": [
        "if n>67: print(\"FELICIDADES!! Aprobaste\")\n",
        "elif n<60: print(\"LO SIENTO!! Reprobaste\")\n",
        "else: print(\"Aprobaste por poquito...\")"
      ],
      "metadata": {
        "colab": {
          "base_uri": "https://localhost:8080/"
        },
        "id": "RcQKBtY9AN7R",
        "outputId": "fc59b141-5bc7-42c9-a1ee-a5070531410e"
      },
      "execution_count": 20,
      "outputs": [
        {
          "output_type": "stream",
          "name": "stdout",
          "text": [
            "Aprobaste por poquito\n"
          ]
        }
      ]
    },
    {
      "cell_type": "code",
      "source": [
        "print(\"FELICIDADES!! Aprobaste\") if n>=60 else print(\"LO SIENTO!! Reprobaste\")"
      ],
      "metadata": {
        "colab": {
          "base_uri": "https://localhost:8080/"
        },
        "id": "3fzhRu51Bu_p",
        "outputId": "020e1d49-8898-4865-b989-c9a4ab75e31c"
      },
      "execution_count": 21,
      "outputs": [
        {
          "output_type": "stream",
          "name": "stdout",
          "text": [
            "FELICIDADES!! Aprobaste\n"
          ]
        }
      ]
    },
    {
      "cell_type": "markdown",
      "source": [
        "#Punto 5"
      ],
      "metadata": {
        "id": "Ffgmd8sGB5Id"
      }
    },
    {
      "cell_type": "code",
      "source": [
        "#Escribe un programa que determine si un número es par o impar\n",
        "n=int(input(\"Dime un número \"))\n",
        "if n % 2 == 0:\n",
        "  print(\"Es par\")\n",
        "else:\n",
        "  print(\" Es impar\")"
      ],
      "metadata": {
        "colab": {
          "base_uri": "https://localhost:8080/"
        },
        "id": "C_J0gwLAB6nt",
        "outputId": "f079e70e-b912-4c59-b8ed-a96b8c43fd40"
      },
      "execution_count": 42,
      "outputs": [
        {
          "output_type": "stream",
          "name": "stdout",
          "text": [
            "Dime un número 45\n",
            "impar\n"
          ]
        }
      ]
    },
    {
      "cell_type": "code",
      "source": [
        "if n % 2 == 0: print(\"Es par\")\n",
        "elif n % 2 ≠ 0: print(\"Es impar\")\n",
        "else n == 0: print(\"ES 0\")"
      ],
      "metadata": {
        "colab": {
          "base_uri": "https://localhost:8080/",
          "height": 106
        },
        "id": "_wUI5GGJCTEf",
        "outputId": "75e37d03-8e41-4f4c-faf1-871ead67d945"
      },
      "execution_count": 48,
      "outputs": [
        {
          "output_type": "error",
          "ename": "SyntaxError",
          "evalue": "invalid character '≠' (U+2260) (ipython-input-3328661440.py, line 2)",
          "traceback": [
            "\u001b[0;36m  File \u001b[0;32m\"/tmp/ipython-input-3328661440.py\"\u001b[0;36m, line \u001b[0;32m2\u001b[0m\n\u001b[0;31m    elif n % 2 ≠ 0: print(\"Es impar\")\u001b[0m\n\u001b[0m               ^\u001b[0m\n\u001b[0;31mSyntaxError\u001b[0m\u001b[0;31m:\u001b[0m invalid character '≠' (U+2260)\n"
          ]
        }
      ]
    },
    {
      "cell_type": "code",
      "source": [
        "print(\"Es par\") if n % 2 == 0:else print(\"Es impar\")"
      ],
      "metadata": {
        "id": "zwsZEzvGCTSu"
      },
      "execution_count": null,
      "outputs": []
    },
    {
      "cell_type": "markdown",
      "source": [
        "#Punto 6"
      ],
      "metadata": {
        "id": "7jfhrdrtCTxs"
      }
    },
    {
      "cell_type": "code",
      "source": [
        "a=int(input(\"Dime un número \"))\n",
        "b=int(input(\"Dime otro número \"))\n",
        "c=int(input(\"Dime otro número \"))\n",
        "if a>b and a>c: print(f\"{a} es el mayor de los tres números\")\n",
        "else print(f\"{b} es el mayor de los tres números\")\n"
      ],
      "metadata": {
        "colab": {
          "base_uri": "https://localhost:8080/",
          "height": 106
        },
        "id": "Ut0NrwKpCVh-",
        "outputId": "70d0e0f5-3a8b-48f3-8f78-0479f3137441"
      },
      "execution_count": 41,
      "outputs": [
        {
          "output_type": "error",
          "ename": "SyntaxError",
          "evalue": "expected ':' (ipython-input-2473602479.py, line 6)",
          "traceback": [
            "\u001b[0;36m  File \u001b[0;32m\"/tmp/ipython-input-2473602479.py\"\u001b[0;36m, line \u001b[0;32m6\u001b[0m\n\u001b[0;31m    else print(f\"{b} es el mayor de los tres números\")\u001b[0m\n\u001b[0m         ^\u001b[0m\n\u001b[0;31mSyntaxError\u001b[0m\u001b[0;31m:\u001b[0m expected ':'\n"
          ]
        }
      ]
    },
    {
      "cell_type": "code",
      "source": [
        "if a>b and a>c:\n",
        "    print(f\"{a} es el mayor de los tres números. \")\n",
        "else:\n",
        "    if b>c print(f\"{b}\")"
      ],
      "metadata": {
        "id": "Nc0I5u0pC3c3"
      },
      "execution_count": null,
      "outputs": []
    }
  ]
}