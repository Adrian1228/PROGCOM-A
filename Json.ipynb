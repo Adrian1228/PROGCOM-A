{
  "nbformat": 4,
  "nbformat_minor": 0,
  "metadata": {
    "colab": {
      "provenance": [],
      "authorship_tag": "ABX9TyNd8WVmZoDW2EaSlSob2x43",
      "include_colab_link": true
    },
    "kernelspec": {
      "name": "python3",
      "display_name": "Python 3"
    },
    "language_info": {
      "name": "python"
    }
  },
  "cells": [
    {
      "cell_type": "markdown",
      "metadata": {
        "id": "view-in-github",
        "colab_type": "text"
      },
      "source": [
        "<a href=\"https://colab.research.google.com/github/Adrian1228/PROGCOM-A/blob/main/Json.ipynb\" target=\"_parent\"><img src=\"https://colab.research.google.com/assets/colab-badge.svg\" alt=\"Open In Colab\"/></a>"
      ]
    },
    {
      "cell_type": "code",
      "source": [
        "import turtle\n",
        "import json\n",
        "\n",
        "figuras = [\n",
        "    {\"forma\": \"cuadrado\", \"color\": \"blue\", \"tamano\": 100},\n",
        "    {\"forma\": \"triangulo\", \"color\": \"red\", \"tamano\": 80},\n",
        "    {\"forma\": \"estrella\", \"color\": \"green\", \"tamano\": 120}\n",
        "]\n",
        "\n",
        "\n",
        "with open(\"figuras.json\", \"w\") as archivo: # Abre un formato Json\n",
        "    json.dump(figuras, archivo) #Guarda en Json\n",
        "\n",
        "def dibujar_cuadrado(t, tamano): #Dibuja las figuras\n",
        "    for _ in range(4): #Lados\n",
        "        t.forward(tamano) #Avanza hacia adelante\n",
        "        t.right(90) #Gira 90 grados\n",
        "\n",
        "def dibujar_triangulo(t, tamano):\n",
        "    for _ in range(3):\n",
        "        t.forward(tamano)\n",
        "        t.right(120)\n",
        "\n",
        "def dibujar_estrella(t, tamano):\n",
        "    for _ in range(5):\n",
        "        t.forward(tamano)\n",
        "        t.right(144)\n",
        "\n",
        "with open(\"figuras.json\", \"r\") as archivo: #Abre el Jason y dibuja en Turtle\n",
        "    datos = json.load(archivo) #Carga los datos\n",
        "\n",
        "pantalla = turtle.Screen() #Abre una ventana\n",
        "pantalla.bgcolor(\"black\") #Fondo\n",
        "t = turtle.Turtle() #Crea una figura (tortuga)\n",
        "t.speed(3) #Velocidad\n",
        "t.pensize(7) #Grosor del lapiz\n",
        "\n",
        "# Dibujar cada figura del JSON\n",
        "for figura in datos:\n",
        "    t.color(figura[\"color\"])\n",
        "\n",
        "#for figura in datos:\n",
        "    #t.tamano(figura[\"tamano\"])\n",
        "\n",
        "    if figura[\"forma\"] == \"cuadrado\":\n",
        "        dibujar_cuadrado(t, figura[\"tamano\"])\n",
        "    elif figura[\"forma\"] == \"triangulo\":\n",
        "        dibujar_triangulo(t, figura[\"tamano\"])\n",
        "    elif figura[\"forma\"] == \"estrella\":\n",
        "        dibujar_estrella(t, figura[\"tamano\"])\n",
        "\n",
        "    t.penup() #Levanta el lapiz para no dibujar - Cambio de posición\n",
        "    t.forward(150) #Distancia - 150 pixeles\n",
        "    t.pendown() #Dibuja desde la nueva posición"
      ],
      "metadata": {
        "id": "U7iXpm8ldeq2"
      },
      "execution_count": null,
      "outputs": []
    }
  ]
}