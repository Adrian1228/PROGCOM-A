{
  "nbformat": 4,
  "nbformat_minor": 0,
  "metadata": {
    "colab": {
      "provenance": [],
      "authorship_tag": "ABX9TyNCIOhpw0PG/nNPgyVRBRpD",
      "include_colab_link": true
    },
    "kernelspec": {
      "name": "python3",
      "display_name": "Python 3"
    },
    "language_info": {
      "name": "python"
    }
  },
  "cells": [
    {
      "cell_type": "markdown",
      "metadata": {
        "id": "view-in-github",
        "colab_type": "text"
      },
      "source": [
        "<a href=\"https://colab.research.google.com/github/Adrian1228/PROGCOM-A/blob/main/Clase_1_Estructuras_de_selecci%C3%B3n_Terminado_10_Puntos.ipynb\" target=\"_parent\"><img src=\"https://colab.research.google.com/assets/colab-badge.svg\" alt=\"Open In Colab\"/></a>"
      ]
    },
    {
      "cell_type": "markdown",
      "source": [
        "#Estructuras de selección\n",
        "Se emplean cuando se debe evaluar una condición y este da un valor de verdadero (V) o falso (F)"
      ],
      "metadata": {
        "id": "QIgP8_Uou2B_"
      }
    },
    {
      "cell_type": "markdown",
      "source": [
        "##Estructuras if-else\n",
        "\n",
        "\n",
        "\n",
        "```\n",
        "if (condición):\n",
        "  entro aquí, si la condición es V\n",
        "else:\n",
        "  entro aquí, si la condición es F.\n",
        "```\n",
        "\n"
      ],
      "metadata": {
        "id": "-Hg07G-fvHUP"
      }
    },
    {
      "cell_type": "code",
      "source": [
        " #Escribe un programa que reciba un número e indique si es positivo\n",
        "n=int(input(\"Ingrese un número \"))\n",
        "if n>=0:\n",
        "  print(f\"{n} es un número positivo\")\n",
        "else:\n",
        "  print(f\"{n} No es un número positivo\")"
      ],
      "metadata": {
        "colab": {
          "base_uri": "https://localhost:8080/"
        },
        "id": "O5gvO7oBuwbn",
        "outputId": "33f57a57-42a5-4329-e98b-eb89bc2c6df5"
      },
      "execution_count": null,
      "outputs": [
        {
          "output_type": "stream",
          "name": "stdout",
          "text": [
            "Ingrese un número 9\n",
            "9 es un número positivo\n"
          ]
        }
      ]
    },
    {
      "cell_type": "markdown",
      "source": [
        "##Selección múltiple if- elif-else\n",
        "\n",
        "\n",
        "\n",
        "\n",
        "```\n",
        "if (condicición 1)\n",
        "  si se cumple condición 1, entro aquí\n",
        "elif (condición2):\n",
        "  si no se cumple condición 1,\n",
        "  pero se cumple condición 2,\n",
        "  entro aquí\n",
        "else:\n",
        "  Si no se cumple ninguna de las anteriores\n",
        "```\n",
        "\n"
      ],
      "metadata": {
        "id": "AuuQrfac1djl"
      }
    },
    {
      "cell_type": "code",
      "source": [
        "if n>0: print(f\"{n} es un número positivo\")\n",
        "elif n<0: print (f\"{n} No es un número positivo\")\n",
        "else: print(f\"{n} es 0 y es un número positivo\")"
      ],
      "metadata": {
        "id": "Lj6uFTCc2tIB"
      },
      "execution_count": null,
      "outputs": []
    },
    {
      "cell_type": "markdown",
      "source": [
        "##Operador terniario\n",
        "Se usa cuando hay una condición a evaluar simple y se desea resolver en una línea de código\n",
        "\n",
        "\n",
        "\n",
        "```\n",
        "(valor de verdad V) if\n",
        "(condición) else (valor de verdad F)\n",
        "```\n",
        "\n"
      ],
      "metadata": {
        "id": "taR1Egg-3JYX"
      }
    },
    {
      "cell_type": "code",
      "source": [
        "print(f\"{n} es un número positivo\") if n>=0 else print (f\"{n} No es número positivo\")"
      ],
      "metadata": {
        "colab": {
          "base_uri": "https://localhost:8080/"
        },
        "id": "a89BLdp_5dRO",
        "outputId": "69930839-27d4-473b-f3f3-d4e29d6c314b"
      },
      "execution_count": null,
      "outputs": [
        {
          "output_type": "stream",
          "name": "stdout",
          "text": [
            "5 es un número positivo\n"
          ]
        }
      ]
    },
    {
      "cell_type": "code",
      "source": [
        " print(f\"{n} es un número positivo\") if n>=0 else print(f\"{n} No es un número positivo\")"
      ],
      "metadata": {
        "colab": {
          "base_uri": "https://localhost:8080/"
        },
        "id": "yHs_2lFe4D5H",
        "outputId": "f11ae602-7826-49d1-88bf-47bb955c5524"
      },
      "execution_count": null,
      "outputs": [
        {
          "output_type": "stream",
          "name": "stdout",
          "text": [
            "5 es un número positivo\n"
          ]
        }
      ]
    },
    {
      "cell_type": "markdown",
      "source": [
        "#Punto 2"
      ],
      "metadata": {
        "id": "3Hc4_sB884Xi"
      }
    },
    {
      "cell_type": "code",
      "source": [
        " #Escribe un programa que reciba una edad y determine si la persona es mayor de edad\n",
        "edad=int(input(\"Dime tu edad \"))\n",
        "if edad>=18:\n",
        "  print(\"Eres mayor de edad\")\n",
        "else:\n",
        "  print(\"No eres mayor de edad\")"
      ],
      "metadata": {
        "colab": {
          "base_uri": "https://localhost:8080/"
        },
        "id": "Eg45r3Y58TbC",
        "outputId": "3104af8f-e020-49a0-e137-f86aabc99f24"
      },
      "execution_count": null,
      "outputs": [
        {
          "output_type": "stream",
          "name": "stdout",
          "text": [
            "Dime tu edad 48\n",
            "Eres mayor de edad\n"
          ]
        }
      ]
    },
    {
      "cell_type": "code",
      "source": [
        "if edad>=18: print(\"Eres mayor de edad \")\n",
        "elif edad<18: print(\"No eres mayor de edad\")\n",
        "else: print(\"No eres mayor de edad en Estados unidos\")"
      ],
      "metadata": {
        "colab": {
          "base_uri": "https://localhost:8080/"
        },
        "id": "aGklVQEC9XK6",
        "outputId": "8307d271-7a50-4535-bad6-510313c17b14"
      },
      "execution_count": null,
      "outputs": [
        {
          "output_type": "stream",
          "name": "stdout",
          "text": [
            "Eres mayor de edad \n"
          ]
        }
      ]
    },
    {
      "cell_type": "code",
      "source": [
        "print(\"Eres mayor de edad\") if edad>=18 else print(\"No eres mayor de edad\")"
      ],
      "metadata": {
        "colab": {
          "base_uri": "https://localhost:8080/"
        },
        "id": "k23xxoPC9zwL",
        "outputId": "19870435-b925-4895-d364-1277eabb9763"
      },
      "execution_count": null,
      "outputs": [
        {
          "output_type": "stream",
          "name": "stdout",
          "text": [
            "Eres mayor de edad\n"
          ]
        }
      ]
    },
    {
      "cell_type": "markdown",
      "source": [
        "#Punto 3"
      ],
      "metadata": {
        "id": "GAZJNS4s-FMJ"
      }
    },
    {
      "cell_type": "code",
      "source": [
        "#Escribe un programa que reciba dos números e imprima el mayor\n",
        "n1=int(input(\"Dime un número \"))\n",
        "n2=int(input(\"Dime otro número \"))\n",
        "if n1>n2:\n",
        "  print(f\"{n1} es mayor que {n2}\")\n",
        "else:\n",
        "  print(f\"{n2} es mayor que {n1}\")"
      ],
      "metadata": {
        "colab": {
          "base_uri": "https://localhost:8080/"
        },
        "id": "dg1QIx6G-GiR",
        "outputId": "23d64a33-3e80-4f94-902f-b914ab7d944c"
      },
      "execution_count": null,
      "outputs": [
        {
          "output_type": "stream",
          "name": "stdout",
          "text": [
            "Dime un número 27\n",
            "Dime otro número 28\n",
            "28 es mayor que 27\n"
          ]
        }
      ]
    },
    {
      "cell_type": "code",
      "source": [
        "if n1>n2: print(f\"{n1} es mayor que {n2}\")\n",
        "elif n1<n2: print(f\"{n2} es mayor que {n1}\")\n",
        "else: print(\"Ambos números son iguales\")"
      ],
      "metadata": {
        "colab": {
          "base_uri": "https://localhost:8080/"
        },
        "id": "pMI7ZrJ9_E6o",
        "outputId": "eac7c25e-489e-4c2c-f042-e1a41b626450"
      },
      "execution_count": null,
      "outputs": [
        {
          "output_type": "stream",
          "name": "stdout",
          "text": [
            "28 es mayor que 27\n"
          ]
        }
      ]
    },
    {
      "cell_type": "code",
      "source": [
        "print(f\"{n1} es mayor que {n2}\") if n1>n2 else print(f\"{n2} es mayor que {n1}\")"
      ],
      "metadata": {
        "colab": {
          "base_uri": "https://localhost:8080/"
        },
        "id": "WEOBj-k0_smx",
        "outputId": "3b97f2bc-23a7-4902-fadc-7b3c10f62355"
      },
      "execution_count": null,
      "outputs": [
        {
          "output_type": "stream",
          "name": "stdout",
          "text": [
            "28 es mayor que 27\n"
          ]
        }
      ]
    },
    {
      "cell_type": "markdown",
      "source": [
        "#Punto 4"
      ],
      "metadata": {
        "id": "671lcTN1AOpI"
      }
    },
    {
      "cell_type": "code",
      "source": [
        "#Escribe un programa que reciba una calificación\n",
        "n=int(input(\"Dime tu nota \"))\n",
        "if n>=60:\n",
        "  print(\"FELICIDADES!! Aprobaste\")\n",
        "else:\n",
        "  print(\"LO SIENTO!! Reprobaste\")"
      ],
      "metadata": {
        "colab": {
          "base_uri": "https://localhost:8080/"
        },
        "id": "51PEnW-pAQHv",
        "outputId": "5e0a75f4-cb45-4a54-ec41-969daf0fb908"
      },
      "execution_count": null,
      "outputs": [
        {
          "output_type": "stream",
          "name": "stdout",
          "text": [
            "Dime tu nota 64\n",
            "FELICIDADES!! Aprobaste\n"
          ]
        }
      ]
    },
    {
      "cell_type": "code",
      "source": [
        "if n>67: print(\"FELICIDADES!! Aprobaste\")\n",
        "elif n<60: print(\"LO SIENTO!! Reprobaste\")\n",
        "else: print(\"Aprobaste por poquito...\")"
      ],
      "metadata": {
        "colab": {
          "base_uri": "https://localhost:8080/"
        },
        "id": "RcQKBtY9AN7R",
        "outputId": "fc59b141-5bc7-42c9-a1ee-a5070531410e"
      },
      "execution_count": null,
      "outputs": [
        {
          "output_type": "stream",
          "name": "stdout",
          "text": [
            "Aprobaste por poquito\n"
          ]
        }
      ]
    },
    {
      "cell_type": "code",
      "source": [
        "print(\"FELICIDADES!! Aprobaste\") if n>=60 else print(\"LO SIENTO!! Reprobaste\")"
      ],
      "metadata": {
        "colab": {
          "base_uri": "https://localhost:8080/"
        },
        "id": "3fzhRu51Bu_p",
        "outputId": "020e1d49-8898-4865-b989-c9a4ab75e31c"
      },
      "execution_count": null,
      "outputs": [
        {
          "output_type": "stream",
          "name": "stdout",
          "text": [
            "FELICIDADES!! Aprobaste\n"
          ]
        }
      ]
    },
    {
      "cell_type": "markdown",
      "source": [
        "#Punto 5"
      ],
      "metadata": {
        "id": "Ffgmd8sGB5Id"
      }
    },
    {
      "cell_type": "code",
      "source": [
        "#Escribe un programa que determine si un número es par o impar\n",
        "n=int(input(\"Dime un número \"))\n",
        "if n % 2 == 0:\n",
        "  print(\"Es par\")\n",
        "else:\n",
        "  print(\" Es impar\")"
      ],
      "metadata": {
        "colab": {
          "base_uri": "https://localhost:8080/"
        },
        "id": "C_J0gwLAB6nt",
        "outputId": "478c8ec7-ad57-4dd8-c781-da9faabe1331"
      },
      "execution_count": null,
      "outputs": [
        {
          "output_type": "stream",
          "name": "stdout",
          "text": [
            "Dime un número 2\n",
            "Es par\n"
          ]
        }
      ]
    },
    {
      "cell_type": "code",
      "source": [
        "if n % 2 == 0: print(\"Es par\")\n",
        "elif n == 0: print(\"El 0 es un número par\")\n",
        "else: print(\"Es impar\")"
      ],
      "metadata": {
        "colab": {
          "base_uri": "https://localhost:8080/"
        },
        "id": "_wUI5GGJCTEf",
        "outputId": "d6b9fe17-b4d2-4fb0-94cb-d5efa9758a57"
      },
      "execution_count": null,
      "outputs": [
        {
          "output_type": "stream",
          "name": "stdout",
          "text": [
            "Es par\n"
          ]
        }
      ]
    },
    {
      "cell_type": "code",
      "source": [
        "print(\"Es par\") if n % 2 == 0 else print(\"Es impar\")"
      ],
      "metadata": {
        "id": "zwsZEzvGCTSu",
        "colab": {
          "base_uri": "https://localhost:8080/"
        },
        "outputId": "0409a234-f704-49af-ebc1-fb691f9371b4"
      },
      "execution_count": null,
      "outputs": [
        {
          "output_type": "stream",
          "name": "stdout",
          "text": [
            "Es par\n"
          ]
        }
      ]
    },
    {
      "cell_type": "markdown",
      "source": [
        "#Punto 6"
      ],
      "metadata": {
        "id": "7jfhrdrtCTxs"
      }
    },
    {
      "cell_type": "code",
      "source": [
        "a=int(input(\"Dime un número \"))\n",
        "b=int(input(\"Dime otro número \"))\n",
        "c=int(input(\"Dime otro número \"))\n",
        "if a > b and a > c: print(f\"{a} es el mayor de los tres números\")\n",
        "elif b > a and b > c: print(f\"{b} es el mayor de los tres números\")\n",
        "else: print(f\"{c} es el mayor de los tres números\")"
      ],
      "metadata": {
        "colab": {
          "base_uri": "https://localhost:8080/"
        },
        "id": "qn8rQIqmdH91",
        "outputId": "d036d0b3-45be-4052-d023-5fa5e36f77a9"
      },
      "execution_count": null,
      "outputs": [
        {
          "output_type": "stream",
          "name": "stdout",
          "text": [
            "Dime un número 7\n",
            "Dime otro número 4\n",
            "Dime otro número 2\n",
            "7 es el mayor de los tres números\n"
          ]
        }
      ]
    },
    {
      "cell_type": "code",
      "source": [
        "print(f\"{a} es el mayor de los tres números \") if a > b and a > c else print(f\"{b} es el mayor de los tres números\") if b > a and b > c else print(f\"{c} es el mayor de los tres números\")"
      ],
      "metadata": {
        "colab": {
          "base_uri": "https://localhost:8080/"
        },
        "id": "-2iA6HdjdWmU",
        "outputId": "5d29b628-785c-4b9a-a7ef-ae1cc00cd57c"
      },
      "execution_count": null,
      "outputs": [
        {
          "output_type": "stream",
          "name": "stdout",
          "text": [
            "7 es el mayor de los tres números \n"
          ]
        }
      ]
    },
    {
      "cell_type": "code",
      "source": [
        "x=f\"el mayor de los tres números {a}\" if a > b and a > c else f\"el mayor de los tres números {b}\" if b > a and b > c else f\"el mayor de los tres {c}\"\n",
        "print(x)"
      ],
      "metadata": {
        "colab": {
          "base_uri": "https://localhost:8080/"
        },
        "id": "XMKLAZ50geIl",
        "outputId": "5dc5f46b-c5ea-471b-a8f2-14b56c873f60"
      },
      "execution_count": null,
      "outputs": [
        {
          "output_type": "stream",
          "name": "stdout",
          "text": [
            "el mayor de los tres números 7\n"
          ]
        }
      ]
    },
    {
      "cell_type": "markdown",
      "source": [
        "#Punto 7\n"
      ],
      "metadata": {
        "id": "CvDIqQ8gik4r"
      }
    },
    {
      "cell_type": "code",
      "source": [
        "a=int(input(\"Dime un año \"))\n",
        "if (a % 4 == 0 and a % 100 != 0) or (a % 400 == 0):\n",
        "  print(f\"El año {a} si es bisiesto\")\n",
        "else:\n",
        "  print(f\"El año {a} no es bisiesto\")\n"
      ],
      "metadata": {
        "colab": {
          "base_uri": "https://localhost:8080/"
        },
        "id": "46wACw-2ikij",
        "outputId": "4ac5f496-7123-4c6e-bdf6-5834d480c4d1"
      },
      "execution_count": null,
      "outputs": [
        {
          "output_type": "stream",
          "name": "stdout",
          "text": [
            "Dime un año 2009\n",
            "El año 2009 no es bisiesto\n"
          ]
        }
      ]
    },
    {
      "cell_type": "code",
      "source": [
        "if a % 400 == 0:\n",
        "  print(f\"El año {a} si es bisiesto\")\n",
        "elif a % 4 == 0 and a % 100 != 0:\n",
        "  print(f\"El año {a} si es bisiesto\")\n",
        "else:\n",
        "  print(f\"El año {a} no es bisiesto\")"
      ],
      "metadata": {
        "colab": {
          "base_uri": "https://localhost:8080/"
        },
        "id": "LeDTjN2EkU59",
        "outputId": "f1bbce6d-7e83-4efc-e876-3201e4408e33"
      },
      "execution_count": null,
      "outputs": [
        {
          "output_type": "stream",
          "name": "stdout",
          "text": [
            "El año 2009 no es bisiesto\n"
          ]
        }
      ]
    },
    {
      "cell_type": "code",
      "source": [
        "print(f\"El año {a} si es bisiesto\") if (a % 4 == 0 and a % 100 != 0) or (a % 400 == 0) else print(f\"El año {a} no es bisiesto\")"
      ],
      "metadata": {
        "colab": {
          "base_uri": "https://localhost:8080/"
        },
        "id": "tPUwx8IYlMuL",
        "outputId": "f87d6aa7-9ecd-4357-b4c5-8421ec8cc5fe"
      },
      "execution_count": null,
      "outputs": [
        {
          "output_type": "stream",
          "name": "stdout",
          "text": [
            "El año 2009 no es bisiesto\n"
          ]
        }
      ]
    },
    {
      "cell_type": "markdown",
      "source": [
        "#Punto 8\n"
      ],
      "metadata": {
        "id": "iDBbgB5JliHL"
      }
    },
    {
      "cell_type": "code",
      "source": [
        "n=(input(\"Crea una contraseña \"))\n",
        "a=len(n) >= 8\n",
        "b=any(n.isupper() for n in n)\n",
        "c=any(n.isdigit() for n in n)\n",
        "if a and b and c:\n",
        "  print(\"Contraseña creada.\")\n",
        "else:\n",
        "  print(\"Contraseña invalida.\")\n",
        "  if not a:\n",
        "    print(\"La contraseña debe tener 8 caracteres.\")\n",
        "  if not b:\n",
        "    print(\"La contraseña no tiene Mayusculas, necesita mínimo 1.\")\n",
        "  if not c:\n",
        "    print(\"La contraseña no tiene números, necesita mínimo 1.\")"
      ],
      "metadata": {
        "colab": {
          "base_uri": "https://localhost:8080/"
        },
        "id": "5CQ1mIzqlksx",
        "outputId": "df36f968-4286-4de1-c7f9-82b2d3a3f546"
      },
      "execution_count": null,
      "outputs": [
        {
          "output_type": "stream",
          "name": "stdout",
          "text": [
            "Crea una contraseña jk\n",
            "Contraseña invalida.\n",
            "La contraseña debe tener 8 caracteres.\n",
            "La contraseña no tiene Mayusculas, necesita mínimo 1.\n",
            "La contraseña no tiene números, necesita mínimo 1.\n"
          ]
        }
      ]
    },
    {
      "cell_type": "code",
      "source": [
        "if a < 8:\n",
        "  print(\"La contraseña debe tener 8 caracteres.\")\n",
        "elif not b:\n",
        "  print(\"La contraseña no tiene Mayusculas, necesita mínimo 1.\")\n",
        "elif not c:\n",
        "  print(\"La contraseña no tiene números, necesita mínimo 1.\")\n",
        "else:\n",
        "  print(\"Contraseña creada.\")"
      ],
      "metadata": {
        "colab": {
          "base_uri": "https://localhost:8080/"
        },
        "id": "agNp-7sbqfLl",
        "outputId": "c7710d0f-b477-4edc-865f-addf7b576c57"
      },
      "execution_count": null,
      "outputs": [
        {
          "output_type": "stream",
          "name": "stdout",
          "text": [
            "Contraseña creada.\n"
          ]
        }
      ]
    },
    {
      "cell_type": "code",
      "source": [
        "print(\"La contraseña debe tener 8 caracteres.\") if a < 8 else print(\"La contraseña no tiene Mayusculas, necesita mínimo 1.\") if not b else print(\"La contraseña no tiene números, necesita mínimo 1.\")"
      ],
      "metadata": {
        "id": "yg2CUJ1osA0F",
        "colab": {
          "base_uri": "https://localhost:8080/"
        },
        "outputId": "e7f120d8-31bf-4d28-9aa3-c8e4844e5519"
      },
      "execution_count": null,
      "outputs": [
        {
          "output_type": "stream",
          "name": "stdout",
          "text": [
            "La contraseña debe tener 8 caracteres.\n"
          ]
        }
      ]
    },
    {
      "cell_type": "markdown",
      "source": [
        "#Punto 9"
      ],
      "metadata": {
        "id": "fmhBWTlinFQK"
      }
    },
    {
      "cell_type": "code",
      "source": [
        "a=int(input(\"Dime un número \"))\n",
        "if a % 5 == 0 and a % 3!= 0:\n",
        "  print(\"Buzz\")\n",
        "else:\n",
        "  if a % 3 == 0 and a % 5!= 0:\n",
        "    print(\"Fizz\")\n",
        "  else:\n",
        "    print(\"FizzBuzz\")"
      ],
      "metadata": {
        "id": "ZDQXVT6CnDpw",
        "colab": {
          "base_uri": "https://localhost:8080/"
        },
        "outputId": "af734289-d9b1-4ffd-abf2-8a9c06f8a6fd"
      },
      "execution_count": 42,
      "outputs": [
        {
          "output_type": "stream",
          "name": "stdout",
          "text": [
            "Dime un número 12\n",
            "Fizz\n"
          ]
        }
      ]
    },
    {
      "cell_type": "code",
      "source": [
        "if a % 3 == 0 and a % 5!= 0:\n",
        "  print(\"Fizz\")\n",
        "elif  a % 5 == 0 and a % 3!= 0:\n",
        "  print(\"Buzz\")\n",
        "else: print(\"FizzBuzz\")\n"
      ],
      "metadata": {
        "colab": {
          "base_uri": "https://localhost:8080/"
        },
        "id": "74CXob4MTX1a",
        "outputId": "af332ed6-19ad-415a-d888-32c9f7af7584"
      },
      "execution_count": 43,
      "outputs": [
        {
          "output_type": "stream",
          "name": "stdout",
          "text": [
            "Fizz\n"
          ]
        }
      ]
    },
    {
      "cell_type": "code",
      "source": [
        "print(\"Fizz\") if a % 3 == 0 and a % 5!= 0 else print(\"Buzz\") if a % 5 == 0 and a % 3!= 0 else print(\"FizzBuzz\")"
      ],
      "metadata": {
        "colab": {
          "base_uri": "https://localhost:8080/"
        },
        "id": "C9E_20AgUskh",
        "outputId": "79e11c99-6fe0-4eeb-d4c8-2b75e7e724ad"
      },
      "execution_count": 44,
      "outputs": [
        {
          "output_type": "stream",
          "name": "stdout",
          "text": [
            "Fizz\n"
          ]
        }
      ]
    },
    {
      "cell_type": "markdown",
      "source": [
        "#Punto 10"
      ],
      "metadata": {
        "id": "Cyh2BdAdVJpa"
      }
    },
    {
      "cell_type": "code",
      "source": [
        "sal=int(input(\"Dime tu saldo \"))\n",
        "ret=int(input(\"Cuánto quieres retirar? \"))\n",
        "op= sal - ret\n",
        "if op >=0:\n",
        "  print(\"Operación permitida\")\n",
        "else:\n",
        "  print(\"Transacción rechazada\")\n",
        "print(f\"Tu saldo ahora es de {op}\")"
      ],
      "metadata": {
        "colab": {
          "base_uri": "https://localhost:8080/"
        },
        "id": "Xb3wr8f_VHjh",
        "outputId": "4f2df4c4-0851-4424-d880-bb38ca8068b6"
      },
      "execution_count": 47,
      "outputs": [
        {
          "output_type": "stream",
          "name": "stdout",
          "text": [
            "Dime tu saldo 30000\n",
            "Cuánto quieres retirar? 30\n",
            "Tu operación fue permitida\n",
            "Tu saldo ahora es de 29970\n"
          ]
        }
      ]
    },
    {
      "cell_type": "code",
      "source": [
        "if op >=0:\n",
        "  print(\"Operación permitida\")\n",
        "elif op < 0:\n",
        "  print(\"Transacción rechazada\")\n",
        "else:\n",
        "  print(\"Operación permitida\")\n",
        "print(f\"Tu saldo ahora es de {op}\")"
      ],
      "metadata": {
        "colab": {
          "base_uri": "https://localhost:8080/"
        },
        "id": "ivTzPFEfWBBx",
        "outputId": "1a3d35f4-30d8-4bca-af3a-be4208842566"
      },
      "execution_count": 48,
      "outputs": [
        {
          "output_type": "stream",
          "name": "stdout",
          "text": [
            "Tu operación fue permitida\n",
            "Tu saldo ahora es de 29970\n"
          ]
        }
      ]
    },
    {
      "cell_type": "code",
      "source": [
        "print(\"Operación pemitida\") if op >=0 else print(\"Transacción rechazada\")"
      ],
      "metadata": {
        "colab": {
          "base_uri": "https://localhost:8080/"
        },
        "id": "my8M3ulLWnK4",
        "outputId": "6eee7c08-4d7c-4a52-b6b5-a0695fa22725"
      },
      "execution_count": 49,
      "outputs": [
        {
          "output_type": "stream",
          "name": "stdout",
          "text": [
            "Operación pemitida\n"
          ]
        }
      ]
    }
  ]
}