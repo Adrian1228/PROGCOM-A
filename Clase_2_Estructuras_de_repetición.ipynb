{
  "nbformat": 4,
  "nbformat_minor": 0,
  "metadata": {
    "colab": {
      "provenance": [],
      "authorship_tag": "ABX9TyMlLbxAZjGBdoc9bG1CXrjK",
      "include_colab_link": true
    },
    "kernelspec": {
      "name": "python3",
      "display_name": "Python 3"
    },
    "language_info": {
      "name": "python"
    }
  },
  "cells": [
    {
      "cell_type": "markdown",
      "metadata": {
        "id": "view-in-github",
        "colab_type": "text"
      },
      "source": [
        "<a href=\"https://colab.research.google.com/github/Adrian1228/PROGCOM-A/blob/main/Clase_2_Estructuras_de_repetici%C3%B3n.ipynb\" target=\"_parent\"><img src=\"https://colab.research.google.com/assets/colab-badge.svg\" alt=\"Open In Colab\"/></a>"
      ]
    },
    {
      "cell_type": "markdown",
      "source": [
        "#Punto 1"
      ],
      "metadata": {
        "id": "rCPt-kq7IliW"
      }
    },
    {
      "cell_type": "markdown",
      "source": [
        "#Estructuras de repetición\n",
        "Permite repetir una o más acciones de acuerdo con una condición (mientras se cumple la condición)."
      ],
      "metadata": {
        "id": "wKpowmysQ0pP"
      }
    },
    {
      "cell_type": "markdown",
      "source": [
        "##Estructura para - for\n",
        "1.    Cuando se sabe cuántas veces se repite una acción.\n",
        "2.  Está conformado por una condición inicial (CI) una condición final (CF) y pasos (frecuencia de repetición).\n",
        "3.  Esta estructura no se detendrá, hasta alcanzar CF-1\n",
        "\n",
        "Estructura general del for\n",
        "\n",
        "\n",
        "```\n",
        "for (variabl) in range (CI, CF+1, paso):\n",
        "  Se repite (CF+1-C1)/paso veces una acción\n",
        "```\n",
        "Estructura resumida del for\n",
        "\n",
        "```\n",
        "for (variable) in range(cantidad):\n",
        "  Se repite cantidad de veces una acción\n",
        "```\n",
        "Estructura for como iteración\n",
        "1. El para (for) itera tantas veces, como elementos tenga la lista\n",
        "2. La variable toma el valor de cada elemento de la iteración\n",
        "\n",
        "```\n",
        "Lista=[1,2,3,4,5\n",
        "for(variable) in Lista:\n",
        "  Se reíte len(Lista)\n",
        "```\n",
        "\n",
        "\n",
        "\n"
      ],
      "metadata": {
        "id": "ZBkGNwPbRFbf"
      }
    },
    {
      "cell_type": "code",
      "source": [
        "#Hacer la tabla de multiplicar de un número n\n",
        "n=int(input(\"Digita un número: \"))"
      ],
      "metadata": {
        "colab": {
          "base_uri": "https://localhost:8080/"
        },
        "id": "OqeGzJP9Q0bH",
        "outputId": "803c9182-76cd-405d-e968-572b4a643614"
      },
      "execution_count": 22,
      "outputs": [
        {
          "name": "stdout",
          "output_type": "stream",
          "text": [
            "Digia un número: 3\n"
          ]
        }
      ]
    },
    {
      "cell_type": "code",
      "source": [
        "print(f\"Tabla del {n}\")\n",
        "for holitas in range(1,11,1):\n",
        "  print(f\"{n} x {holitas} = {n*holitas}\")"
      ],
      "metadata": {
        "colab": {
          "base_uri": "https://localhost:8080/"
        },
        "id": "WNf_gqVbQJBQ",
        "outputId": "f4e55310-22bc-4cb1-e0af-e2ebf43e7918"
      },
      "execution_count": 49,
      "outputs": [
        {
          "output_type": "stream",
          "name": "stdout",
          "text": [
            "Tabla del 7\n",
            "7 x 1 = 7\n",
            "7 x 2 = 14\n",
            "7 x 3 = 21\n",
            "7 x 4 = 28\n",
            "7 x 5 = 35\n",
            "7 x 6 = 42\n",
            "7 x 7 = 49\n",
            "7 x 8 = 56\n",
            "7 x 9 = 63\n",
            "7 x 10 = 70\n"
          ]
        }
      ]
    },
    {
      "cell_type": "markdown",
      "source": [
        "#2"
      ],
      "metadata": {
        "id": "cug8JAr9VSXk"
      }
    },
    {
      "cell_type": "code",
      "source": [
        "print(\"Tablas del 1 al 10\\n\")\n",
        "print(\"\")\n",
        "for n in range(1,11,1):\n",
        "  for holitas in range(1,11,1):\n",
        "    print(f\"{holitas} x {n} = {holitas}\")\n",
        "  print(\"\")"
      ],
      "metadata": {
        "colab": {
          "base_uri": "https://localhost:8080/"
        },
        "id": "mzc8ZILqU2OM",
        "outputId": "0fc9d345-f7e9-4ab0-894a-2628e800ea60"
      },
      "execution_count": 17,
      "outputs": [
        {
          "output_type": "stream",
          "name": "stdout",
          "text": [
            "Tbalas del 1 al 10\n",
            "\n",
            "\n",
            "1 x 1 = 1\n",
            "2 x 1 = 2\n",
            "3 x 1 = 3\n",
            "4 x 1 = 4\n",
            "5 x 1 = 5\n",
            "6 x 1 = 6\n",
            "7 x 1 = 7\n",
            "8 x 1 = 8\n",
            "9 x 1 = 9\n",
            "10 x 1 = 10\n",
            "\n",
            "1 x 2 = 1\n",
            "2 x 2 = 2\n",
            "3 x 2 = 3\n",
            "4 x 2 = 4\n",
            "5 x 2 = 5\n",
            "6 x 2 = 6\n",
            "7 x 2 = 7\n",
            "8 x 2 = 8\n",
            "9 x 2 = 9\n",
            "10 x 2 = 10\n",
            "\n",
            "1 x 3 = 1\n",
            "2 x 3 = 2\n",
            "3 x 3 = 3\n",
            "4 x 3 = 4\n",
            "5 x 3 = 5\n",
            "6 x 3 = 6\n",
            "7 x 3 = 7\n",
            "8 x 3 = 8\n",
            "9 x 3 = 9\n",
            "10 x 3 = 10\n",
            "\n",
            "1 x 4 = 1\n",
            "2 x 4 = 2\n",
            "3 x 4 = 3\n",
            "4 x 4 = 4\n",
            "5 x 4 = 5\n",
            "6 x 4 = 6\n",
            "7 x 4 = 7\n",
            "8 x 4 = 8\n",
            "9 x 4 = 9\n",
            "10 x 4 = 10\n",
            "\n",
            "1 x 5 = 1\n",
            "2 x 5 = 2\n",
            "3 x 5 = 3\n",
            "4 x 5 = 4\n",
            "5 x 5 = 5\n",
            "6 x 5 = 6\n",
            "7 x 5 = 7\n",
            "8 x 5 = 8\n",
            "9 x 5 = 9\n",
            "10 x 5 = 10\n",
            "\n",
            "1 x 6 = 1\n",
            "2 x 6 = 2\n",
            "3 x 6 = 3\n",
            "4 x 6 = 4\n",
            "5 x 6 = 5\n",
            "6 x 6 = 6\n",
            "7 x 6 = 7\n",
            "8 x 6 = 8\n",
            "9 x 6 = 9\n",
            "10 x 6 = 10\n",
            "\n",
            "1 x 7 = 1\n",
            "2 x 7 = 2\n",
            "3 x 7 = 3\n",
            "4 x 7 = 4\n",
            "5 x 7 = 5\n",
            "6 x 7 = 6\n",
            "7 x 7 = 7\n",
            "8 x 7 = 8\n",
            "9 x 7 = 9\n",
            "10 x 7 = 10\n",
            "\n",
            "1 x 8 = 1\n",
            "2 x 8 = 2\n",
            "3 x 8 = 3\n",
            "4 x 8 = 4\n",
            "5 x 8 = 5\n",
            "6 x 8 = 6\n",
            "7 x 8 = 7\n",
            "8 x 8 = 8\n",
            "9 x 8 = 9\n",
            "10 x 8 = 10\n",
            "\n",
            "1 x 9 = 1\n",
            "2 x 9 = 2\n",
            "3 x 9 = 3\n",
            "4 x 9 = 4\n",
            "5 x 9 = 5\n",
            "6 x 9 = 6\n",
            "7 x 9 = 7\n",
            "8 x 9 = 8\n",
            "9 x 9 = 9\n",
            "10 x 9 = 10\n",
            "\n",
            "1 x 10 = 1\n",
            "2 x 10 = 2\n",
            "3 x 10 = 3\n",
            "4 x 10 = 4\n",
            "5 x 10 = 5\n",
            "6 x 10 = 6\n",
            "7 x 10 = 7\n",
            "8 x 10 = 8\n",
            "9 x 10 = 9\n",
            "10 x 10 = 10\n",
            "\n"
          ]
        }
      ]
    },
    {
      "cell_type": "code",
      "source": [
        "print(f\"Tabla del {n}\")\n",
        "for holitas in range (10):\n",
        "    print(f\"{n} x {holitas+1} = {n*(holitas+1)}\")"
      ],
      "metadata": {
        "colab": {
          "base_uri": "https://localhost:8080/"
        },
        "id": "FzTpocu8ZD74",
        "outputId": "0885ab0e-5518-4f54-b1f0-4cfa0747c9b5"
      },
      "execution_count": 30,
      "outputs": [
        {
          "output_type": "stream",
          "name": "stdout",
          "text": [
            "Tabla del 10\n",
            "10 x 1 = 10\n",
            "10 x 2 = 20\n",
            "10 x 3 = 30\n",
            "10 x 4 = 40\n",
            "10 x 5 = 50\n",
            "10 x 6 = 60\n",
            "10 x 7 = 70\n",
            "10 x 8 = 80\n",
            "10 x 9 = 90\n",
            "10 x 10 = 100\n"
          ]
        }
      ]
    },
    {
      "cell_type": "code",
      "source": [
        "print(f\"Tabla del {n}\")\n",
        "for holitas in range (1,10*n,n):\n",
        "  print(f\"{n} x {int(holitas/n)} = {n*holitas}\")"
      ],
      "metadata": {
        "colab": {
          "base_uri": "https://localhost:8080/"
        },
        "id": "exWXxW2AciPm",
        "outputId": "d660d3a7-f61b-4669-b4b5-cc40605ac827"
      },
      "execution_count": 40,
      "outputs": [
        {
          "output_type": "stream",
          "name": "stdout",
          "text": [
            "Tabla del 7\n",
            "7 x 0 = 7\n",
            "7 x 1 = 56\n",
            "7 x 2 = 105\n",
            "7 x 3 = 154\n",
            "7 x 4 = 203\n",
            "7 x 5 = 252\n",
            "7 x 6 = 301\n",
            "7 x 7 = 350\n",
            "7 x 8 = 399\n",
            "7 x 9 = 448\n"
          ]
        }
      ]
    },
    {
      "cell_type": "code",
      "source": [
        "print(f\"Tabla del {n}\")\n",
        "for holitas in range (n,11*n,n):\n",
        "  print(f\"{n} x {int(holitas/n)} = {n*int(holitas/n)}\")"
      ],
      "metadata": {
        "colab": {
          "base_uri": "https://localhost:8080/"
        },
        "id": "XjP7Wn91eW0z",
        "outputId": "7d530f62-be60-4317-d872-c905d12c6737"
      },
      "execution_count": 47,
      "outputs": [
        {
          "output_type": "stream",
          "name": "stdout",
          "text": [
            "Tabla del 7\n",
            "7 x 1 = 7\n",
            "7 x 2 = 14\n",
            "7 x 3 = 21\n",
            "7 x 4 = 28\n",
            "7 x 5 = 35\n",
            "7 x 6 = 42\n",
            "7 x 7 = 49\n",
            "7 x 8 = 56\n",
            "7 x 9 = 63\n",
            "7 x 10 = 70\n"
          ]
        }
      ]
    },
    {
      "cell_type": "code",
      "source": [
        "numeros=(1,2,3,4,5,6,7,8,9,10)\n",
        "for num in numeros:\n",
        "  print(f\"{n} x {num} = {n*num}\")"
      ],
      "metadata": {
        "colab": {
          "base_uri": "https://localhost:8080/"
        },
        "id": "cqcRKCi2gAFi",
        "outputId": "852b07d0-55b1-4336-b67e-053287fcded7"
      },
      "execution_count": 48,
      "outputs": [
        {
          "output_type": "stream",
          "name": "stdout",
          "text": [
            "7 x 1 = 7\n",
            "7 x 2 = 14\n",
            "7 x 3 = 21\n",
            "7 x 4 = 28\n",
            "7 x 5 = 35\n",
            "7 x 6 = 42\n",
            "7 x 7 = 49\n",
            "7 x 8 = 56\n",
            "7 x 9 = 63\n",
            "7 x 10 = 70\n"
          ]
        }
      ]
    },
    {
      "cell_type": "code",
      "source": [
        "numeros2=list(range(1,11))\n",
        "numeros2"
      ],
      "metadata": {
        "colab": {
          "base_uri": "https://localhost:8080/"
        },
        "id": "OhcHg5aihMp5",
        "outputId": "c47d19dd-a526-4fdc-f21b-79482a4b1c8f"
      },
      "execution_count": 50,
      "outputs": [
        {
          "output_type": "execute_result",
          "data": {
            "text/plain": [
              "[1, 2, 3, 4, 5, 6, 7, 8, 9, 10]"
            ]
          },
          "metadata": {},
          "execution_count": 50
        }
      ]
    },
    {
      "cell_type": "code",
      "source": [
        "for num in numeros2:\n",
        "   print(f\"{n} x {num} ={n*num}\")"
      ],
      "metadata": {
        "colab": {
          "base_uri": "https://localhost:8080/"
        },
        "id": "9CjNfK2MhSog",
        "outputId": "8af30373-67f2-404f-940b-dad02948e685"
      },
      "execution_count": 51,
      "outputs": [
        {
          "output_type": "stream",
          "name": "stdout",
          "text": [
            "7 x 1 =7\n",
            "7 x 2 =14\n",
            "7 x 3 =21\n",
            "7 x 4 =28\n",
            "7 x 5 =35\n",
            "7 x 6 =42\n",
            "7 x 7 =49\n",
            "7 x 8 =56\n",
            "7 x 9 =63\n",
            "7 x 10 =70\n"
          ]
        }
      ]
    }
  ]
}