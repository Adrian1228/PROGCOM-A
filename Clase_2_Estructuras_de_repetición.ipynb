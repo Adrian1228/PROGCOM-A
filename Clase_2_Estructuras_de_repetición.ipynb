{
  "nbformat": 4,
  "nbformat_minor": 0,
  "metadata": {
    "colab": {
      "provenance": [],
      "authorship_tag": "ABX9TyNNHVxV9ZRdNjL7V5+waa2o",
      "include_colab_link": true
    },
    "kernelspec": {
      "name": "python3",
      "display_name": "Python 3"
    },
    "language_info": {
      "name": "python"
    }
  },
  "cells": [
    {
      "cell_type": "markdown",
      "metadata": {
        "id": "view-in-github",
        "colab_type": "text"
      },
      "source": [
        "<a href=\"https://colab.research.google.com/github/Adrian1228/PROGCOM-A/blob/main/Clase_2_Estructuras_de_repetici%C3%B3n.ipynb\" target=\"_parent\"><img src=\"https://colab.research.google.com/assets/colab-badge.svg\" alt=\"Open In Colab\"/></a>"
      ]
    },
    {
      "cell_type": "markdown",
      "source": [
        "#Punto 1"
      ],
      "metadata": {
        "id": "rCPt-kq7IliW"
      }
    },
    {
      "cell_type": "markdown",
      "source": [
        "#Estructuras de repetición\n",
        "Permite repetir una o más acciones de acuerdo con una condición (mientras se cumple la condición)."
      ],
      "metadata": {
        "id": "wKpowmysQ0pP"
      }
    },
    {
      "cell_type": "markdown",
      "source": [
        "##Estructura para - for\n",
        "1.    Cuando se sabe cuántas veces se repite una acción.\n",
        "2.  Está conformado por una condición inicial (CI) una condición final (CF) y pasos (frecuencia de repetición).\n",
        "3.  Esta estructura no se detendrá, hasta alcanzar CF-1\n",
        "\n",
        "Estructura general del for\n",
        "\n",
        "\n",
        "```\n",
        "for (variabl) in range (CI, CF+1, paso):\n",
        "  Se repite (CF+1-C1)/paso veces una acción\n",
        "```\n",
        "Estructura resumida del for\n",
        "\n",
        "```\n",
        "for (variable) in range(cantidad):\n",
        "  Se repite cantidad de veces una acción\n",
        "```\n",
        "Estructura for como iteración\n",
        "1. El para (for) itera tantas veces, como elementos tenga la lista\n",
        "2. La variable toma el valor de cada elemento de la iteración\n",
        "\n",
        "```\n",
        "Lista=[1,2,3,4,5\n",
        "for(variable) in Lista:\n",
        "  Se reíte len(Lista)\n",
        "```\n",
        "\n",
        "\n",
        "\n"
      ],
      "metadata": {
        "id": "ZBkGNwPbRFbf"
      }
    },
    {
      "cell_type": "code",
      "source": [
        "#Hacer la tabla de multiplicar de un número n\n",
        "n=int(input(\"Digita un número: \"))"
      ],
      "metadata": {
        "colab": {
          "base_uri": "https://localhost:8080/"
        },
        "id": "OqeGzJP9Q0bH",
        "outputId": "803c9182-76cd-405d-e968-572b4a643614"
      },
      "execution_count": null,
      "outputs": [
        {
          "name": "stdout",
          "output_type": "stream",
          "text": [
            "Digia un número: 3\n"
          ]
        }
      ]
    },
    {
      "cell_type": "code",
      "source": [
        "print(f\"Tabla del {n}\")\n",
        "for holitas in range(1,11,1):\n",
        "  print(f\"{n} x {holitas} = {n*holitas}\")"
      ],
      "metadata": {
        "colab": {
          "base_uri": "https://localhost:8080/"
        },
        "id": "WNf_gqVbQJBQ",
        "outputId": "f4e55310-22bc-4cb1-e0af-e2ebf43e7918"
      },
      "execution_count": null,
      "outputs": [
        {
          "output_type": "stream",
          "name": "stdout",
          "text": [
            "Tabla del 7\n",
            "7 x 1 = 7\n",
            "7 x 2 = 14\n",
            "7 x 3 = 21\n",
            "7 x 4 = 28\n",
            "7 x 5 = 35\n",
            "7 x 6 = 42\n",
            "7 x 7 = 49\n",
            "7 x 8 = 56\n",
            "7 x 9 = 63\n",
            "7 x 10 = 70\n"
          ]
        }
      ]
    },
    {
      "cell_type": "markdown",
      "source": [
        "#2"
      ],
      "metadata": {
        "id": "cug8JAr9VSXk"
      }
    },
    {
      "cell_type": "code",
      "source": [
        "print(\"Tablas del 1 al 10\\n\")\n",
        "print(\"\")\n",
        "for n in range(1,11,1):\n",
        "  for holitas in range(1,11,1):\n",
        "    print(f\"{holitas} x {n} = {holitas}\")\n",
        "  print(\"\")"
      ],
      "metadata": {
        "colab": {
          "base_uri": "https://localhost:8080/"
        },
        "id": "mzc8ZILqU2OM",
        "outputId": "0fc9d345-f7e9-4ab0-894a-2628e800ea60"
      },
      "execution_count": null,
      "outputs": [
        {
          "output_type": "stream",
          "name": "stdout",
          "text": [
            "Tbalas del 1 al 10\n",
            "\n",
            "\n",
            "1 x 1 = 1\n",
            "2 x 1 = 2\n",
            "3 x 1 = 3\n",
            "4 x 1 = 4\n",
            "5 x 1 = 5\n",
            "6 x 1 = 6\n",
            "7 x 1 = 7\n",
            "8 x 1 = 8\n",
            "9 x 1 = 9\n",
            "10 x 1 = 10\n",
            "\n",
            "1 x 2 = 1\n",
            "2 x 2 = 2\n",
            "3 x 2 = 3\n",
            "4 x 2 = 4\n",
            "5 x 2 = 5\n",
            "6 x 2 = 6\n",
            "7 x 2 = 7\n",
            "8 x 2 = 8\n",
            "9 x 2 = 9\n",
            "10 x 2 = 10\n",
            "\n",
            "1 x 3 = 1\n",
            "2 x 3 = 2\n",
            "3 x 3 = 3\n",
            "4 x 3 = 4\n",
            "5 x 3 = 5\n",
            "6 x 3 = 6\n",
            "7 x 3 = 7\n",
            "8 x 3 = 8\n",
            "9 x 3 = 9\n",
            "10 x 3 = 10\n",
            "\n",
            "1 x 4 = 1\n",
            "2 x 4 = 2\n",
            "3 x 4 = 3\n",
            "4 x 4 = 4\n",
            "5 x 4 = 5\n",
            "6 x 4 = 6\n",
            "7 x 4 = 7\n",
            "8 x 4 = 8\n",
            "9 x 4 = 9\n",
            "10 x 4 = 10\n",
            "\n",
            "1 x 5 = 1\n",
            "2 x 5 = 2\n",
            "3 x 5 = 3\n",
            "4 x 5 = 4\n",
            "5 x 5 = 5\n",
            "6 x 5 = 6\n",
            "7 x 5 = 7\n",
            "8 x 5 = 8\n",
            "9 x 5 = 9\n",
            "10 x 5 = 10\n",
            "\n",
            "1 x 6 = 1\n",
            "2 x 6 = 2\n",
            "3 x 6 = 3\n",
            "4 x 6 = 4\n",
            "5 x 6 = 5\n",
            "6 x 6 = 6\n",
            "7 x 6 = 7\n",
            "8 x 6 = 8\n",
            "9 x 6 = 9\n",
            "10 x 6 = 10\n",
            "\n",
            "1 x 7 = 1\n",
            "2 x 7 = 2\n",
            "3 x 7 = 3\n",
            "4 x 7 = 4\n",
            "5 x 7 = 5\n",
            "6 x 7 = 6\n",
            "7 x 7 = 7\n",
            "8 x 7 = 8\n",
            "9 x 7 = 9\n",
            "10 x 7 = 10\n",
            "\n",
            "1 x 8 = 1\n",
            "2 x 8 = 2\n",
            "3 x 8 = 3\n",
            "4 x 8 = 4\n",
            "5 x 8 = 5\n",
            "6 x 8 = 6\n",
            "7 x 8 = 7\n",
            "8 x 8 = 8\n",
            "9 x 8 = 9\n",
            "10 x 8 = 10\n",
            "\n",
            "1 x 9 = 1\n",
            "2 x 9 = 2\n",
            "3 x 9 = 3\n",
            "4 x 9 = 4\n",
            "5 x 9 = 5\n",
            "6 x 9 = 6\n",
            "7 x 9 = 7\n",
            "8 x 9 = 8\n",
            "9 x 9 = 9\n",
            "10 x 9 = 10\n",
            "\n",
            "1 x 10 = 1\n",
            "2 x 10 = 2\n",
            "3 x 10 = 3\n",
            "4 x 10 = 4\n",
            "5 x 10 = 5\n",
            "6 x 10 = 6\n",
            "7 x 10 = 7\n",
            "8 x 10 = 8\n",
            "9 x 10 = 9\n",
            "10 x 10 = 10\n",
            "\n"
          ]
        }
      ]
    },
    {
      "cell_type": "code",
      "source": [
        "print(f\"Tabla del {n}\")\n",
        "for holitas in range (10):\n",
        "    print(f\"{n} x {holitas+1} = {n*(holitas+1)}\")"
      ],
      "metadata": {
        "colab": {
          "base_uri": "https://localhost:8080/"
        },
        "id": "FzTpocu8ZD74",
        "outputId": "0885ab0e-5518-4f54-b1f0-4cfa0747c9b5"
      },
      "execution_count": null,
      "outputs": [
        {
          "output_type": "stream",
          "name": "stdout",
          "text": [
            "Tabla del 10\n",
            "10 x 1 = 10\n",
            "10 x 2 = 20\n",
            "10 x 3 = 30\n",
            "10 x 4 = 40\n",
            "10 x 5 = 50\n",
            "10 x 6 = 60\n",
            "10 x 7 = 70\n",
            "10 x 8 = 80\n",
            "10 x 9 = 90\n",
            "10 x 10 = 100\n"
          ]
        }
      ]
    },
    {
      "cell_type": "code",
      "source": [
        "print(f\"Tabla del {n}\")\n",
        "for holitas in range (1,10*n,n):\n",
        "  print(f\"{n} x {int(holitas/n)} = {n*holitas}\")"
      ],
      "metadata": {
        "colab": {
          "base_uri": "https://localhost:8080/"
        },
        "id": "exWXxW2AciPm",
        "outputId": "d660d3a7-f61b-4669-b4b5-cc40605ac827"
      },
      "execution_count": null,
      "outputs": [
        {
          "output_type": "stream",
          "name": "stdout",
          "text": [
            "Tabla del 7\n",
            "7 x 0 = 7\n",
            "7 x 1 = 56\n",
            "7 x 2 = 105\n",
            "7 x 3 = 154\n",
            "7 x 4 = 203\n",
            "7 x 5 = 252\n",
            "7 x 6 = 301\n",
            "7 x 7 = 350\n",
            "7 x 8 = 399\n",
            "7 x 9 = 448\n"
          ]
        }
      ]
    },
    {
      "cell_type": "code",
      "source": [
        "print(f\"Tabla del {n}\")\n",
        "for holitas in range (n,11*n,n):\n",
        "  print(f\"{n} x {int(holitas/n)} = {n*int(holitas/n)}\")"
      ],
      "metadata": {
        "colab": {
          "base_uri": "https://localhost:8080/"
        },
        "id": "XjP7Wn91eW0z",
        "outputId": "7d530f62-be60-4317-d872-c905d12c6737"
      },
      "execution_count": null,
      "outputs": [
        {
          "output_type": "stream",
          "name": "stdout",
          "text": [
            "Tabla del 7\n",
            "7 x 1 = 7\n",
            "7 x 2 = 14\n",
            "7 x 3 = 21\n",
            "7 x 4 = 28\n",
            "7 x 5 = 35\n",
            "7 x 6 = 42\n",
            "7 x 7 = 49\n",
            "7 x 8 = 56\n",
            "7 x 9 = 63\n",
            "7 x 10 = 70\n"
          ]
        }
      ]
    },
    {
      "cell_type": "code",
      "source": [
        "numeros=(1,2,3,4,5,6,7,8,9,10)\n",
        "for num in numeros:\n",
        "  print(f\"{n} x {num} = {n*num}\")"
      ],
      "metadata": {
        "colab": {
          "base_uri": "https://localhost:8080/"
        },
        "id": "cqcRKCi2gAFi",
        "outputId": "852b07d0-55b1-4336-b67e-053287fcded7"
      },
      "execution_count": null,
      "outputs": [
        {
          "output_type": "stream",
          "name": "stdout",
          "text": [
            "7 x 1 = 7\n",
            "7 x 2 = 14\n",
            "7 x 3 = 21\n",
            "7 x 4 = 28\n",
            "7 x 5 = 35\n",
            "7 x 6 = 42\n",
            "7 x 7 = 49\n",
            "7 x 8 = 56\n",
            "7 x 9 = 63\n",
            "7 x 10 = 70\n"
          ]
        }
      ]
    },
    {
      "cell_type": "code",
      "source": [
        "numeros2=list(range(1,11))\n",
        "numeros2"
      ],
      "metadata": {
        "colab": {
          "base_uri": "https://localhost:8080/"
        },
        "id": "OhcHg5aihMp5",
        "outputId": "c47d19dd-a526-4fdc-f21b-79482a4b1c8f"
      },
      "execution_count": null,
      "outputs": [
        {
          "output_type": "execute_result",
          "data": {
            "text/plain": [
              "[1, 2, 3, 4, 5, 6, 7, 8, 9, 10]"
            ]
          },
          "metadata": {},
          "execution_count": 50
        }
      ]
    },
    {
      "cell_type": "code",
      "source": [
        "for num in numeros2:\n",
        "   print(f\"{n} x {num} ={n*num}\")"
      ],
      "metadata": {
        "colab": {
          "base_uri": "https://localhost:8080/"
        },
        "id": "9CjNfK2MhSog",
        "outputId": "8af30373-67f2-404f-940b-dad02948e685"
      },
      "execution_count": null,
      "outputs": [
        {
          "output_type": "stream",
          "name": "stdout",
          "text": [
            "7 x 1 =7\n",
            "7 x 2 =14\n",
            "7 x 3 =21\n",
            "7 x 4 =28\n",
            "7 x 5 =35\n",
            "7 x 6 =42\n",
            "7 x 7 =49\n",
            "7 x 8 =56\n",
            "7 x 9 =63\n",
            "7 x 10 =70\n"
          ]
        }
      ]
    },
    {
      "cell_type": "markdown",
      "source": [
        "##Listas\n",
        "1. Es un tipo de dato\n",
        "2. Todos los elemenos de una lista, **deben** separarse por comas\n",
        "2. Forma canónica para declarar una lista\n",
        "\n",
        "\n",
        "```\n",
        "(variable)=[]\n",
        "```\n"
      ],
      "metadata": {
        "id": "sdFn0KpTzNoQ"
      }
    },
    {
      "cell_type": "code",
      "source": [
        "dahlia=3 #variable de tipo numérica, int\n",
        "rosa=\"cinco\" #variable de tipo alfanumérico, str\n",
        "Flores=[\"amapola\", \"tulipan\",\"lengua de suegra\", dahlia, rosa]"
      ],
      "metadata": {
        "id": "35opSodDzM54"
      },
      "execution_count": 1,
      "outputs": []
    },
    {
      "cell_type": "markdown",
      "source": [
        "4. Manual.\n",
        "\n",
        "\n",
        "```\n",
        "Lista2=[dato1, dato2, dato3,...datoN]\n",
        "\n",
        "```\n",
        "5. Siempre son finitas\n",
        "6. Son indexadas\n",
        "\n",
        "\n",
        "```\n",
        "Lista2=[dato1, dato2, dato3,...datoN]\n",
        "\n",
        "```\n",
        "dato1 está en el index 0\n",
        "dato 2 está ubicado en el index 1\n",
        "7. Estrucutras **para** para la creación de listas.\n",
        "\n",
        "\n",
        "```\n",
        "#Ejemplo: Crear una lista de 5 elementos\n",
        "lista=[] #Para que el programa sepa que es una lista\n",
        " for loquesea in range (5):\n",
        "  lista=input(\"Ingrese el nombre de una flor\")\n",
        "```\n",
        "\n",
        "\n",
        "\n"
      ],
      "metadata": {
        "id": "ZfwFVRPP0pfH"
      }
    },
    {
      "cell_type": "code",
      "source": [
        "3\n",
        "  lista=input(\"Ingrese el nombre de una flor \")"
      ],
      "metadata": {
        "colab": {
          "base_uri": "https://localhost:8080/"
        },
        "id": "JWHhGnr90pKH",
        "outputId": "3daba5a5-6fa2-4294-eff2-5fe8dafcc0af"
      },
      "execution_count": 19,
      "outputs": [
        {
          "name": "stdout",
          "output_type": "stream",
          "text": [
            "Ingrese el nombre de una flor 1\n",
            "Ingrese el nombre de una flor 2\n",
            "Ingrese el nombre de una flor \n",
            "Ingrese el nombre de una flor 4\n",
            "Ingrese el nombre de una flor 5\n"
          ]
        }
      ]
    },
    {
      "cell_type": "code",
      "source": [
        "lista=[]\n",
        "for loquesea in range (5):\n",
        "  lista.append(loquesea)"
      ],
      "metadata": {
        "id": "1KQ-RBsR8M_A"
      },
      "execution_count": null,
      "outputs": []
    },
    {
      "cell_type": "code",
      "source": [
        "lista"
      ],
      "metadata": {
        "colab": {
          "base_uri": "https://localhost:8080/",
          "height": 35
        },
        "id": "-lITjfG781kz",
        "outputId": "ad439f2d-1da2-4512-b696-b17d972f6fd9"
      },
      "execution_count": 17,
      "outputs": [
        {
          "output_type": "execute_result",
          "data": {
            "text/plain": [
              "'6'"
            ],
            "application/vnd.google.colaboratory.intrinsic+json": {
              "type": "string"
            }
          },
          "metadata": {},
          "execution_count": 17
        }
      ]
    },
    {
      "cell_type": "code",
      "source": [
        "Flores"
      ],
      "metadata": {
        "colab": {
          "base_uri": "https://localhost:8080/"
        },
        "id": "TboZFTuW4mEn",
        "outputId": "f41cef44-002a-4039-b4e7-75aefbd77a14"
      },
      "execution_count": 4,
      "outputs": [
        {
          "output_type": "execute_result",
          "data": {
            "text/plain": [
              "['amapola', 'tulipan', 'lengua de suegra', 3, 'cinco']"
            ]
          },
          "metadata": {},
          "execution_count": 4
        }
      ]
    },
    {
      "cell_type": "code",
      "source": [
        "#Quiero saber quién está en la primera posición\n",
        "Flores[0]"
      ],
      "metadata": {
        "id": "nFop2ES740_1"
      },
      "execution_count": null,
      "outputs": []
    },
    {
      "cell_type": "code",
      "source": [
        "Flores[4]"
      ],
      "metadata": {
        "colab": {
          "base_uri": "https://localhost:8080/",
          "height": 35
        },
        "id": "6dyHWyM948Wt",
        "outputId": "564ec49b-2ccd-4c18-ed12-8ba0daef07c2"
      },
      "execution_count": 5,
      "outputs": [
        {
          "output_type": "execute_result",
          "data": {
            "text/plain": [
              "'cinco'"
            ],
            "application/vnd.google.colaboratory.intrinsic+json": {
              "type": "string"
            }
          },
          "metadata": {},
          "execution_count": 5
        }
      ]
    },
    {
      "cell_type": "code",
      "source": [
        "len(Flores)"
      ],
      "metadata": {
        "colab": {
          "base_uri": "https://localhost:8080/"
        },
        "id": "x9Jzbz-l5M7l",
        "outputId": "a2f65648-5c6c-4408-d74a-3b7ba9f91fb1"
      },
      "execution_count": 7,
      "outputs": [
        {
          "output_type": "execute_result",
          "data": {
            "text/plain": [
              "5"
            ]
          },
          "metadata": {},
          "execution_count": 7
        }
      ]
    },
    {
      "cell_type": "code",
      "source": [
        "Flores[len(Flores)-1]"
      ],
      "metadata": {
        "colab": {
          "base_uri": "https://localhost:8080/",
          "height": 35
        },
        "id": "lIdIrBUa5UO8",
        "outputId": "d436e08a-044d-429f-f441-116a411659c4"
      },
      "execution_count": 8,
      "outputs": [
        {
          "output_type": "execute_result",
          "data": {
            "text/plain": [
              "'cinco'"
            ],
            "application/vnd.google.colaboratory.intrinsic+json": {
              "type": "string"
            }
          },
          "metadata": {},
          "execution_count": 8
        }
      ]
    },
    {
      "cell_type": "code",
      "source": [
        "Flores. index(\"lengua de suegra\")"
      ],
      "metadata": {
        "colab": {
          "base_uri": "https://localhost:8080/"
        },
        "id": "4FBNQbek5dc1",
        "outputId": "e47a4472-7f3f-49e8-8a68-0137962d858f"
      },
      "execution_count": 10,
      "outputs": [
        {
          "output_type": "execute_result",
          "data": {
            "text/plain": [
              "2"
            ]
          },
          "metadata": {},
          "execution_count": 10
        }
      ]
    },
    {
      "cell_type": "markdown",
      "source": [
        "#EJERCICIOS"
      ],
      "metadata": {
        "id": "5Yqu5DRD9ziP"
      }
    },
    {
      "cell_type": "markdown",
      "source": [
        "##1"
      ],
      "metadata": {
        "id": "wlBOxh2YALEs"
      }
    },
    {
      "cell_type": "code",
      "source": [
        "for n in range(1,11):\n",
        "  print(n)"
      ],
      "metadata": {
        "colab": {
          "base_uri": "https://localhost:8080/"
        },
        "id": "r9T0m9Nm9y-Y",
        "outputId": "16de3be1-82a5-4881-adf5-5eb2d9c9ae43"
      },
      "execution_count": 1,
      "outputs": [
        {
          "output_type": "stream",
          "name": "stdout",
          "text": [
            "1\n",
            "2\n",
            "3\n",
            "4\n",
            "5\n",
            "6\n",
            "7\n",
            "8\n",
            "9\n",
            "10\n"
          ]
        }
      ]
    },
    {
      "cell_type": "code",
      "source": [
        "lista=range(1,11)\n",
        "for n in lista:\n",
        "  print(n)"
      ],
      "metadata": {
        "colab": {
          "base_uri": "https://localhost:8080/"
        },
        "id": "NTskU1o-_rC-",
        "outputId": "0a3dbf1a-dbbc-402d-bd42-79aabbbb06a2"
      },
      "execution_count": 18,
      "outputs": [
        {
          "output_type": "stream",
          "name": "stdout",
          "text": [
            "1\n",
            "2\n",
            "3\n",
            "4\n",
            "5\n",
            "6\n",
            "7\n",
            "8\n",
            "9\n",
            "10\n"
          ]
        }
      ]
    },
    {
      "cell_type": "markdown",
      "source": [
        "##2"
      ],
      "metadata": {
        "id": "sM7sbqmoAQPV"
      }
    },
    {
      "cell_type": "code",
      "source": [
        "suma=0\n",
        "for i in range(1,101):\n",
        "  suma+=i\n",
        "print(suma)"
      ],
      "metadata": {
        "colab": {
          "base_uri": "https://localhost:8080/"
        },
        "id": "4Vzh_U_6ADPt",
        "outputId": "19c36533-ee77-4b6a-f161-647344402cb0"
      },
      "execution_count": 36,
      "outputs": [
        {
          "output_type": "stream",
          "name": "stdout",
          "text": [
            "5050\n"
          ]
        }
      ]
    },
    {
      "cell_type": "code",
      "source": [
        "numeros=list(range(1,101))\n",
        "suma(numeros)\n",
        "  print(suma)"
      ],
      "metadata": {
        "colab": {
          "base_uri": "https://localhost:8080/",
          "height": 106
        },
        "id": "MaLr9Yyu_M6Q",
        "outputId": "2cf14dea-eb0f-4189-d3e3-50bed1c8c6bf"
      },
      "execution_count": 39,
      "outputs": [
        {
          "output_type": "error",
          "ename": "IndentationError",
          "evalue": "unexpected indent (ipython-input-2109547747.py, line 3)",
          "traceback": [
            "\u001b[0;36m  File \u001b[0;32m\"/tmp/ipython-input-2109547747.py\"\u001b[0;36m, line \u001b[0;32m3\u001b[0m\n\u001b[0;31m    print(suma)\u001b[0m\n\u001b[0m    ^\u001b[0m\n\u001b[0;31mIndentationError\u001b[0m\u001b[0;31m:\u001b[0m unexpected indent\n"
          ]
        }
      ]
    },
    {
      "cell_type": "markdown",
      "source": [
        "##3"
      ],
      "metadata": {
        "id": "-n7vCngkAaa0"
      }
    },
    {
      "cell_type": "code",
      "source": [
        "for n in range(3,31,3):\n",
        "  print(n)"
      ],
      "metadata": {
        "colab": {
          "base_uri": "https://localhost:8080/"
        },
        "id": "6jbVbrNtAcIM",
        "outputId": "abacef4e-d93f-4742-8c32-3ffd90882dd1"
      },
      "execution_count": 13,
      "outputs": [
        {
          "output_type": "stream",
          "name": "stdout",
          "text": [
            "3\n",
            "6\n",
            "9\n",
            "12\n",
            "15\n",
            "18\n",
            "21\n",
            "24\n",
            "27\n",
            "30\n"
          ]
        }
      ]
    },
    {
      "cell_type": "code",
      "source": [
        "lista=range(3,31,3)\n",
        "for n in lista:\n",
        "  print(n)"
      ],
      "metadata": {
        "colab": {
          "base_uri": "https://localhost:8080/"
        },
        "id": "I01hJOZYAqiE",
        "outputId": "4bcaa27e-2aac-48bf-b1f1-7c9944959ca0"
      },
      "execution_count": 19,
      "outputs": [
        {
          "output_type": "stream",
          "name": "stdout",
          "text": [
            "3\n",
            "6\n",
            "9\n",
            "12\n",
            "15\n",
            "18\n",
            "21\n",
            "24\n",
            "27\n",
            "30\n"
          ]
        }
      ]
    },
    {
      "cell_type": "markdown",
      "source": [
        "##4"
      ],
      "metadata": {
        "id": "DT0fOydCAz2d"
      }
    },
    {
      "cell_type": "code",
      "source": [
        "n=int(input(\"Ingresa un número\"))\n",
        "print(f\"Tabla del {n}\")\n",
        "for holitas in range(1,11,1):\n",
        "  print(f\"{n} x {holitas} = {n*holitas}\")"
      ],
      "metadata": {
        "colab": {
          "base_uri": "https://localhost:8080/"
        },
        "id": "4N32hb76AzmM",
        "outputId": "a114a550-bacd-4b90-ec0a-9713e0c65a40"
      },
      "execution_count": 16,
      "outputs": [
        {
          "output_type": "stream",
          "name": "stdout",
          "text": [
            "Ingresa un número3\n",
            "Tabla del 3\n",
            "3 x 1 = 3\n",
            "3 x 2 = 6\n",
            "3 x 3 = 9\n",
            "3 x 4 = 12\n",
            "3 x 5 = 15\n",
            "3 x 6 = 18\n",
            "3 x 7 = 21\n",
            "3 x 8 = 24\n",
            "3 x 9 = 27\n",
            "3 x 10 = 30\n"
          ]
        }
      ]
    },
    {
      "cell_type": "code",
      "source": [
        "lista=range(1,11,1)\n",
        "for n in lista:\n",
        "  print(f\"{n} x {holitas} = {n*holitas}\")"
      ],
      "metadata": {
        "colab": {
          "base_uri": "https://localhost:8080/"
        },
        "id": "tj2Ube36BJyE",
        "outputId": "05e27796-7176-4c7b-dc3b-acbaaff4fc2a"
      },
      "execution_count": 25,
      "outputs": [
        {
          "output_type": "stream",
          "name": "stdout",
          "text": [
            "1 x 10 = 10\n",
            "2 x 10 = 20\n",
            "3 x 10 = 30\n",
            "4 x 10 = 40\n",
            "5 x 10 = 50\n",
            "6 x 10 = 60\n",
            "7 x 10 = 70\n",
            "8 x 10 = 80\n",
            "9 x 10 = 90\n",
            "10 x 10 = 100\n"
          ]
        }
      ]
    },
    {
      "cell_type": "markdown",
      "source": [
        "##5"
      ],
      "metadata": {
        "id": "ElVCZiIiCYWb"
      }
    },
    {
      "cell_type": "code",
      "source": [
        "user=[]\n",
        "n=0\n",
        "for i in range(5):\n",
        "  user.append(int(input(\"Ingresa un número \")))\n",
        "  n=n+user[i]\n",
        "prom= n/5\n",
        "print(prom)"
      ],
      "metadata": {
        "colab": {
          "base_uri": "https://localhost:8080/"
        },
        "id": "BEdXqxvlBvTs",
        "outputId": "47f5bbbe-083b-4b0d-b7a8-52b80154da10"
      },
      "execution_count": 32,
      "outputs": [
        {
          "output_type": "stream",
          "name": "stdout",
          "text": [
            "Ingresa un número 3\n",
            "Ingresa un número 4\n",
            "Ingresa un número 5\n",
            "Ingresa un número 6\n",
            "Ingresa un número 7\n",
            "5.0\n"
          ]
        }
      ]
    },
    {
      "cell_type": "code",
      "source": [
        "user"
      ],
      "metadata": {
        "colab": {
          "base_uri": "https://localhost:8080/"
        },
        "id": "7TLs-g1NERRi",
        "outputId": "8b05f946-93b4-4e08-84a8-e97633945020"
      },
      "execution_count": 31,
      "outputs": [
        {
          "output_type": "execute_result",
          "data": {
            "text/plain": [
              "[3, 4, 5, 6, 7]"
            ]
          },
          "metadata": {},
          "execution_count": 31
        }
      ]
    },
    {
      "cell_type": "code",
      "source": [
        "n1=int(input(\"Digite un número \"))\n",
        "n2=int(input(\"Digite otro número \"))\n",
        "n3=int(input(\"Digite otro número \"))\n",
        "n4=int(input(\"Digite otro número \"))\n",
        "n5=int(input(\"Digite otro número \"))\n",
        "prom=(n1+n2+n3+n4+n5)/5\n",
        "print(prom)"
      ],
      "metadata": {
        "colab": {
          "base_uri": "https://localhost:8080/"
        },
        "id": "F8T3oMkeFkMg",
        "outputId": "128cff38-0af6-4ecd-83ef-8aa2fd1259f8"
      },
      "execution_count": 34,
      "outputs": [
        {
          "output_type": "stream",
          "name": "stdout",
          "text": [
            "Digite un número 3\n",
            "Digite otro número 4\n",
            "Digite otro número 5\n",
            "Digite otro número 6\n",
            "Digite otro número 7\n",
            "5.0\n"
          ]
        }
      ]
    }
  ]
}