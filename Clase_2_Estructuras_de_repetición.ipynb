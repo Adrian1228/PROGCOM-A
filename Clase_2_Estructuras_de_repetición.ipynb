{
  "nbformat": 4,
  "nbformat_minor": 0,
  "metadata": {
    "colab": {
      "provenance": [],
      "authorship_tag": "ABX9TyPEk4OWA6DbGekITU34FT4W",
      "include_colab_link": true
    },
    "kernelspec": {
      "name": "python3",
      "display_name": "Python 3"
    },
    "language_info": {
      "name": "python"
    }
  },
  "cells": [
    {
      "cell_type": "markdown",
      "metadata": {
        "id": "view-in-github",
        "colab_type": "text"
      },
      "source": [
        "<a href=\"https://colab.research.google.com/github/Adrian1228/PROGCOM-A/blob/main/Clase_2_Estructuras_de_repetici%C3%B3n.ipynb\" target=\"_parent\"><img src=\"https://colab.research.google.com/assets/colab-badge.svg\" alt=\"Open In Colab\"/></a>"
      ]
    },
    {
      "cell_type": "markdown",
      "source": [
        "#Punto 1"
      ],
      "metadata": {
        "id": "rCPt-kq7IliW"
      }
    },
    {
      "cell_type": "markdown",
      "source": [
        "#Estructuras de repetición\n",
        "Permite repetir una o más acciones de acuerdo con una condición (mientras se cumple la condición)."
      ],
      "metadata": {
        "id": "wKpowmysQ0pP"
      }
    },
    {
      "cell_type": "markdown",
      "source": [
        "##Estructura para - for\n",
        "1.    Cuando se sabe cuántas veces se repite una acción.\n",
        "2.  Está conformado por una condición inicial (CI) una condición final (CF) y pasos (frecuencia de repetición).\n",
        "3.  Esta estructura no se detendrá, hasta alcanzar CF-1\n",
        "\n",
        "Estructura general del for\n",
        "\n",
        "\n",
        "```\n",
        "for (variabl) in range (CI, CF+1, paso):\n",
        "  Se repite (CF+1-C1)/paso veces una acción\n",
        "```\n",
        "Estructura resumida del for\n",
        "\n",
        "```\n",
        "for (variable) in range(cantidad):\n",
        "  Se repite cantidad de veces una acción\n",
        "```\n",
        "Estructura for como iteración\n",
        "1. El para (for) itera tantas veces, como elementos tenga la lista\n",
        "2. La variable toma el valor de cada elemento de la iteración\n",
        "\n",
        "```\n",
        "Lista=[1,2,3,4,5\n",
        "for(variable) in Lista:\n",
        "  Se reíte len(Lista)\n",
        "```\n",
        "\n",
        "\n",
        "\n"
      ],
      "metadata": {
        "id": "ZBkGNwPbRFbf"
      }
    },
    {
      "cell_type": "code",
      "source": [
        "#Hacer la tabla de multiplicar de un número n\n",
        "n=int(input(\"Digita un número: \"))"
      ],
      "metadata": {
        "colab": {
          "base_uri": "https://localhost:8080/"
        },
        "id": "OqeGzJP9Q0bH",
        "outputId": "e292a5d1-11c5-483c-aade-52b93c08764d"
      },
      "execution_count": null,
      "outputs": [
        {
          "name": "stdout",
          "output_type": "stream",
          "text": [
            "Digita un número: 2\n"
          ]
        }
      ]
    },
    {
      "cell_type": "code",
      "source": [
        "print(f\"Tabla del {n}\")\n",
        "for holitas in range(1,11,1):\n",
        "  print(f\"{n} x {holitas} = {n*holitas}\")"
      ],
      "metadata": {
        "colab": {
          "base_uri": "https://localhost:8080/"
        },
        "id": "WNf_gqVbQJBQ",
        "outputId": "5730c97f-1f78-499f-825f-579ec3941380"
      },
      "execution_count": null,
      "outputs": [
        {
          "output_type": "stream",
          "name": "stdout",
          "text": [
            "Tabla del 2\n",
            "2 x 1 = 2\n",
            "2 x 2 = 4\n",
            "2 x 3 = 6\n",
            "2 x 4 = 8\n",
            "2 x 5 = 10\n",
            "2 x 6 = 12\n",
            "2 x 7 = 14\n",
            "2 x 8 = 16\n",
            "2 x 9 = 18\n",
            "2 x 10 = 20\n"
          ]
        }
      ]
    },
    {
      "cell_type": "markdown",
      "source": [
        "#2"
      ],
      "metadata": {
        "id": "cug8JAr9VSXk"
      }
    },
    {
      "cell_type": "code",
      "source": [
        "print(\"Tablas del 1 al 10\\n\")\n",
        "print(\"\")\n",
        "for n in range(1,11,1):\n",
        "  for holitas in range(1,11,1):\n",
        "    print(f\"{holitas} x {n} = {holitas*n}\")\n",
        "  print(\"\")"
      ],
      "metadata": {
        "colab": {
          "base_uri": "https://localhost:8080/"
        },
        "id": "mzc8ZILqU2OM",
        "outputId": "671c0541-33c4-428d-a93c-9cc280336239"
      },
      "execution_count": null,
      "outputs": [
        {
          "output_type": "stream",
          "name": "stdout",
          "text": [
            "Tablas del 1 al 10\n",
            "\n",
            "\n",
            "1 x 1 = 1\n",
            "2 x 1 = 2\n",
            "3 x 1 = 3\n",
            "4 x 1 = 4\n",
            "5 x 1 = 5\n",
            "6 x 1 = 6\n",
            "7 x 1 = 7\n",
            "8 x 1 = 8\n",
            "9 x 1 = 9\n",
            "10 x 1 = 10\n",
            "\n",
            "1 x 2 = 2\n",
            "2 x 2 = 4\n",
            "3 x 2 = 6\n",
            "4 x 2 = 8\n",
            "5 x 2 = 10\n",
            "6 x 2 = 12\n",
            "7 x 2 = 14\n",
            "8 x 2 = 16\n",
            "9 x 2 = 18\n",
            "10 x 2 = 20\n",
            "\n",
            "1 x 3 = 3\n",
            "2 x 3 = 6\n",
            "3 x 3 = 9\n",
            "4 x 3 = 12\n",
            "5 x 3 = 15\n",
            "6 x 3 = 18\n",
            "7 x 3 = 21\n",
            "8 x 3 = 24\n",
            "9 x 3 = 27\n",
            "10 x 3 = 30\n",
            "\n",
            "1 x 4 = 4\n",
            "2 x 4 = 8\n",
            "3 x 4 = 12\n",
            "4 x 4 = 16\n",
            "5 x 4 = 20\n",
            "6 x 4 = 24\n",
            "7 x 4 = 28\n",
            "8 x 4 = 32\n",
            "9 x 4 = 36\n",
            "10 x 4 = 40\n",
            "\n",
            "1 x 5 = 5\n",
            "2 x 5 = 10\n",
            "3 x 5 = 15\n",
            "4 x 5 = 20\n",
            "5 x 5 = 25\n",
            "6 x 5 = 30\n",
            "7 x 5 = 35\n",
            "8 x 5 = 40\n",
            "9 x 5 = 45\n",
            "10 x 5 = 50\n",
            "\n",
            "1 x 6 = 6\n",
            "2 x 6 = 12\n",
            "3 x 6 = 18\n",
            "4 x 6 = 24\n",
            "5 x 6 = 30\n",
            "6 x 6 = 36\n",
            "7 x 6 = 42\n",
            "8 x 6 = 48\n",
            "9 x 6 = 54\n",
            "10 x 6 = 60\n",
            "\n",
            "1 x 7 = 7\n",
            "2 x 7 = 14\n",
            "3 x 7 = 21\n",
            "4 x 7 = 28\n",
            "5 x 7 = 35\n",
            "6 x 7 = 42\n",
            "7 x 7 = 49\n",
            "8 x 7 = 56\n",
            "9 x 7 = 63\n",
            "10 x 7 = 70\n",
            "\n",
            "1 x 8 = 8\n",
            "2 x 8 = 16\n",
            "3 x 8 = 24\n",
            "4 x 8 = 32\n",
            "5 x 8 = 40\n",
            "6 x 8 = 48\n",
            "7 x 8 = 56\n",
            "8 x 8 = 64\n",
            "9 x 8 = 72\n",
            "10 x 8 = 80\n",
            "\n",
            "1 x 9 = 9\n",
            "2 x 9 = 18\n",
            "3 x 9 = 27\n",
            "4 x 9 = 36\n",
            "5 x 9 = 45\n",
            "6 x 9 = 54\n",
            "7 x 9 = 63\n",
            "8 x 9 = 72\n",
            "9 x 9 = 81\n",
            "10 x 9 = 90\n",
            "\n",
            "1 x 10 = 10\n",
            "2 x 10 = 20\n",
            "3 x 10 = 30\n",
            "4 x 10 = 40\n",
            "5 x 10 = 50\n",
            "6 x 10 = 60\n",
            "7 x 10 = 70\n",
            "8 x 10 = 80\n",
            "9 x 10 = 90\n",
            "10 x 10 = 100\n",
            "\n"
          ]
        }
      ]
    },
    {
      "cell_type": "code",
      "source": [
        "print(f\"Tabla del {n}\")\n",
        "for holitas in range (10):\n",
        "    print(f\"{n} x {holitas+1} = {n*(holitas+1)}\")"
      ],
      "metadata": {
        "colab": {
          "base_uri": "https://localhost:8080/"
        },
        "id": "FzTpocu8ZD74",
        "outputId": "fb2f106d-d6f6-42a0-b7c5-39f57a55dbb1"
      },
      "execution_count": null,
      "outputs": [
        {
          "output_type": "stream",
          "name": "stdout",
          "text": [
            "Tabla del 2\n",
            "2 x 1 = 2\n",
            "2 x 2 = 4\n",
            "2 x 3 = 6\n",
            "2 x 4 = 8\n",
            "2 x 5 = 10\n",
            "2 x 6 = 12\n",
            "2 x 7 = 14\n",
            "2 x 8 = 16\n",
            "2 x 9 = 18\n",
            "2 x 10 = 20\n"
          ]
        }
      ]
    },
    {
      "cell_type": "code",
      "source": [
        "print(f\"Tabla del {n}\")\n",
        "for holitas in range (n,11*n,n):\n",
        "  print(f\"{n} x {int(holitas/n)} = {n*int(holitas/n)}\")"
      ],
      "metadata": {
        "colab": {
          "base_uri": "https://localhost:8080/"
        },
        "id": "XjP7Wn91eW0z",
        "outputId": "d117dc0a-b254-43e1-fa80-ddbf1f531bbe"
      },
      "execution_count": null,
      "outputs": [
        {
          "output_type": "stream",
          "name": "stdout",
          "text": [
            "Tabla del 2\n",
            "2 x 1 = 2\n",
            "2 x 2 = 4\n",
            "2 x 3 = 6\n",
            "2 x 4 = 8\n",
            "2 x 5 = 10\n",
            "2 x 6 = 12\n",
            "2 x 7 = 14\n",
            "2 x 8 = 16\n",
            "2 x 9 = 18\n",
            "2 x 10 = 20\n"
          ]
        }
      ]
    },
    {
      "cell_type": "code",
      "source": [
        "numeros=(1,2,3,4,5,6,7,8,9,10)\n",
        "for num in numeros:\n",
        "  print(f\"{n} x {num} = {n*num}\")"
      ],
      "metadata": {
        "colab": {
          "base_uri": "https://localhost:8080/"
        },
        "id": "cqcRKCi2gAFi",
        "outputId": "546f42cc-c9b4-406b-bc8f-3e9cda685695"
      },
      "execution_count": null,
      "outputs": [
        {
          "output_type": "stream",
          "name": "stdout",
          "text": [
            "2 x 1 = 2\n",
            "2 x 2 = 4\n",
            "2 x 3 = 6\n",
            "2 x 4 = 8\n",
            "2 x 5 = 10\n",
            "2 x 6 = 12\n",
            "2 x 7 = 14\n",
            "2 x 8 = 16\n",
            "2 x 9 = 18\n",
            "2 x 10 = 20\n"
          ]
        }
      ]
    },
    {
      "cell_type": "code",
      "source": [
        "numeros2=list(range(1,11))\n",
        "numeros2"
      ],
      "metadata": {
        "colab": {
          "base_uri": "https://localhost:8080/"
        },
        "id": "OhcHg5aihMp5",
        "outputId": "1ce9518f-d921-46ab-80b3-8ccb592769d7"
      },
      "execution_count": null,
      "outputs": [
        {
          "output_type": "execute_result",
          "data": {
            "text/plain": [
              "[1, 2, 3, 4, 5, 6, 7, 8, 9, 10]"
            ]
          },
          "metadata": {},
          "execution_count": 16
        }
      ]
    },
    {
      "cell_type": "code",
      "source": [
        "for num in numeros2:\n",
        "   print(f\"{n} x {num} ={n*num}\")"
      ],
      "metadata": {
        "colab": {
          "base_uri": "https://localhost:8080/"
        },
        "id": "9CjNfK2MhSog",
        "outputId": "4e236918-e2ad-4966-ceb4-ee54757d2c01"
      },
      "execution_count": null,
      "outputs": [
        {
          "output_type": "stream",
          "name": "stdout",
          "text": [
            "2 x 1 =2\n",
            "2 x 2 =4\n",
            "2 x 3 =6\n",
            "2 x 4 =8\n",
            "2 x 5 =10\n",
            "2 x 6 =12\n",
            "2 x 7 =14\n",
            "2 x 8 =16\n",
            "2 x 9 =18\n",
            "2 x 10 =20\n"
          ]
        }
      ]
    },
    {
      "cell_type": "markdown",
      "source": [
        "##Listas\n",
        "1. Es un tipo de dato\n",
        "2. Todos los elemenos de una lista, **deben** separarse por comas\n",
        "2. Forma canónica para declarar una lista\n",
        "\n",
        "\n",
        "```\n",
        "(variable)=[]\n",
        "```\n"
      ],
      "metadata": {
        "id": "sdFn0KpTzNoQ"
      }
    },
    {
      "cell_type": "code",
      "source": [
        "dahlia=3 #variable de tipo numérica, int\n",
        "rosa=\"cinco\" #variable de tipo alfanumérico, str\n",
        "Flores=[\"amapola\", \"tulipan\",\"lengua de suegra\", dahlia, rosa]"
      ],
      "metadata": {
        "id": "35opSodDzM54"
      },
      "execution_count": null,
      "outputs": []
    },
    {
      "cell_type": "markdown",
      "source": [
        "4. Manual.\n",
        "\n",
        "\n",
        "```\n",
        "Lista2=[dato1, dato2, dato3,...datoN]\n",
        "\n",
        "```\n",
        "5. Siempre son finitas\n",
        "6. Son indexadas\n",
        "\n",
        "\n",
        "```\n",
        "Lista2=[dato1, dato2, dato3,...datoN]\n",
        "\n",
        "```\n",
        "dato1 está en el index 0\n",
        "dato 2 está ubicado en el index 1\n",
        "7. Estrucutras **para** para la creación de listas.\n",
        "\n",
        "\n",
        "```\n",
        "#Ejemplo: Crear una lista de 5 elementos\n",
        "lista=[] #Para que el programa sepa que es una lista\n",
        " for loquesea in range (5):\n",
        "  lista=input(\"Ingrese el nombre de una flor\")\n",
        "```\n",
        "\n",
        "\n",
        "\n"
      ],
      "metadata": {
        "id": "ZfwFVRPP0pfH"
      }
    },
    {
      "cell_type": "code",
      "source": [
        "lista=input(\"Ingrese el nombre de una flor \")"
      ],
      "metadata": {
        "colab": {
          "base_uri": "https://localhost:8080/"
        },
        "id": "JWHhGnr90pKH",
        "outputId": "3daba5a5-6fa2-4294-eff2-5fe8dafcc0af"
      },
      "execution_count": null,
      "outputs": [
        {
          "name": "stdout",
          "output_type": "stream",
          "text": [
            "Ingrese el nombre de una flor 1\n",
            "Ingrese el nombre de una flor 2\n",
            "Ingrese el nombre de una flor \n",
            "Ingrese el nombre de una flor 4\n",
            "Ingrese el nombre de una flor 5\n"
          ]
        }
      ]
    },
    {
      "cell_type": "code",
      "source": [
        "lista=[]\n",
        "for loquesea in range (5):\n",
        "  lista.append(loquesea)"
      ],
      "metadata": {
        "id": "1KQ-RBsR8M_A"
      },
      "execution_count": null,
      "outputs": []
    },
    {
      "cell_type": "code",
      "source": [
        "lista"
      ],
      "metadata": {
        "colab": {
          "base_uri": "https://localhost:8080/",
          "height": 35
        },
        "id": "-lITjfG781kz",
        "outputId": "ad439f2d-1da2-4512-b696-b17d972f6fd9"
      },
      "execution_count": null,
      "outputs": [
        {
          "output_type": "execute_result",
          "data": {
            "text/plain": [
              "'6'"
            ],
            "application/vnd.google.colaboratory.intrinsic+json": {
              "type": "string"
            }
          },
          "metadata": {},
          "execution_count": 17
        }
      ]
    },
    {
      "cell_type": "code",
      "source": [
        "Flores"
      ],
      "metadata": {
        "colab": {
          "base_uri": "https://localhost:8080/"
        },
        "id": "TboZFTuW4mEn",
        "outputId": "f41cef44-002a-4039-b4e7-75aefbd77a14"
      },
      "execution_count": null,
      "outputs": [
        {
          "output_type": "execute_result",
          "data": {
            "text/plain": [
              "['amapola', 'tulipan', 'lengua de suegra', 3, 'cinco']"
            ]
          },
          "metadata": {},
          "execution_count": 4
        }
      ]
    },
    {
      "cell_type": "code",
      "source": [
        "#Quiero saber quién está en la primera posición\n",
        "Flores[0]"
      ],
      "metadata": {
        "id": "nFop2ES740_1"
      },
      "execution_count": null,
      "outputs": []
    },
    {
      "cell_type": "code",
      "source": [
        "Flores[4]"
      ],
      "metadata": {
        "colab": {
          "base_uri": "https://localhost:8080/",
          "height": 35
        },
        "id": "6dyHWyM948Wt",
        "outputId": "564ec49b-2ccd-4c18-ed12-8ba0daef07c2"
      },
      "execution_count": null,
      "outputs": [
        {
          "output_type": "execute_result",
          "data": {
            "text/plain": [
              "'cinco'"
            ],
            "application/vnd.google.colaboratory.intrinsic+json": {
              "type": "string"
            }
          },
          "metadata": {},
          "execution_count": 5
        }
      ]
    },
    {
      "cell_type": "code",
      "source": [
        "len(Flores)"
      ],
      "metadata": {
        "colab": {
          "base_uri": "https://localhost:8080/"
        },
        "id": "x9Jzbz-l5M7l",
        "outputId": "a2f65648-5c6c-4408-d74a-3b7ba9f91fb1"
      },
      "execution_count": null,
      "outputs": [
        {
          "output_type": "execute_result",
          "data": {
            "text/plain": [
              "5"
            ]
          },
          "metadata": {},
          "execution_count": 7
        }
      ]
    },
    {
      "cell_type": "code",
      "source": [
        "Flores[len(Flores)-1]"
      ],
      "metadata": {
        "colab": {
          "base_uri": "https://localhost:8080/",
          "height": 35
        },
        "id": "lIdIrBUa5UO8",
        "outputId": "d436e08a-044d-429f-f441-116a411659c4"
      },
      "execution_count": null,
      "outputs": [
        {
          "output_type": "execute_result",
          "data": {
            "text/plain": [
              "'cinco'"
            ],
            "application/vnd.google.colaboratory.intrinsic+json": {
              "type": "string"
            }
          },
          "metadata": {},
          "execution_count": 8
        }
      ]
    },
    {
      "cell_type": "code",
      "source": [
        "Flores. index(\"lengua de suegra\")"
      ],
      "metadata": {
        "colab": {
          "base_uri": "https://localhost:8080/"
        },
        "id": "4FBNQbek5dc1",
        "outputId": "e47a4472-7f3f-49e8-8a68-0137962d858f"
      },
      "execution_count": null,
      "outputs": [
        {
          "output_type": "execute_result",
          "data": {
            "text/plain": [
              "2"
            ]
          },
          "metadata": {},
          "execution_count": 10
        }
      ]
    },
    {
      "cell_type": "markdown",
      "source": [
        "#EJERCICIOS"
      ],
      "metadata": {
        "id": "5Yqu5DRD9ziP"
      }
    },
    {
      "cell_type": "markdown",
      "source": [
        "##1"
      ],
      "metadata": {
        "id": "wlBOxh2YALEs"
      }
    },
    {
      "cell_type": "code",
      "source": [
        "for n in range(1,11):\n",
        "  print(n)"
      ],
      "metadata": {
        "colab": {
          "base_uri": "https://localhost:8080/"
        },
        "id": "r9T0m9Nm9y-Y",
        "outputId": "b771b3ed-a842-4c49-afc5-f669ff1c7f95"
      },
      "execution_count": null,
      "outputs": [
        {
          "output_type": "stream",
          "name": "stdout",
          "text": [
            "1\n",
            "2\n",
            "3\n",
            "4\n",
            "5\n",
            "6\n",
            "7\n",
            "8\n",
            "9\n",
            "10\n"
          ]
        }
      ]
    },
    {
      "cell_type": "code",
      "source": [
        "lista=range(1,11)\n",
        "for n in lista:\n",
        "  print(n)"
      ],
      "metadata": {
        "colab": {
          "base_uri": "https://localhost:8080/"
        },
        "id": "NTskU1o-_rC-",
        "outputId": "c0444d6a-4c21-4c97-9966-e98671b8d14a"
      },
      "execution_count": null,
      "outputs": [
        {
          "output_type": "stream",
          "name": "stdout",
          "text": [
            "1\n",
            "2\n",
            "3\n",
            "4\n",
            "5\n",
            "6\n",
            "7\n",
            "8\n",
            "9\n",
            "10\n"
          ]
        }
      ]
    },
    {
      "cell_type": "markdown",
      "source": [
        "##2"
      ],
      "metadata": {
        "id": "sM7sbqmoAQPV"
      }
    },
    {
      "cell_type": "code",
      "source": [
        "suma=0\n",
        "for i in range(1,101):\n",
        "  suma+=i\n",
        "print(f\"La suma de los números del 1 al 100 es de {suma}\")"
      ],
      "metadata": {
        "colab": {
          "base_uri": "https://localhost:8080/"
        },
        "id": "4Vzh_U_6ADPt",
        "outputId": "e620944c-4754-49a3-e603-0f6e29b65232"
      },
      "execution_count": null,
      "outputs": [
        {
          "output_type": "stream",
          "name": "stdout",
          "text": [
            "La suma de los números del 1 al 100 es de 5050\n"
          ]
        }
      ]
    },
    {
      "cell_type": "code",
      "source": [
        "suma=0\n",
        "lista=range(1,101)\n",
        "for n in lista:\n",
        "  suma+=n\n",
        "print(f\"La suma de los números del 1 al 100 es de {suma}\")"
      ],
      "metadata": {
        "colab": {
          "base_uri": "https://localhost:8080/"
        },
        "id": "MaLr9Yyu_M6Q",
        "outputId": "6e28d000-ecfa-4708-b065-2cb286d2ae50"
      },
      "execution_count": null,
      "outputs": [
        {
          "output_type": "stream",
          "name": "stdout",
          "text": [
            "La suma de los números del 1 al 100 es de 5050\n"
          ]
        }
      ]
    },
    {
      "cell_type": "markdown",
      "source": [
        "##3"
      ],
      "metadata": {
        "id": "-n7vCngkAaa0"
      }
    },
    {
      "cell_type": "code",
      "source": [
        "for n in range(3,31,3):\n",
        "  print(n)"
      ],
      "metadata": {
        "colab": {
          "base_uri": "https://localhost:8080/"
        },
        "id": "6jbVbrNtAcIM",
        "outputId": "8bf9ec1d-1d5a-48a9-fa3c-e4af6a710079"
      },
      "execution_count": null,
      "outputs": [
        {
          "output_type": "stream",
          "name": "stdout",
          "text": [
            "3\n",
            "6\n",
            "9\n",
            "12\n",
            "15\n",
            "18\n",
            "21\n",
            "24\n",
            "27\n",
            "30\n"
          ]
        }
      ]
    },
    {
      "cell_type": "code",
      "source": [
        "lista=range(3,31,3)\n",
        "for n in lista:\n",
        "  print(n)"
      ],
      "metadata": {
        "colab": {
          "base_uri": "https://localhost:8080/"
        },
        "id": "I01hJOZYAqiE",
        "outputId": "70c900fd-d411-4c34-b88e-9816915e6f0e"
      },
      "execution_count": null,
      "outputs": [
        {
          "output_type": "stream",
          "name": "stdout",
          "text": [
            "3\n",
            "6\n",
            "9\n",
            "12\n",
            "15\n",
            "18\n",
            "21\n",
            "24\n",
            "27\n",
            "30\n"
          ]
        }
      ]
    },
    {
      "cell_type": "markdown",
      "source": [
        "##4"
      ],
      "metadata": {
        "id": "DT0fOydCAz2d"
      }
    },
    {
      "cell_type": "code",
      "source": [
        "n=int(input(\"Ingresa un número\"))\n",
        "print(f\"Tabla del {n}\")\n",
        "for holitas in range(1,11,1):\n",
        "  print(f\"{n} x {holitas} = {n*holitas}\")"
      ],
      "metadata": {
        "colab": {
          "base_uri": "https://localhost:8080/"
        },
        "id": "4N32hb76AzmM",
        "outputId": "1c548201-3859-4092-edf7-4f4bcb492467"
      },
      "execution_count": null,
      "outputs": [
        {
          "output_type": "stream",
          "name": "stdout",
          "text": [
            "Ingresa un número3\n",
            "Tabla del 3\n",
            "3 x 1 = 3\n",
            "3 x 2 = 6\n",
            "3 x 3 = 9\n",
            "3 x 4 = 12\n",
            "3 x 5 = 15\n",
            "3 x 6 = 18\n",
            "3 x 7 = 21\n",
            "3 x 8 = 24\n",
            "3 x 9 = 27\n",
            "3 x 10 = 30\n"
          ]
        }
      ]
    },
    {
      "cell_type": "code",
      "source": [
        "lista=range(1,11,1)\n",
        "for n in lista:\n",
        "  print(f\"{n} x {holitas} = {n*holitas}\")"
      ],
      "metadata": {
        "colab": {
          "base_uri": "https://localhost:8080/"
        },
        "id": "tj2Ube36BJyE",
        "outputId": "c1616af4-3093-4061-c650-b39debcc8fc9"
      },
      "execution_count": null,
      "outputs": [
        {
          "output_type": "stream",
          "name": "stdout",
          "text": [
            "1 x 10 = 10\n",
            "2 x 10 = 20\n",
            "3 x 10 = 30\n",
            "4 x 10 = 40\n",
            "5 x 10 = 50\n",
            "6 x 10 = 60\n",
            "7 x 10 = 70\n",
            "8 x 10 = 80\n",
            "9 x 10 = 90\n",
            "10 x 10 = 100\n"
          ]
        }
      ]
    },
    {
      "cell_type": "markdown",
      "source": [
        "##5"
      ],
      "metadata": {
        "id": "ElVCZiIiCYWb"
      }
    },
    {
      "cell_type": "code",
      "source": [
        "user=[]\n",
        "n=0\n",
        "for i in range(5):\n",
        "  user.append(int(input(\"Ingresa un número \")))\n",
        "  n=n+user[i]\n",
        "prom= n/5\n",
        "print(prom)"
      ],
      "metadata": {
        "colab": {
          "base_uri": "https://localhost:8080/"
        },
        "id": "BEdXqxvlBvTs",
        "outputId": "b284cd0a-6c05-4806-e51d-9a7dc7141344"
      },
      "execution_count": null,
      "outputs": [
        {
          "output_type": "stream",
          "name": "stdout",
          "text": [
            "Ingresa un número 8\n",
            "Ingresa un número 6\n",
            "Ingresa un número 3\n",
            "Ingresa un número 21\n",
            "Ingresa un número 17\n",
            "11.0\n"
          ]
        }
      ]
    },
    {
      "cell_type": "code",
      "source": [
        "user"
      ],
      "metadata": {
        "colab": {
          "base_uri": "https://localhost:8080/"
        },
        "id": "7TLs-g1NERRi",
        "outputId": "8b05f946-93b4-4e08-84a8-e97633945020"
      },
      "execution_count": null,
      "outputs": [
        {
          "output_type": "execute_result",
          "data": {
            "text/plain": [
              "[3, 4, 5, 6, 7]"
            ]
          },
          "metadata": {},
          "execution_count": 31
        }
      ]
    },
    {
      "cell_type": "code",
      "source": [
        "n1=int(input(\"Digite un número \"))\n",
        "n2=int(input(\"Digite otro número \"))\n",
        "n3=int(input(\"Digite otro número \"))\n",
        "n4=int(input(\"Digite otro número \"))\n",
        "n5=int(input(\"Digite otro número \"))\n",
        "prom=(n1+n2+n3+n4+n5)/5\n",
        "print(prom)"
      ],
      "metadata": {
        "colab": {
          "base_uri": "https://localhost:8080/"
        },
        "id": "F8T3oMkeFkMg",
        "outputId": "8cb30a81-5748-4296-b17c-e5dd658d552b"
      },
      "execution_count": null,
      "outputs": [
        {
          "output_type": "stream",
          "name": "stdout",
          "text": [
            "Digite un número 2\n",
            "Digite otro número 3\n",
            "Digite otro número 4\n",
            "Digite otro número 5\n",
            "Digite otro número 6\n",
            "4.0\n"
          ]
        }
      ]
    },
    {
      "cell_type": "markdown",
      "source": [
        "#6"
      ],
      "metadata": {
        "id": "kyC18KIAYdVN"
      }
    },
    {
      "cell_type": "code",
      "source": [
        "n=int(input(\"Ingrese un número \"))\n",
        "cont=0\n",
        "for n in range(1,n+1):\n",
        "  if n % 2 == 0:\n",
        "    cont+=1\n",
        "print(f\"Entre 1 y {n} hay {cont} pares\")"
      ],
      "metadata": {
        "colab": {
          "base_uri": "https://localhost:8080/"
        },
        "id": "RiY5Rjy4YcqT",
        "outputId": "de19ea52-7832-4d7a-8da2-65e629b21560"
      },
      "execution_count": 10,
      "outputs": [
        {
          "output_type": "stream",
          "name": "stdout",
          "text": [
            "Ingrese un número 10\n",
            "Entre 1 y 10 hay 5 pares\n"
          ]
        }
      ]
    },
    {
      "cell_type": "code",
      "source": [
        "lista=(1, n+1)\n",
        "for n in lista:\n",
        "  if n % 2 == 0:\n",
        "    cont+=1\n",
        "print(f\"Entre 1 y {n} hay {cont} pares\")"
      ],
      "metadata": {
        "colab": {
          "base_uri": "https://localhost:8080/"
        },
        "id": "YoqO67qscDKV",
        "outputId": "960cfc1c-b3be-43ae-d757-9dd00fc03bbf"
      },
      "execution_count": 11,
      "outputs": [
        {
          "output_type": "stream",
          "name": "stdout",
          "text": [
            "Entre 1 y 11 hay 5 pares\n"
          ]
        }
      ]
    },
    {
      "cell_type": "markdown",
      "source": [
        "#7"
      ],
      "metadata": {
        "id": "BiwfIdn1cA2s"
      }
    },
    {
      "cell_type": "code",
      "source": [
        "apell=input(\"Ingresa tu apellido: \")\n",
        "lon=len(apell)\n",
        "c=input(\"Ingresa una contraseña, debe tener tu apellido y el número de letras que tiene \")\n",
        "if c==apell + str(lon):\n",
        "  print(\"Bien, Contraseña creada\")\n",
        "else:\n",
        "  print(\"Algo salió mal, revisa el número o el apellido \")"
      ],
      "metadata": {
        "id": "QRNUu-Xpej9l",
        "colab": {
          "base_uri": "https://localhost:8080/"
        },
        "outputId": "e538d451-6ce3-4d11-fd04-ac1534a1e19c"
      },
      "execution_count": 40,
      "outputs": [
        {
          "output_type": "stream",
          "name": "stdout",
          "text": [
            "Ingresa tu apellido: alvarez\n",
            "Ingresa una contraseña, debe tener tu apellido y el número de letras que tiene alvarez7\n",
            "Bien, Contraseña creada\n"
          ]
        }
      ]
    },
    {
      "cell_type": "code",
      "source": [
        "apell=input(\"Ingresa tu apellido: \")\n",
        "lon=len(apell)\n",
        "x=apell + str(lon)\n",
        "for i in range(4):\n",
        "  c=input(\"Ingresa una contraseña, debe tener tu apellido y el número de letras que tiene \")\n",
        "  if c == x:\n",
        "    print(\"Bien, Contraseña creada\")\n",
        "    break\n",
        "else:\n",
        "  print(\"Algo salió mal, revisa el número o el apellido \")"
      ],
      "metadata": {
        "colab": {
          "base_uri": "https://localhost:8080/"
        },
        "id": "bVPuXoEaPw8n",
        "outputId": "5c2c93a1-51fd-4679-8df7-b8931cf08ae5"
      },
      "execution_count": 43,
      "outputs": [
        {
          "output_type": "stream",
          "name": "stdout",
          "text": [
            "Ingresa tu apellido: alvarez\n",
            "Ingresa una contraseña, debe tener tu apellido y el número de letras que tiene alvar7\n",
            "Ingresa una contraseña, debe tener tu apellido y el número de letras que tiene alvarez7\n",
            "Bien, Contraseña creada\n"
          ]
        }
      ]
    },
    {
      "cell_type": "markdown",
      "source": [
        "#8"
      ],
      "metadata": {
        "id": "HofLlWmnekgH"
      }
    },
    {
      "cell_type": "code",
      "source": [
        "x=int(input(\"¿Cúantos números quieres que aparezcan de la serie de Fibonacci? \"))\n",
        "a, b=0,1\n",
        "print(f\"Los números de la serie de Fibonacci hasta {x} son: \")\n",
        "for i in range(x+1):\n",
        "  print(a)\n",
        "  a, b = b, a + b"
      ],
      "metadata": {
        "colab": {
          "base_uri": "https://localhost:8080/"
        },
        "id": "G__pKhRfYAcu",
        "outputId": "ce5d6edb-4650-4a87-b1a8-766880ec522e"
      },
      "execution_count": 95,
      "outputs": [
        {
          "output_type": "stream",
          "name": "stdout",
          "text": [
            "¿Cúantos números quieres que aparezcan de la serie de Fibonacci? 3\n",
            "Los números de la serie de Fibonacci hasta 3 son: \n",
            "0\n",
            "1\n",
            "1\n",
            "2\n"
          ]
        }
      ]
    },
    {
      "cell_type": "code",
      "source": [
        "x=int(input(\"¿Cúantos números quieres que aparezcan de la serie de Fibonacci? \"))\n",
        "a, b=0,1\n",
        "y=[]\n",
        "print(f\"Los números de la serie de Fibonacci hasta {x} son: \")\n",
        "for i in range(x+1):\n",
        "  print(a)\n",
        "  y.append(a)\n",
        "  a, b = b, a + b"
      ],
      "metadata": {
        "colab": {
          "base_uri": "https://localhost:8080/"
        },
        "id": "bSGSJK6YYf7b",
        "outputId": "18202192-ec94-4554-83f3-3d2632a878b0"
      },
      "execution_count": 97,
      "outputs": [
        {
          "output_type": "stream",
          "name": "stdout",
          "text": [
            "¿Cúantos números quieres que aparezcan de la serie de Fibonacci? 3\n",
            "Los números de la serie de Fibonacci hasta 3 son: \n",
            "0\n",
            "1\n",
            "1\n",
            "2\n"
          ]
        }
      ]
    },
    {
      "cell_type": "markdown",
      "source": [
        "#9"
      ],
      "metadata": {
        "id": "tKmXVFXoYgMF"
      }
    },
    {
      "cell_type": "code",
      "source": [
        "num=int(input(\"Ingresa un número \"))\n",
        "for n in range(2, num):\n",
        "  if num % n == 0:\n",
        "    print(f\"El número {num} no es primo\")\n",
        "    break\n",
        "else:\n",
        "    print(f\"El número {num} es primo\")"
      ],
      "metadata": {
        "colab": {
          "base_uri": "https://localhost:8080/"
        },
        "id": "CciKL3r4YiLe",
        "outputId": "6bc1f729-be35-4ebb-c7a2-04fc92bed37b"
      },
      "execution_count": 82,
      "outputs": [
        {
          "output_type": "stream",
          "name": "stdout",
          "text": [
            "Ingresa un número 73\n",
            "El número 73 es primo\n"
          ]
        }
      ]
    },
    {
      "cell_type": "code",
      "source": [
        "lista=(2, num)\n",
        "for n in lista:\n",
        "  if num % n == 0:\n",
        "    print(f\"El número {num} no es primo\")\n",
        "    break\n",
        "else:\n",
        "    print(f\"El número {num} es primo\")"
      ],
      "metadata": {
        "colab": {
          "base_uri": "https://localhost:8080/"
        },
        "id": "Ze5l1mwPZoZr",
        "outputId": "225b1f87-2355-465b-a3a6-12c1d803040a"
      },
      "execution_count": 83,
      "outputs": [
        {
          "output_type": "stream",
          "name": "stdout",
          "text": [
            "El número 73 no es primo\n"
          ]
        }
      ]
    },
    {
      "cell_type": "markdown",
      "source": [
        "#10"
      ],
      "metadata": {
        "id": "MOjbu611hqbR"
      }
    },
    {
      "cell_type": "code",
      "source": [
        "a=int(input(\"Ingresa la cantidad de números \"))\n",
        "b=0\n",
        "c=0\n",
        "d=0\n",
        "for i in range (1,a+1):\n",
        "  x=int(input(f\"Ingresa el valor {i} \"))\n",
        "  if x==0:\n",
        "    b=b+1\n",
        "  elif x>0:\n",
        "    c=c+1\n",
        "  else:\n",
        "    d=d+1\n",
        "print(f\"hay {c} positivos, {d} negativos y {b} que son 0\")"
      ],
      "metadata": {
        "colab": {
          "base_uri": "https://localhost:8080/"
        },
        "id": "JcZS972chrgT",
        "outputId": "ccfe3105-9e1e-4f74-dcd4-3104e5970434"
      },
      "execution_count": 113,
      "outputs": [
        {
          "output_type": "stream",
          "name": "stdout",
          "text": [
            "Ingresa la cantidad de números 3\n",
            "Ingresa el valor 1 1\n",
            "Ingresa el valor 2 -2\n",
            "Ingresa el valor 3 0\n",
            "hay 1 positivos, 1 negativos y 1 que son 0\n"
          ]
        }
      ]
    },
    {
      "cell_type": "code",
      "source": [
        "a=int(input(\"Ingresa la cantidad de números \"))\n",
        "b=0\n",
        "c=0\n",
        "d=0\n",
        "y=[]\n",
        "for i in range (1,a+1):\n",
        "  x=int(input(f\"Ingresa el valor {i} \"))\n",
        "  y.append(x)\n",
        "  if x==0:\n",
        "    b=b+1\n",
        "  elif x>0:\n",
        "    c=c+1\n",
        "  else:\n",
        "    d=d+1\n",
        "print(f\"hay {c} positivos, {d} negativos y {b} que son 0\")"
      ],
      "metadata": {
        "colab": {
          "base_uri": "https://localhost:8080/"
        },
        "id": "ZZllS0c_ni0s",
        "outputId": "9013c431-5f57-4cb4-f7ef-b1b837cb5db4"
      },
      "execution_count": 115,
      "outputs": [
        {
          "output_type": "stream",
          "name": "stdout",
          "text": [
            "Ingresa la cantidad de números 3\n",
            "Ingresa el valor 1 1\n",
            "Ingresa el valor 2 0\n",
            "Ingresa el valor 3 -3\n",
            "hay 1 positivos, 1 negativos y 1 que son 0\n"
          ]
        }
      ]
    }
  ]
}